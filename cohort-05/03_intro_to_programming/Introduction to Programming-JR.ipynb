{
 "cells": [
  {
   "cell_type": "markdown",
   "metadata": {
    "slideshow": {
     "slide_type": "slide"
    }
   },
   "source": [
    "# Introduction to Programming\n",
    "# ...Using Python\n",
    "### JR Rickerson\n",
    "### (jrrickerson@redrivetstudios.com)\n"
   ]
  },
  {
   "cell_type": "markdown",
   "metadata": {},
   "source": [
    "## Agenda\n",
    "    - Light intro to git / Bitbucket\n",
    "    - Intro to Programming with Python"
   ]
  },
  {
   "cell_type": "markdown",
   "metadata": {
    "slideshow": {
     "slide_type": "subslide"
    }
   },
   "source": [
    "# About This Course\n",
    "* This course is obviously not going to teach the same content as that of a Computer Science curriculum, but...\n",
    " * You'll learn how to write code, i.e., how to turn a __problem statement__ into code which will _solve_ that problem"
   ]
  },
  {
   "cell_type": "markdown",
   "metadata": {
    "slideshow": {
     "slide_type": "subslide"
    }
   },
   "source": [
    "* At its essence, that is ALL coding is about–converting a problem into code which solves that problem\n",
    "* It is _not_ easy–it will be challenging!\n",
    "* It will require a change in thinking!\n",
    "* ...and it will be fun!\n"
   ]
  },
  {
   "cell_type": "markdown",
   "metadata": {
    "slideshow": {
     "slide_type": "subslide"
    }
   },
   "source": [
    "# Now download this notebook, so you can follow along...\n",
    "* Go to your `master` branch in git\n",
    "* Use `git pull origin master` to pull the latest changes from `origin` (my copy) into your local repository.\n",
    "* Start the notebook with `jupyter notebook` as before"
   ]
  },
  {
   "cell_type": "markdown",
   "metadata": {
    "slideshow": {
     "slide_type": "subslide"
    }
   },
   "source": [
    "## Launching Jupyter\n",
    "\n",
    "* On a Mac:\n",
    "  * In __Terminal__, type  \n",
    "  __`jupyter notebook`__  \n",
    "   \n",
    "   \n",
    "* On Windows:\n",
    "  * In the __cmd__ window, type  \n",
    "  __`jupyter notebook`__\n",
    "\n",
    "\n",
    "* Navigate to the folder created from the zip file, and click on __`Introduction to Programming.ipynb`__"
   ]
  },
  {
   "cell_type": "markdown",
   "metadata": {
    "collapsed": true,
    "slideshow": {
     "slide_type": "subslide"
    }
   },
   "source": [
    "# How to get around on Jupyter:\n",
    "* Each place for you to enter text is called a _cell_\n",
    "* Usually you enter __`Python`__ code, but you can also enter text in a _markup_ language called __`Markdown`__ (that's what's going on in _this_ cell)\n",
    "* To \"run\" the code in the cell, hit __Shift-Return__ (i.e., hold down __Shift__ key, then hit __Return__)\n",
    "* Try it with the cell below..."
   ]
  },
  {
   "cell_type": "code",
   "execution_count": 1,
   "metadata": {},
   "outputs": [
    {
     "name": "stdout",
     "output_type": "stream",
     "text": [
      "4\n"
     ]
    }
   ],
   "source": [
    "x = 4\n",
    "print(x)"
   ]
  },
  {
   "cell_type": "markdown",
   "metadata": {
    "slideshow": {
     "slide_type": "subslide"
    }
   },
   "source": [
    "* we'll work inside the Jupyter notebook and you'll be able to take it with you as a living, breathing document of your work in this class\n",
    "* the __Insert__ menu will allow you to add a cell above or below the current cell\n",
    "* the __Kernel__ menu will allow you to \"talk\" to the Python interpreter on your machine\n",
    "  * (when you type into a cell, you are \"talking\" to the web browser, and the web browser sends the text to the __`Python`__ interpreter to be \"run\")\n",
    "  * the __Kernel__ menu will allow you to _restart_ your __`Python`__ interpreter in case something goes wrong and it stops responding to you\n",
    "  "
   ]
  },
  {
   "cell_type": "markdown",
   "metadata": {},
   "source": [
    "## Git - Adding an upstream remote\n",
    "### Why?\n",
    "* We have an original repository we created a fork from\n",
    "* We have made changes to our fork\n",
    "* Other contributors have also made changes to the original\n",
    "### How?\n",
    "`git checkout master` (make sure we're on master)  \n",
    "`git remote add upstream https://<repo url>`  \n",
    "`git pull upstream master`  "
   ]
  },
  {
   "cell_type": "code",
   "execution_count": null,
   "metadata": {
    "scrolled": true
   },
   "outputs": [],
   "source": [
    "!git remote -v"
   ]
  },
  {
   "cell_type": "markdown",
   "metadata": {
    "slideshow": {
     "slide_type": "slide"
    }
   },
   "source": [
    "# Basics of Computer Architecture"
   ]
  },
  {
   "cell_type": "markdown",
   "metadata": {
    "slideshow": {
     "slide_type": "subslide"
    }
   },
   "source": [
    "## Bits, Bytes, and Binary\n",
    "* a _bit_ (\"binary digit\") is the basic unit of information in computing (and digital communications)\n",
    "* a bit can have only one of two values, 0 or 1\n",
    "* the two values can also be interpreted as logical values (true/false, yes/no), etc.\n",
    "* a _byte_ is 8 bits, which you can think of a single character on the US keyboard\n",
    "![alt text](images/byte.png)\n",
    "\n"
   ]
  },
  {
   "cell_type": "markdown",
   "metadata": {
    "slideshow": {
     "slide_type": "subslide"
    }
   },
   "source": [
    "## Basics of Computer Architecture\n",
    "* in simplest terms, a computer consists of a __CPU__ (Central Processing Unit, or \"brain\") and memory\n",
    "* the job of the CPU is to _execute_ (or \"run\") instructions (or \"code\")\n",
    "* there are two types of instructions:\n",
    "  * those that transfer data from memory to the CPU (_load_) or vice versa (_store_)\n",
    "  * those that operate on data stored in the CPU (e.g., arithmetic operations such as addition or subtraction, or branching)\n",
    "* the CPU has a _clock speed_, which is the speed at which the CPU's internal clock _pulses_, i.e., the speed at which the CPU can do work\n",
    "  * e.g., 2.9 GHz (Gigahertz) = 2.9 billion cycles per second\n",
    "  * think of the clock speed as a drumbeat which signals when the next instruction can execute\n"
   ]
  },
  {
   "cell_type": "markdown",
   "metadata": {
    "collapsed": true,
    "slideshow": {
     "slide_type": "subslide"
    }
   },
   "source": [
    "## Block Diagram of a Simple CPU\n",
    "\n",
    "![alt text](images/block.png)\n",
    "* the ALU (arithmetic logic unit) handles operations on integers (whole numbers)\n",
    "* the FPU (floating point unit or \"math coprocessor\") handles operations on floating point (fractional) numbers\n",
    "* registers are memory \"slots\" in the CPU which hold data that the ALU or FPU manipulates"
   ]
  },
  {
   "cell_type": "markdown",
   "metadata": {
    "collapsed": true,
    "slideshow": {
     "slide_type": "subslide"
    }
   },
   "source": [
    "## Types of Computer Memory\n",
    "\n",
    "![alt text](images/computer-memory-pyramid.gif)\n",
    "\n",
    "* RAM = Random Access Memory\n",
    "  * \"short term\" memory\n",
    "  * stuff is stored in RAM while power is applied (i.e., computer is on)\n",
    "* secondary storage - hard drives, USB drives, flash drives, etc.\n",
    "  * \"long term\" memory\n",
    "  * data persists even when power is off\n",
    "* virtual memory\n",
    "  * a software trick which enables the computer to seem like it has more memory than it actually has\n",
    "  * unused blocks of memory are moved to the hard drive or other secondary storage device\n",
    "* cache\n",
    "  * super-fast memory inside the CPU used to keep data close by so the CPU doesn't have to continually move data in and out (cf. a web browser cache which holds images so that the next time you visit a website the browser doesn't have to download the image from the site, it can just grab it from the cache)"
   ]
  },
  {
   "cell_type": "markdown",
   "metadata": {
    "collapsed": true,
    "slideshow": {
     "slide_type": "subslide"
    }
   },
   "source": [
    "## How an Application is Run\n",
    "* The application (e.g., Microsoft Word) is stored on your hard drive or other secondary storage\n",
    "* When you double click on an application, the operating system (OS X, Windows, etc.) loads the application (or a portion of it) into RAM (details are OS-specific and not important for our discussion)\n"
   ]
  },
  {
   "cell_type": "markdown",
   "metadata": {
    "slideshow": {
     "slide_type": "subslide"
    }
   },
   "source": [
    "* An executable application such as Microsoft Word is a series of _instructions_ in a language that the CPU can understand (\"assembly language\" or \"machine language\")\n",
    "* The instructions are decoded and executed by the CPU\n",
    "* Note that modern computers (such as our laptops) have CPUs which are multi-core\n",
    "  * This means that the CPU itself has 2 or more _cores_, or processing units\n",
    "  * In other words, if your laptop has a dual-core CPU, it can run 2 things at once\n",
    "  * Of course, we are used to \"running\" many more applications simultaneously (e.g., web browser, mail client, Word, iTunes, etc.) but that is just an illusion–the operating system is _multi-tasking_ by running each \"runnable\" _process_ for a little while and then switching to the next one\n",
    "  * It does this fast enough that it appears that they are running simultaneously"
   ]
  },
  {
   "cell_type": "markdown",
   "metadata": {
    "slideshow": {
     "slide_type": "slide"
    }
   },
   "source": [
    "# What is Computer Programming?"
   ]
  },
  {
   "cell_type": "markdown",
   "metadata": {
    "slideshow": {
     "slide_type": "subslide"
    }
   },
   "source": [
    "## What is Computer Programming?\n",
    "* _Programming_ (or \"coding\") is a process that begins with the formulation of a (computing) problem and ends with the creation of an executable computer program\n",
    "* A (computer) _program_ is a set of statements or instructions that tells the computer what to do\n",
    "* In order to write a program, programmers often begin with an algorithm...\n",
    "\n"
   ]
  },
  {
   "cell_type": "markdown",
   "metadata": {
    "slideshow": {
     "slide_type": "subslide"
    }
   },
   "source": [
    "## What's an Algorithm?\n",
    "* An _algorithm_ is a process or set of rules to be followed in calculations or other problem-solving operations (usually, but not always by a computer)\n",
    "* For example, an algorithm for converting Fahrenheit temperatures into Celsius looks like this:\n",
    "  1. Subtract 32 from the Fahrenheit temperature\n",
    "  2. Multiply the result by 5/9\n",
    "* An algorithm for washing your hair...\n",
    "  1. Lather\n",
    "  2. Rinse\n",
    "  3. Repeat\n",
    "* An algorithm for getting a ping-pong ball out of a deep hole with a small diameter...\n",
    "  1. Fill the hole with water\n",
    "* In other words, an algorithm is like a recipe, listing each of the steps required to solve the problem"
   ]
  },
  {
   "cell_type": "markdown",
   "metadata": {
    "slideshow": {
     "slide_type": "subslide"
    }
   },
   "source": [
    "## What's Pseudocode?\n",
    "* a notation resembling a simplified programming language, often like a mixture of English and programming language constructs\n",
    "* often used to write down an algorithm in order to translate it into code\n",
    "* we will write pseudocode before we write our programs"
   ]
  },
  {
   "cell_type": "markdown",
   "metadata": {
    "slideshow": {
     "slide_type": "subslide"
    }
   },
   "source": [
    "## Debugging\n",
    "* the process of finding and fixing errors (typically called \"bugs\")\n",
    "* popularized by Grace Hopper, Ph.D., a Navy rear admiral and one of the first computer programmers\n",
    "* posthumously awarded the Presidential Medal of Freedom in 2016\n",
    "* https://en.wikipedia.org/wiki/Grace_Hopper\n"
   ]
  },
  {
   "cell_type": "markdown",
   "metadata": {
    "slideshow": {
     "slide_type": "subslide"
    }
   },
   "source": [
    "![alt text](images/H96566k.jpg)"
   ]
  },
  {
   "cell_type": "markdown",
   "metadata": {
    "slideshow": {
     "slide_type": "subslide"
    }
   },
   "source": [
    "## How Do Computers Understand Programming Languages?\n",
    "* the short answer is–\"they don't\"\n",
    "* programs we write in just about every programming language are either\n",
    "  * __translated__ into _machine language_ (the numeric equivalent of assembly language) or an intermediate language called _bytecode_\n",
    "    * this process is called _compilation_\n",
    "    * the tool which performs the compilation is called a _compiler_\n",
    "    * the language is referred to as a _compiled language_ (e.g., C/C++, Fortran)\n",
    "    * we can see the compilation process in action at http://godbolt.org/\n",
    "  * __interpreted__ by a program called an _interpreter_\n",
    "    * __`bash`__, which you may be familiar with, is an interpreted language\n",
    "  * __transpiled__ into another language (and then compiled or interpreted)\n",
    "    * e.g., CoffeeScript => JavaScript (and others), Eiffel => C++\n",
    "  \n"
   ]
  },
  {
   "cell_type": "markdown",
   "metadata": {
    "collapsed": true,
    "slideshow": {
     "slide_type": "subslide"
    }
   },
   "source": [
    "## Is Python a Compiled or Interpreted Language?\n",
    "* short answer–\"It's both!\"\n",
    "* __`Python`__ is first compiled into an \"intermediate\" language called _bytecode_\n",
    "* then the bytecode is interpreted by the __`Python`__ Virtual Machine (VM)\n",
    "* __`Java`__ works in a similar way in that it is first compiled into bytecode (a different bytecode than what __`Python`__ uses) and then interpreted by the __`Java`__ VM\n",
    "* this is a bit of an oversimplification, but we are not trying to be compiler/programming language experts"
   ]
  },
  {
   "cell_type": "markdown",
   "metadata": {
    "slideshow": {
     "slide_type": "subslide"
    }
   },
   "source": [
    "## Source Code vs. Object Code\n",
    "* _source code_ is collection of computer instructions written using a human-readable programming language\n",
    "  * source code may (and should) include _comments_\n",
    "  * source is plain text\n",
    "  * humans write source code\n",
    "* _object code_ consists of machine-readable instructions\n",
    "  * it's the output of a compiler, i.e., it's the compiled version of source code\n",
    "  * therefore, computers write object code\n",
    "  * files of object code (\"object files\") can be linked together to create executables (applications)\n",
    "  * on Linux and Linux-like systems, you will find files whose names end in __`.so`__–these are _shared object_ or \"library\" files"
   ]
  },
  {
   "cell_type": "markdown",
   "metadata": {
    "slideshow": {
     "slide_type": "subslide"
    }
   },
   "source": [
    "## Syntax Errors\n",
    "* __syntax__ = the set of rules that defines the combinations of symbols that are considered to be a correctly-written (valid) program\n",
    "* a __syntax error__ is an error in syntax, i.e., a violation of the rules that define a valid program\n",
    "* syntax in programming is more like grammar in English\n",
    "  * The dog chases the cat\n",
    "  * The dogs chases the cat (_syntax error–subject/verb agreement_)\n",
    "* syntax errors are caught by the compiler or interpreter\n",
    "  * sometimes called __compile time__ errors\n",
    "    * remember that in a compiled language, compilation is a completely independent step from running the program\n",
    "  * a program can only run if it's __syntactically correct__"
   ]
  },
  {
   "cell_type": "markdown",
   "metadata": {
    "slideshow": {
     "slide_type": "subslide"
    }
   },
   "source": [
    "## Runtime Errors\n",
    "* as the name suggests, these are errors that occur when you run the program, as opposed to when you compile the program\n",
    "* with an interpreted language such as Python, the distinction between syntax and runtime errors is not as obvious–in both cases the interpreter will stop interpreting your code and will report an error\n",
    "* runtime errors are often called __exceptions__"
   ]
  },
  {
   "cell_type": "markdown",
   "metadata": {
    "slideshow": {
     "slide_type": "subslide"
    }
   },
   "source": [
    "## Semantic Errors\n",
    "* a __semantic error__ occurs when your program is syntactically correct, but you told the computer to do the wrong thing\n",
    "* for example, if you wrote a program to convert Fahrenheit to Celsius and you added 32 to the temperature instead of subtracting\n",
    "  * the program will run, but it will give you the wrong result\n",
    "  * remember that the computer will do what you tell it to do, but that doesn't mean it's what you want it to do! \n",
    "* a semantic error _may_ cause a runtime error, but usually they don't, and they can be difficult to debug"
   ]
  },
  {
   "cell_type": "markdown",
   "metadata": {
    "collapsed": true,
    "slideshow": {
     "slide_type": "slide"
    }
   },
   "source": [
    "# Introducing Python"
   ]
  },
  {
   "cell_type": "markdown",
   "metadata": {
    "slideshow": {
     "slide_type": "subslide"
    }
   },
   "source": [
    "## Introducing Python\n",
    "* Python is a _high-level_ language, meaning it is\n",
    "  * easy to get started with\n",
    "  * fun to use"
   ]
  },
  {
   "cell_type": "markdown",
   "metadata": {
    "slideshow": {
     "slide_type": "subslide"
    }
   },
   "source": [
    "* there are two ways to use Python: interactive (or \"command line\") mode, and script (or program) mode\n",
    "* we'll start in interactive mode\n",
    "* type the following into the next cell of this notebook, then hit __`SHIFT-RETURN`__ to send the text to Python\n",
    "\n",
    "   __`2 + 2`__"
   ]
  },
  {
   "cell_type": "code",
   "execution_count": 3,
   "metadata": {},
   "outputs": [
    {
     "data": {
      "text/plain": [
       "4"
      ]
     },
     "execution_count": 3,
     "metadata": {},
     "output_type": "execute_result"
    }
   ],
   "source": [
    "2 + 2"
   ]
  },
  {
   "cell_type": "markdown",
   "metadata": {
    "slideshow": {
     "slide_type": "subslide"
    }
   },
   "source": [
    "## Let's try a few other calculations using Python..."
   ]
  },
  {
   "cell_type": "code",
   "execution_count": 4,
   "metadata": {},
   "outputs": [
    {
     "data": {
      "text/plain": [
       "100.0"
      ]
     },
     "execution_count": 4,
     "metadata": {},
     "output_type": "execute_result"
    }
   ],
   "source": [
    "# the '#' symbol precedes a comment...\n",
    "# ...which is text that Python ignores\n",
    "# so let's convert Fahrenheit to Celsius...\n",
    "(212 - 32) * 5 / 9"
   ]
  },
  {
   "cell_type": "code",
   "execution_count": 5,
   "metadata": {},
   "outputs": [
    {
     "data": {
      "text/plain": [
       "1000000000000000000000000000000000000000000000000000000000000000000000000000000"
      ]
     },
     "execution_count": 5,
     "metadata": {},
     "output_type": "execute_result"
    }
   ],
   "source": [
    "# roughly the number of atoms in the universe\n",
    "10 ** 78"
   ]
  },
  {
   "cell_type": "code",
   "execution_count": 6,
   "metadata": {},
   "outputs": [
    {
     "data": {
      "text/plain": [
       "1.3333333333333333"
      ]
     },
     "execution_count": 6,
     "metadata": {},
     "output_type": "execute_result"
    }
   ],
   "source": [
    "4 / 3"
   ]
  },
  {
   "cell_type": "code",
   "execution_count": 7,
   "metadata": {},
   "outputs": [
    {
     "data": {
      "text/plain": [
       "1"
      ]
     },
     "execution_count": 7,
     "metadata": {},
     "output_type": "execute_result"
    }
   ],
   "source": [
    "# // is integer division (technically it's \"floor division\", but we can\n",
    "# ignore the difference for now)\n",
    "4 // 3"
   ]
  },
  {
   "cell_type": "markdown",
   "metadata": {
    "slideshow": {
     "slide_type": "subslide"
    }
   },
   "source": [
    "## Writing Our First Program\n",
    "* when learning a new programming language, it's customary to write a _hello world_ program, that is, a program which simply prints out \"Hello, world!\"\n",
    "* type the following into the next cell and then hit __`SHIFT-RETURN`__\n",
    "\n",
    "    __`print('Hello, world!')`__"
   ]
  },
  {
   "cell_type": "code",
   "execution_count": 8,
   "metadata": {
    "scrolled": true
   },
   "outputs": [
    {
     "name": "stdout",
     "output_type": "stream",
     "text": [
      "Hello, world!\n"
     ]
    }
   ],
   "source": [
    "print('Hello, world!')"
   ]
  },
  {
   "cell_type": "markdown",
   "metadata": {
    "slideshow": {
     "slide_type": "subslide"
    }
   },
   "source": [
    "## Analzying our First Program\n",
    "* We used Python's builtin __`print`__ _function_ to print text to the screen\n",
    "* OK...so what's a function?"
   ]
  },
  {
   "cell_type": "markdown",
   "metadata": {
    "slideshow": {
     "slide_type": "subslide"
    }
   },
   "source": [
    "## What is a Function?\n",
    "* a function is a named sequence of program statements that perform a specific task (in this case, the task was outputting to the screen)\n",
    "* a function can be used in a program wherever that particular task is needed\n",
    "* we can create our own functions, or we can rely on builtin functions as above"
   ]
  },
  {
   "cell_type": "markdown",
   "metadata": {
    "slideshow": {
     "slide_type": "subslide"
    }
   },
   "source": [
    "## What is a Function? (cont'd)\n",
    "* when you call or _invoke_ a function, you write its name, followed by the data you wish to send into the function (often called _arguments_) in parentheses...\n",
    "* if you wish to send no data to the function, you still include the parentheses\n",
    "  * e.g., __`print()`__ will print a blank line\n",
    "  * ... vs. __`print('Hello, world!')`__ as we did in our first program"
   ]
  },
  {
   "cell_type": "markdown",
   "metadata": {
    "slideshow": {
     "slide_type": "slide"
    }
   },
   "source": [
    "\n",
    "## Data, Variables, and Expressions\n",
    "* computer programs typically manipulate _data_ (or values), which can be numbers, names, or any text (and other things we can ignore for now)\n",
    "* it's useful to think of programs as taking some input and producing some output\n",
    "  * the data (or values) are provided as input to the program, and some other data are produced as output\n",
    "* _variables_ can be thought of as a \"named box\" (e.g., __`r`__, __`name`__, or __`year`__) inside the computer that holds a value\n",
    "  * the value could be a number, a name, or something else\n",
    "* an _expression_ is a combination of one or more values, variables, and operators (__`+`__, __`-`__, etc.), e.g.,\n",
    "  * __`(temp - 32) * 5 / 9`__\n",
    "  * __`3.14159 * r ** 2`__\n",
    "  * __`2 + 2`__\n",
    "  * __`1`__\n",
    " \n",
    "\n"
   ]
  },
  {
   "cell_type": "code",
   "execution_count": 9,
   "metadata": {},
   "outputs": [
    {
     "data": {
      "text/plain": [
       "12.222222222222221"
      ]
     },
     "execution_count": 9,
     "metadata": {},
     "output_type": "execute_result"
    }
   ],
   "source": [
    "temp = 54\n",
    "(temp - 32) * 5 / 9"
   ]
  },
  {
   "cell_type": "markdown",
   "metadata": {
    "slideshow": {
     "slide_type": "subslide"
    }
   },
   "source": [
    "## Values and Simple Data Types (`int`, `float`, and `str`)\n",
    "* _integers_ are whole numbers which have no fractional part\n",
    "  * e.g., __`42`__, __`-1`__, __`2017`__\n",
    "* _floats_ (short for \"floating point\") are numbers which have a decimal point and possibly  digits after the decimal point\n",
    "  * e.g, __`3.1415`__, __`212.`__, __`-1.5`__\n",
    "* _strings_ are sequences of characters surrounded by quotes\n",
    "  * e.g., __`'Hello, world!'`__\n",
    "* we can ask the Python interpreter to tell us the type of a value by using the builtin __`type`__ function"
   ]
  },
  {
   "cell_type": "code",
   "execution_count": 12,
   "metadata": {},
   "outputs": [
    {
     "data": {
      "text/plain": [
       "float"
      ]
     },
     "execution_count": 12,
     "metadata": {},
     "output_type": "execute_result"
    }
   ],
   "source": [
    "type(42.0)"
   ]
  },
  {
   "cell_type": "code",
   "execution_count": 13,
   "metadata": {},
   "outputs": [
    {
     "data": {
      "text/plain": [
       "(int, float, str)"
      ]
     },
     "execution_count": 13,
     "metadata": {},
     "output_type": "execute_result"
    }
   ],
   "source": [
    "# Lines that begin with a '#' are comments.\n",
    "# They are for humans, and are ignored by the interpreter.\n",
    "#\n",
    "# Note that you can chain values together with a\n",
    "# comma, and the result will be a is a comma-\n",
    "# separated list of results in parentheses\n",
    "\n",
    "type(-1), type(212.), type('hello')"
   ]
  },
  {
   "cell_type": "code",
   "execution_count": 15,
   "metadata": {},
   "outputs": [
    {
     "data": {
      "text/plain": [
       "int"
      ]
     },
     "execution_count": 15,
     "metadata": {},
     "output_type": "execute_result"
    }
   ],
   "source": [
    "type(temp)"
   ]
  },
  {
   "cell_type": "markdown",
   "metadata": {
    "slideshow": {
     "slide_type": "subslide"
    }
   },
   "source": [
    "# Lab: The Builtin Function __`type()`__\n",
    "* use Python's __`type()`__ function to find out the type of the following values and expressions\n",
    "  * __`35 + 5`__\n",
    "  * __`35.0 + 5`__\n",
    "  * __`'35' + '5'`__\n",
    "  * __`5 // 3`__\n",
    "  * __`3.5.5`__\n",
    "* __Note:__ you can add more cells to the notebook in the Insert menu"
   ]
  },
  {
   "cell_type": "code",
   "execution_count": 21,
   "metadata": {},
   "outputs": [
    {
     "ename": "SyntaxError",
     "evalue": "invalid syntax (<ipython-input-21-5d5dd8b78aac>, line 5)",
     "output_type": "error",
     "traceback": [
      "\u001b[0;36m  File \u001b[0;32m\"<ipython-input-21-5d5dd8b78aac>\"\u001b[0;36m, line \u001b[0;32m5\u001b[0m\n\u001b[0;31m    type(3.5.5)\u001b[0m\n\u001b[0m             ^\u001b[0m\n\u001b[0;31mSyntaxError\u001b[0m\u001b[0;31m:\u001b[0m invalid syntax\n"
     ]
    }
   ],
   "source": [
    "type(35 + 5)\n",
    "type(35.0 + 5)\n",
    "type('35' + '5')\n",
    "type(5 // 3)\n",
    "type(3.5.5)"
   ]
  },
  {
   "cell_type": "markdown",
   "metadata": {
    "slideshow": {
     "slide_type": "subslide"
    }
   },
   "source": [
    "## Variables\n",
    "* variables are named locations inside the computer's memory (again, think of these as named boxes into which you can put values)\n",
    "* we can put a value into a variable by using an _assignment statement_, e.g.,\n",
    "  * __`x = 1`__\n",
    "  * __`name = 'Grace Hopper'`__\n",
    "* an assignment is not a statement of equality (as we are used to from mathematics)–it's a directive to Python to put whatever is on the right-hand side of the __`=`__ into the variable on the left hand side\n",
    "* we can ask Python to print the value of a variable by simply typing it into the interpreter, or by using the built-in __`print`__ function"
   ]
  },
  {
   "cell_type": "code",
   "execution_count": 24,
   "metadata": {},
   "outputs": [
    {
     "data": {
      "text/plain": [
       "1906"
      ]
     },
     "execution_count": 24,
     "metadata": {},
     "output_type": "execute_result"
    }
   ],
   "source": [
    "x = 1906\n",
    "x"
   ]
  },
  {
   "cell_type": "code",
   "execution_count": 25,
   "metadata": {},
   "outputs": [
    {
     "data": {
      "text/plain": [
       "'Grace Hopper'"
      ]
     },
     "execution_count": 25,
     "metadata": {},
     "output_type": "execute_result"
    }
   ],
   "source": [
    "name = 'Grace Hopper'\n",
    "name"
   ]
  },
  {
   "cell_type": "code",
   "execution_count": 31,
   "metadata": {},
   "outputs": [
    {
     "name": "stdout",
     "output_type": "stream",
     "text": [
      "Grace Hopper's birth year = 1906\n"
     ]
    }
   ],
   "source": [
    "# notice that when printing a string, the quotes are omitted\n",
    "print(name +\"'s\", 'birth year =', x)"
   ]
  },
  {
   "cell_type": "code",
   "execution_count": 27,
   "metadata": {},
   "outputs": [
    {
     "name": "stdout",
     "output_type": "stream",
     "text": [
      "Grace Hopper\n"
     ]
    }
   ],
   "source": [
    "print(name)"
   ]
  },
  {
   "cell_type": "markdown",
   "metadata": {
    "slideshow": {
     "slide_type": "subslide"
    }
   },
   "source": [
    "## Lab: Variables\n",
    "* create a variable named __quantity__ and give it an integer value\n",
    "* verify that __quantity__ has the value you gave it\n",
    "* verify that __quantity__ is an integer\n",
    "* create a variable named __company__ and give it a value of 'mycompany'\n",
    "* verify that __company__ is a string and that its value is 'mycompany'"
   ]
  },
  {
   "cell_type": "code",
   "execution_count": 40,
   "metadata": {},
   "outputs": [
    {
     "name": "stdout",
     "output_type": "stream",
     "text": [
      "12\n",
      "<class 'int'>\n",
      "<class 'str'> mycompany\n"
     ]
    }
   ],
   "source": [
    "quantity = 12\n",
    "print(quantity)\n",
    "print(type(quantity))\n",
    "company = 'mycompany'\n",
    "print(type(company), company)"
   ]
  },
  {
   "cell_type": "code",
   "execution_count": 32,
   "metadata": {},
   "outputs": [
    {
     "name": "stdout",
     "output_type": "stream",
     "text": [
      "<class 'str'>\n"
     ]
    }
   ],
   "source": [
    "print(type(name))"
   ]
  },
  {
   "cell_type": "markdown",
   "metadata": {
    "slideshow": {
     "slide_type": "subslide"
    }
   },
   "source": [
    "## Variables (continued)\n",
    "* by the way, you may have heard (or may already know) that variables are not implemented as \"named boxes\" in Python\n",
    "  * TRUE–but for now, let's think of them that way–it's a perfectly fine abstraction and there's no reason to discard it\n",
    "* Python is called a _dynamically typed_ language because you do not _declare_ variables before you use them\n",
    "* in addition, a variable can hold a value of _any_ type, even if that type is not what the variable previously held, e.g.,"
   ]
  },
  {
   "cell_type": "code",
   "execution_count": 48,
   "metadata": {},
   "outputs": [
    {
     "name": "stdout",
     "output_type": "stream",
     "text": [
      "jello\n"
     ]
    }
   ],
   "source": [
    "x = 1\n",
    "y = 2\n",
    "x = 'jello'\n",
    "print(x)"
   ]
  },
  {
   "cell_type": "code",
   "execution_count": 50,
   "metadata": {},
   "outputs": [
    {
     "ename": "TypeError",
     "evalue": "unsupported operand type(s) for +: 'int' and 'str'",
     "output_type": "error",
     "traceback": [
      "\u001b[0;31m---------------------------------------------------------------------------\u001b[0m",
      "\u001b[0;31mTypeError\u001b[0m                                 Traceback (most recent call last)",
      "\u001b[0;32m<ipython-input-50-a11677f986f5>\u001b[0m in \u001b[0;36m<module>\u001b[0;34m\u001b[0m\n\u001b[0;32m----> 1\u001b[0;31m \u001b[0;36m1\u001b[0m \u001b[0;34m+\u001b[0m \u001b[0;34m'2'\u001b[0m\u001b[0;34m\u001b[0m\u001b[0;34m\u001b[0m\u001b[0m\n\u001b[0m",
      "\u001b[0;31mTypeError\u001b[0m: unsupported operand type(s) for +: 'int' and 'str'"
     ]
    }
   ],
   "source": [
    "1 + '2'"
   ]
  },
  {
   "cell_type": "code",
   "execution_count": null,
   "metadata": {},
   "outputs": [],
   "source": [
    "calculation_result = 537"
   ]
  },
  {
   "cell_type": "markdown",
   "metadata": {},
   "source": [
    "* in a _statically typed_ language (e.g., C/C++, Java), you must declare variables before using them (and in doing so you must indicate the type of data the variable will hold–__`int`__, __`float`__, etc.)\n",
    "  * ...and the only values that variable may contain are values of the declared type\n",
    "* we have no such restrictions in Python, which is both good and bad:\n",
    "  * it's good because we can just start using a variable and not have to worry about declaring it ahead of time\n",
    "  * it's bad because in a large program it can be difficult to track the type of variables, and if you accidentally overwrite a variable with a value of the wrong type, there is no way Python can complain about it–only you know what type of value is supposed to be stored in a variable\n",
    "\n"
   ]
  },
  {
   "cell_type": "markdown",
   "metadata": {
    "slideshow": {
     "slide_type": "subslide"
    }
   },
   "source": [
    "## Getting Input from the User\n",
    "* the builtin function __`input()`__ enables us to prompt the user for input\n",
    "* ...and whatever the user typed is returned by the function\n",
    "* let's try it in the next cell"
   ]
  },
  {
   "cell_type": "code",
   "execution_count": 52,
   "metadata": {},
   "outputs": [
    {
     "name": "stdout",
     "output_type": "stream",
     "text": [
      "Enter your name: JR\n",
      "Hello JR\n"
     ]
    }
   ],
   "source": [
    "name = input('Enter your name: ')\n",
    "print('Hello', name)"
   ]
  },
  {
   "cell_type": "markdown",
   "metadata": {
    "slideshow": {
     "slide_type": "subslide"
    }
   },
   "source": [
    "## Lab: Input\n",
    "* write Python code to prompt the user for a year and print out the year the user entered\n",
    "* your output will look something like this:\n",
    "\n",
    "<pre>\n",
    "<b>\n",
    "Enter a year: 2017\n",
    "You entered 2017\n",
    "</b>\n",
    "</pre>"
   ]
  },
  {
   "cell_type": "markdown",
   "metadata": {
    "slideshow": {
     "slide_type": "subslide"
    }
   },
   "source": [
    "## Variable Names and Keywords\n",
    "* variable names can be arbitrarily long\n",
    "* they can contain both letters and numbers, but they must begin with a letter\n",
    "* uppercase letters are allowed, but by convention we don’t use them (if you do use uppercase letters, remember that Python is _case sensitive_–in other words __`counter`__ and __`Counter`__ are different variables)\n",
    "* you should choose meaningful names for your variables:\n",
    "  * __`counter`__ instead of __`c`__\n",
    "  * __`cost_per_ounce`__ instead of __`cpo`__\n",
    "  * etc.\n",
    "* as you can see above, variable names can include underscores–use them to make your variable names clearer\n",
    "  * for now, do not start a variable name with an underscore"
   ]
  },
  {
   "cell_type": "code",
   "execution_count": 53,
   "metadata": {},
   "outputs": [
    {
     "ename": "SyntaxError",
     "evalue": "invalid syntax (<ipython-input-53-670d3090ea4f>, line 4)",
     "output_type": "error",
     "traceback": [
      "\u001b[0;36m  File \u001b[0;32m\"<ipython-input-53-670d3090ea4f>\"\u001b[0;36m, line \u001b[0;32m4\u001b[0m\n\u001b[0;31m    from = 'Dave'\u001b[0m\n\u001b[0m         ^\u001b[0m\n\u001b[0;31mSyntaxError\u001b[0m\u001b[0;31m:\u001b[0m invalid syntax\n"
     ]
    }
   ],
   "source": [
    "# what is the problem here?\n",
    "year = 2017\n",
    "to = 'Mary'\n",
    "from = 'Dave'"
   ]
  },
  {
   "cell_type": "markdown",
   "metadata": {},
   "source": [
    "* the problem above is that __`from`__ is a _keyword_\n",
    "* _keywords_ are words that are part of Python (or other programming languages) and cannot be used as variable names\n",
    "* if you ever get a weird error like 'invalid syntax' when it looks syntactically correct, the problem is likely that you are trying to use a keyword as a variable\n",
    "* we can get a current list of the keywords...\n"
   ]
  },
  {
   "cell_type": "code",
   "execution_count": 54,
   "metadata": {},
   "outputs": [
    {
     "name": "stdout",
     "output_type": "stream",
     "text": [
      "['False', 'None', 'True', 'and', 'as', 'assert', 'async', 'await', 'break', 'class', 'continue', 'def', 'del', 'elif', 'else', 'except', 'finally', 'for', 'from', 'global', 'if', 'import', 'in', 'is', 'lambda', 'nonlocal', 'not', 'or', 'pass', 'raise', 'return', 'try', 'while', 'with', 'yield']\n"
     ]
    }
   ],
   "source": [
    "# We will explore this 'import' syntax later.\n",
    "# For now, just think of it as a way to use some \"library\" code which comes with Python,\n",
    "# but isn't built in, so we need to import it.\n",
    "\n",
    "import keyword\n",
    "print(keyword.kwlist)"
   ]
  },
  {
   "cell_type": "markdown",
   "metadata": {
    "slideshow": {
     "slide_type": "subslide"
    }
   },
   "source": [
    "## Evaluating Expressions\n",
    "* recall that an expression is a combination of values, variables, and operators (but doesn't have to contain all of these elements)\n",
    "* if you type an expression on the command line, the interpreter evaluates it and displays the result"
   ]
  },
  {
   "cell_type": "code",
   "execution_count": 55,
   "metadata": {},
   "outputs": [
    {
     "data": {
      "text/plain": [
       "4"
      ]
     },
     "execution_count": 55,
     "metadata": {},
     "output_type": "execute_result"
    }
   ],
   "source": [
    "2 + 2"
   ]
  },
  {
   "cell_type": "markdown",
   "metadata": {},
   "source": [
    "* note that a value all by itself is considered an expression, as is a variable by itself"
   ]
  },
  {
   "cell_type": "code",
   "execution_count": 56,
   "metadata": {},
   "outputs": [
    {
     "data": {
      "text/plain": [
       "13"
      ]
     },
     "execution_count": 56,
     "metadata": {},
     "output_type": "execute_result"
    }
   ],
   "source": [
    "13"
   ]
  },
  {
   "cell_type": "code",
   "execution_count": 57,
   "metadata": {},
   "outputs": [
    {
     "data": {
      "text/plain": [
       "'JR'"
      ]
     },
     "execution_count": 57,
     "metadata": {},
     "output_type": "execute_result"
    }
   ],
   "source": [
    "name"
   ]
  },
  {
   "cell_type": "markdown",
   "metadata": {
    "slideshow": {
     "slide_type": "subslide"
    }
   },
   "source": [
    "* one point of confusion concerns the difference between _evaluating an expression_ and _printing a value_\n",
    "* evaluating an expression does not print anything if \n",
    "  * you're in _program_ mode\n",
    "  * or you are assigning the value of the expression to a variable"
   ]
  },
  {
   "cell_type": "code",
   "execution_count": 60,
   "metadata": {},
   "outputs": [],
   "source": [
    "# Python doesn't print anything when you \n",
    "# assign a value to a variable\n",
    "something = 'nothing'"
   ]
  },
  {
   "cell_type": "code",
   "execution_count": 61,
   "metadata": {},
   "outputs": [
    {
     "data": {
      "text/plain": [
       "'nothing'"
      ]
     },
     "execution_count": 61,
     "metadata": {},
     "output_type": "execute_result"
    }
   ],
   "source": [
    "something"
   ]
  },
  {
   "cell_type": "markdown",
   "metadata": {
    "slideshow": {
     "slide_type": "subslide"
    }
   },
   "source": [
    "* when the interpreter displays the value of an expression, it uses the same format you would use to enter its value–so in the case of strings, that means that it includes the quotes\n",
    "* but when you call the __`print()`__ function, Python displays the contents of the string without the quotes..."
   ]
  },
  {
   "cell_type": "code",
   "execution_count": 62,
   "metadata": {},
   "outputs": [
    {
     "name": "stdout",
     "output_type": "stream",
     "text": [
      "nothing\n"
     ]
    }
   ],
   "source": [
    "print(something)"
   ]
  },
  {
   "cell_type": "markdown",
   "metadata": {
    "slideshow": {
     "slide_type": "subslide"
    }
   },
   "source": [
    "## So Why Are There Two Ways to Produce Output?\n",
    "* simply typing a variable name or an expression is a convenient way to see its value, and it's something we can always do at the Python interactive prompt\n",
    "* inside a program, however, we use the __`print()`__ function to produce output"
   ]
  },
  {
   "cell_type": "markdown",
   "metadata": {
    "slideshow": {
     "slide_type": "subslide"
    }
   },
   "source": [
    "## Operators and Operands\n",
    "* operators are special symbols that represent computations such as addition (__`+`__) and multiplication (__`*`__)\n",
    "* the values that operator operates on are called operands\n",
    "* __`13 + 15`__\n",
    "* __`year - 1`__ \n",
    "* __`hours * 60 + minutes`__\n",
    "* __`minutes / 60`__ \n",
    "* __`minutes // 60`__\n",
    "* __`minutes % 60`__\n",
    "  * __`%`__ is the _modulus_ or remainder operator\n",
    "  * yields the remainder (not the quotient) when dividing its two operands\n",
    "* __`2 ** 64`__\n",
    "* __`(x + 3) * (y - 5)`__"
   ]
  },
  {
   "cell_type": "code",
   "execution_count": 64,
   "metadata": {},
   "outputs": [
    {
     "data": {
      "text/plain": [
       "2"
      ]
     },
     "execution_count": 64,
     "metadata": {},
     "output_type": "execute_result"
    }
   ],
   "source": [
    "5 // 3\n",
    "5 % 3"
   ]
  },
  {
   "cell_type": "markdown",
   "metadata": {
    "collapsed": true,
    "slideshow": {
     "slide_type": "subslide"
    }
   },
   "source": [
    "## Lab: Variables, Operators, and Expressions\n",
    "* create a variable named __minutes__ and give it an initial value of __28435__\n",
    "* create a variable named __hours__ and set it equal to __minutes__ divided by __60__\n",
    "* create a variable named __days__ and set it equal to __hours__ divided by __24__\n",
    "* try both __`/`__ and __`//`__ and be sure you understand how they differ\n",
    "* consider the following expressions and then enter them into Jupyter to verify your understanding\n",
    "  * __`days * 24 + hours * 60`__\n",
    "  * __`days * (24 + hours) * 60`__\n",
    "  * __`(days * 24) + (hours * 60)`__\n"
   ]
  },
  {
   "cell_type": "code",
   "execution_count": 66,
   "metadata": {},
   "outputs": [
    {
     "name": "stdout",
     "output_type": "stream",
     "text": [
      "28435 473 19\n",
      "28435 473.9166666666667 19.74652777777778\n"
     ]
    }
   ],
   "source": [
    "minutes = 28435\n",
    "hours = minutes // 60\n",
    "days = hours // 24\n",
    "print(minutes, hours, days)\n",
    "\n",
    "hours = minutes / 60\n",
    "days = hours / 24\n",
    "print(minutes, hours, days)"
   ]
  },
  {
   "cell_type": "markdown",
   "metadata": {
    "slideshow": {
     "slide_type": "subslide"
    }
   },
   "source": [
    "## Boolean Expressions and Logical Operators\n",
    "![alt text](images/George_Boole_color.jpg)\n",
    "* named after George Boole, an English mathematician (1813-1864)\n",
    "* he developed a system called _Boolean Algebra_, which laid the foundations for the Information Age\n",
    "  * Boolean Algebra deals with values which are either TRUE or FALSE\n",
    "  * in order to understand Boolean Algebra, we first need to consider how to get a TRUE or FALSE value\n",
    "  * a _Boolean expression_ is an expression that is either TRUE or FALSE\n",
    "    * __\"K2, the second tallest mountain in the world, is 28,251 feet above sea level.\" (TRUE)__\n",
    "    * __\"There are 31 days in April.\" (FALSE)__\n",
    "    * __`1 + 2 == 3` (TRUE)__\n",
    "    * __`2 ** 3 == 9` (FALSE)__\n",
    "  * let's try some in the Python interpreter"
   ]
  },
  {
   "cell_type": "code",
   "execution_count": 67,
   "metadata": {
    "slideshow": {
     "slide_type": "-"
    }
   },
   "outputs": [
    {
     "data": {
      "text/plain": [
       "True"
      ]
     },
     "execution_count": 67,
     "metadata": {},
     "output_type": "execute_result"
    }
   ],
   "source": [
    "2 + 3 == 5"
   ]
  },
  {
   "cell_type": "code",
   "execution_count": 68,
   "metadata": {},
   "outputs": [
    {
     "data": {
      "text/plain": [
       "False"
      ]
     },
     "execution_count": 68,
     "metadata": {},
     "output_type": "execute_result"
    }
   ],
   "source": [
    "x = 2 # assignment statement\n",
    "x == 3 # note the difference between = (assignment) and == (testing for equality)"
   ]
  },
  {
   "cell_type": "code",
   "execution_count": 69,
   "metadata": {},
   "outputs": [
    {
     "data": {
      "text/plain": [
       "True"
      ]
     },
     "execution_count": 69,
     "metadata": {},
     "output_type": "execute_result"
    }
   ],
   "source": [
    "x != 3"
   ]
  },
  {
   "cell_type": "markdown",
   "metadata": {},
   "source": [
    "* True and False are special values that are built-in to Python\n",
    "* the other operators are:\n",
    "  * __`>, >=`__\n",
    "  * __`<, <=`__\n",
    "  * and __`==`__, __`!=`__, as we've seen"
   ]
  },
  {
   "cell_type": "markdown",
   "metadata": {
    "slideshow": {
     "slide_type": "subslide"
    }
   },
   "source": [
    "## Lab: Boolean Expressions\n",
    "* write a Boolean expression to determine whether the variable __xyz__ is greater than 100 (you will have to define the variable first)\n",
    "* write a Boolean expression to determine whether the variable __company__ is equal to the string 'salesforce'"
   ]
  },
  {
   "cell_type": "code",
   "execution_count": 82,
   "metadata": {},
   "outputs": [
    {
     "name": "stdout",
     "output_type": "stream",
     "text": [
      "False\n"
     ]
    },
    {
     "data": {
      "text/plain": [
       "bool"
      ]
     },
     "execution_count": 82,
     "metadata": {},
     "output_type": "execute_result"
    }
   ],
   "source": [
    "xyz = 1\n",
    "print(xyz > 100)\n",
    "company == 'salesforce'\n",
    "type(company == 'salesforces')"
   ]
  },
  {
   "cell_type": "markdown",
   "metadata": {
    "slideshow": {
     "slide_type": "subslide"
    }
   },
   "source": [
    "## Logical Operators\n",
    "* there are three: __`and`__, __`or`__, __`not`__\n",
    "* they mean roughly the same thing as they mean in English:\n",
    "  * __if you finish your homework AND the temperature is above freezing, you can play in the yard__\n",
    "  * __if it snows OR the temperature is lower than 20ºF, school will be canceled__\n",
    "  * __if it is NOT past 9pm, the library should be open__\n",
    "  * __`x > 0 and x < 10`__ means __x is greater than 0 _and_ less than 10__\n",
    "  * __`x > 0 or y < 5`__ means  __either__ x is greater than 0 _or_ y is less than 5 (or both)__"
   ]
  },
  {
   "cell_type": "code",
   "execution_count": 96,
   "metadata": {},
   "outputs": [
    {
     "data": {
      "text/plain": [
       "False"
      ]
     },
     "execution_count": 96,
     "metadata": {},
     "output_type": "execute_result"
    }
   ],
   "source": [
    "x = 101\n",
    "x > 0 and x < 10"
   ]
  },
  {
   "cell_type": "code",
   "execution_count": 97,
   "metadata": {},
   "outputs": [
    {
     "data": {
      "text/plain": [
       "True"
      ]
     },
     "execution_count": 97,
     "metadata": {},
     "output_type": "execute_result"
    }
   ],
   "source": [
    "x > 0 or y < 5"
   ]
  },
  {
   "cell_type": "code",
   "execution_count": 98,
   "metadata": {},
   "outputs": [],
   "source": [
    "shouldCheckDB = False\n",
    "if shouldCheckDB and expensive_function():\n",
    "    print('Did something expensive!')"
   ]
  },
  {
   "cell_type": "code",
   "execution_count": 88,
   "metadata": {},
   "outputs": [
    {
     "ename": "NameError",
     "evalue": "name 'y' is not defined",
     "output_type": "error",
     "traceback": [
      "\u001b[0;31m---------------------------------------------------------------------------\u001b[0m",
      "\u001b[0;31mNameError\u001b[0m                                 Traceback (most recent call last)",
      "\u001b[0;32m<ipython-input-88-c2edf873107e>\u001b[0m in \u001b[0;36m<module>\u001b[0;34m\u001b[0m\n\u001b[0;32m----> 1\u001b[0;31m \u001b[0my\u001b[0m \u001b[0;34m<\u001b[0m \u001b[0;36m5\u001b[0m\u001b[0;34m\u001b[0m\u001b[0;34m\u001b[0m\u001b[0m\n\u001b[0m",
      "\u001b[0;31mNameError\u001b[0m: name 'y' is not defined"
     ]
    }
   ],
   "source": [
    "y < 5"
   ]
  },
  {
   "cell_type": "markdown",
   "metadata": {
    "slideshow": {
     "slide_type": "subslide"
    }
   },
   "source": [
    "## Boolean Algebra\n",
    "* let's see how George Boole's algebra works in Python\n",
    "* to do this, we can make _truth tables_ which show how the logical operators interact with True and False values..."
   ]
  },
  {
   "cell_type": "code",
   "execution_count": 99,
   "metadata": {
    "slideshow": {
     "slide_type": "-"
    }
   },
   "outputs": [
    {
     "name": "stdout",
     "output_type": "stream",
     "text": [
      "False\n",
      "False\n",
      "False\n",
      "True\n"
     ]
    }
   ],
   "source": [
    "# and\n",
    "print(False and False)\n",
    "print(False and True)\n",
    "print(True and False)\n",
    "print(True and True)"
   ]
  },
  {
   "cell_type": "code",
   "execution_count": 100,
   "metadata": {
    "slideshow": {
     "slide_type": "subslide"
    }
   },
   "outputs": [
    {
     "name": "stdout",
     "output_type": "stream",
     "text": [
      "False\n",
      "True\n",
      "True\n",
      "True\n"
     ]
    }
   ],
   "source": [
    "# or\n",
    "print(False or False)\n",
    "print(False or True)\n",
    "print(True or False)\n",
    "print(True or True)"
   ]
  },
  {
   "cell_type": "code",
   "execution_count": 101,
   "metadata": {
    "slideshow": {
     "slide_type": "subslide"
    }
   },
   "outputs": [
    {
     "name": "stdout",
     "output_type": "stream",
     "text": [
      "True\n",
      "False\n"
     ]
    }
   ],
   "source": [
    "# not\n",
    "print(not False)\n",
    "print(not True)"
   ]
  },
  {
   "cell_type": "code",
   "execution_count": 122,
   "metadata": {},
   "outputs": [
    {
     "ename": "NameError",
     "evalue": "name 'true' is not defined",
     "output_type": "error",
     "traceback": [
      "\u001b[0;31m---------------------------------------------------------------------------\u001b[0m",
      "\u001b[0;31mNameError\u001b[0m                                 Traceback (most recent call last)",
      "\u001b[0;32m<ipython-input-122-8f704f9f5a18>\u001b[0m in \u001b[0;36m<module>\u001b[0;34m\u001b[0m\n\u001b[0;32m----> 1\u001b[0;31m \u001b[0mbval\u001b[0m \u001b[0;34m=\u001b[0m \u001b[0mtrue\u001b[0m\u001b[0;34m\u001b[0m\u001b[0;34m\u001b[0m\u001b[0m\n\u001b[0m\u001b[1;32m      2\u001b[0m \u001b[0;32mif\u001b[0m \u001b[0mbval\u001b[0m\u001b[0;34m:\u001b[0m\u001b[0;34m\u001b[0m\u001b[0;34m\u001b[0m\u001b[0m\n\u001b[1;32m      3\u001b[0m     \u001b[0mprint\u001b[0m\u001b[0;34m(\u001b[0m\u001b[0;32mTrue\u001b[0m\u001b[0;34m)\u001b[0m\u001b[0;34m\u001b[0m\u001b[0;34m\u001b[0m\u001b[0m\n\u001b[1;32m      4\u001b[0m \u001b[0;32melse\u001b[0m\u001b[0;34m:\u001b[0m\u001b[0;34m\u001b[0m\u001b[0;34m\u001b[0m\u001b[0m\n\u001b[1;32m      5\u001b[0m     \u001b[0mprint\u001b[0m\u001b[0;34m(\u001b[0m\u001b[0;32mFalse\u001b[0m\u001b[0;34m)\u001b[0m\u001b[0;34m\u001b[0m\u001b[0;34m\u001b[0m\u001b[0m\n",
      "\u001b[0;31mNameError\u001b[0m: name 'true' is not defined"
     ]
    }
   ],
   "source": [
    "bval = true\n",
    "if bval:\n",
    "    print(True)\n",
    "else:\n",
    "    print(False)"
   ]
  },
  {
   "cell_type": "code",
   "execution_count": 115,
   "metadata": {},
   "outputs": [
    {
     "name": "stdout",
     "output_type": "stream",
     "text": [
      "y = 4\n"
     ]
    },
    {
     "data": {
      "text/plain": [
       "4"
      ]
     },
     "execution_count": 115,
     "metadata": {},
     "output_type": "execute_result"
    }
   ],
   "source": [
    "# strictly speaking, the operands of logical operators should be boolean expressions\n",
    "# ...but Python isn't strict about it–any non-zero value is considered \"True\" in Python\n",
    "y = 4\n",
    "print('y =', y)\n",
    "True and y"
   ]
  },
  {
   "cell_type": "code",
   "execution_count": 116,
   "metadata": {},
   "outputs": [
    {
     "data": {
      "text/plain": [
       "0"
      ]
     },
     "execution_count": 116,
     "metadata": {},
     "output_type": "execute_result"
    }
   ],
   "source": [
    "# and 0 is considered False\n",
    "y = 0\n",
    "True and y"
   ]
  },
  {
   "cell_type": "code",
   "execution_count": 118,
   "metadata": {},
   "outputs": [
    {
     "data": {
      "text/plain": [
       "'Default'"
      ]
     },
     "execution_count": 118,
     "metadata": {},
     "output_type": "execute_result"
    }
   ],
   "source": [
    "arg = ''\n",
    "arg = arg or 'Default'\n",
    "arg"
   ]
  },
  {
   "cell_type": "code",
   "execution_count": 120,
   "metadata": {},
   "outputs": [
    {
     "data": {
      "text/plain": [
       "0"
      ]
     },
     "execution_count": 120,
     "metadata": {},
     "output_type": "execute_result"
    }
   ],
   "source": [
    "error = success or error_code"
   ]
  },
  {
   "cell_type": "code",
   "execution_count": 121,
   "metadata": {},
   "outputs": [
    {
     "data": {
      "text/plain": [
       "True"
      ]
     },
     "execution_count": 121,
     "metadata": {},
     "output_type": "execute_result"
    }
   ],
   "source": [
    "# ...as is an empty string\n",
    "empty = ''\n",
    "not empty"
   ]
  },
  {
   "cell_type": "markdown",
   "metadata": {
    "collapsed": true,
    "slideshow": {
     "slide_type": "subslide"
    }
   },
   "source": [
    "## Lab: Boolean Algebra\n",
    "* write a Boolean expression which determines whether __year__ is equal to 2017 and __xyz__ is less than 10"
   ]
  },
  {
   "cell_type": "code",
   "execution_count": 124,
   "metadata": {},
   "outputs": [
    {
     "name": "stdout",
     "output_type": "stream",
     "text": [
      "Enter Year:2018\n",
      "Enter xyz:11\n",
      "False\n"
     ]
    }
   ],
   "source": [
    "year = int(input('Enter Year:'))\n",
    "xyz = int(input(\"Enter xyz:\"))\n",
    "print(year == 2017 and xyz < 10)"
   ]
  },
  {
   "cell_type": "markdown",
   "metadata": {
    "slideshow": {
     "slide_type": "subslide"
    }
   },
   "source": [
    "## Boolean Variables in Python\n",
    "* at this point, it probably won't surprise you to find out that Python also has Boolean variables, i.e., variables that contain the special value True or False\n",
    "* we will see how to use Boolean variables later, but for now we will demonstrate..."
   ]
  },
  {
   "cell_type": "code",
   "execution_count": 125,
   "metadata": {},
   "outputs": [
    {
     "data": {
      "text/plain": [
       "bool"
      ]
     },
     "execution_count": 125,
     "metadata": {},
     "output_type": "execute_result"
    }
   ],
   "source": [
    "ok = True\n",
    "type(ok)"
   ]
  },
  {
   "cell_type": "code",
   "execution_count": 126,
   "metadata": {},
   "outputs": [
    {
     "data": {
      "text/plain": [
       "True"
      ]
     },
     "execution_count": 126,
     "metadata": {},
     "output_type": "execute_result"
    }
   ],
   "source": [
    "is_even = 42 % 2 == 0 # Is 42 even? In other words is there no remainder when dividing 42 by 2?\n",
    "is_even"
   ]
  },
  {
   "cell_type": "markdown",
   "metadata": {
    "slideshow": {
     "slide_type": "subslide"
    }
   },
   "source": [
    "## Lab: Boolean Variables\n",
    "* create a Boolean variable which determines whether the variable __company__ is equal to 'salesforce'"
   ]
  },
  {
   "cell_type": "code",
   "execution_count": 127,
   "metadata": {},
   "outputs": [
    {
     "data": {
      "text/plain": [
       "True"
      ]
     },
     "execution_count": 127,
     "metadata": {},
     "output_type": "execute_result"
    }
   ],
   "source": [
    "is_salesforce = company == 'salesforce'\n",
    "is_salesforce"
   ]
  },
  {
   "cell_type": "markdown",
   "metadata": {
    "slideshow": {
     "slide_type": "subslide"
    }
   },
   "source": [
    "## Type Conversion Functions\n",
    "* Python has built-in type conversion functions that let you convert a value of one type to another (within reason)\n",
    "* __`int(x)`__ will convert __`x`__ to an integer\n",
    "  * only works if __`x`__ can be converted to an integer\n",
    "* __`float(x)`__ will convert __`x`__ to a floating point number\n",
    "  * only works if __`x`__ can be converted to a float\n",
    "* __`str(x)`__ will convert __`x`__ to a string\n",
    "  * always works\n",
    "* __`bool(x)`__ will convert __`x`__ to a bool\n",
    "  * always works"
   ]
  },
  {
   "cell_type": "code",
   "execution_count": 128,
   "metadata": {},
   "outputs": [
    {
     "data": {
      "text/plain": [
       "35"
      ]
     },
     "execution_count": 128,
     "metadata": {},
     "output_type": "execute_result"
    }
   ],
   "source": [
    "int(35.5)"
   ]
  },
  {
   "cell_type": "code",
   "execution_count": 129,
   "metadata": {},
   "outputs": [
    {
     "ename": "ValueError",
     "evalue": "invalid literal for int() with base 10: '35.5'",
     "output_type": "error",
     "traceback": [
      "\u001b[0;31m---------------------------------------------------------------------------\u001b[0m",
      "\u001b[0;31mValueError\u001b[0m                                Traceback (most recent call last)",
      "\u001b[0;32m<ipython-input-129-cd72d73e6c86>\u001b[0m in \u001b[0;36m<module>\u001b[0;34m\u001b[0m\n\u001b[0;32m----> 1\u001b[0;31m \u001b[0mint\u001b[0m\u001b[0;34m(\u001b[0m\u001b[0;34m'35.5'\u001b[0m\u001b[0;34m)\u001b[0m\u001b[0;34m\u001b[0m\u001b[0;34m\u001b[0m\u001b[0m\n\u001b[0m",
      "\u001b[0;31mValueError\u001b[0m: invalid literal for int() with base 10: '35.5'"
     ]
    }
   ],
   "source": [
    "int('35.5')"
   ]
  },
  {
   "cell_type": "code",
   "execution_count": 130,
   "metadata": {},
   "outputs": [
    {
     "data": {
      "text/plain": [
       "35"
      ]
     },
     "execution_count": 130,
     "metadata": {},
     "output_type": "execute_result"
    }
   ],
   "source": [
    "int(float('35.5'))"
   ]
  },
  {
   "cell_type": "code",
   "execution_count": 131,
   "metadata": {},
   "outputs": [
    {
     "data": {
      "text/plain": [
       "1.0"
      ]
     },
     "execution_count": 131,
     "metadata": {},
     "output_type": "execute_result"
    }
   ],
   "source": [
    "float(1)"
   ]
  },
  {
   "cell_type": "code",
   "execution_count": 132,
   "metadata": {
    "scrolled": true
   },
   "outputs": [
    {
     "data": {
      "text/plain": [
       "'3.14159'"
      ]
     },
     "execution_count": 132,
     "metadata": {},
     "output_type": "execute_result"
    }
   ],
   "source": [
    "str(3.14159)"
   ]
  },
  {
   "cell_type": "code",
   "execution_count": 133,
   "metadata": {},
   "outputs": [
    {
     "data": {
      "text/plain": [
       "(False, True, False)"
      ]
     },
     "execution_count": 133,
     "metadata": {},
     "output_type": "execute_result"
    }
   ],
   "source": [
    "bool(''), bool(34), bool(not int(True))"
   ]
  },
  {
   "cell_type": "code",
   "execution_count": 138,
   "metadata": {},
   "outputs": [
    {
     "data": {
      "text/plain": [
       "(int, 7)"
      ]
     },
     "execution_count": 138,
     "metadata": {},
     "output_type": "execute_result"
    }
   ],
   "source": [
    "x = 5\n",
    "y = 1.5\n",
    "x = int(x * y)\n",
    "type(x), x"
   ]
  },
  {
   "cell_type": "markdown",
   "metadata": {
    "slideshow": {
     "slide_type": "subslide"
    }
   },
   "source": [
    "## Lab: Type Conversion\n",
    "* write Python code to prompt the user to enter a year\n",
    "* ...then reads input from the user\n",
    "* ...then converts what was read into an integer\n",
    "* print out the final result and verify that it's an integer\n",
    "* your output should look something like this:\n",
    "\n",
    "<pre><b>\n",
    "Enter a year: 2017\n",
    "The year you entered was 2017.\n",
    "\n",
    "&lt;class 'int'>\n",
    "</b></pre>"
   ]
  },
  {
   "cell_type": "code",
   "execution_count": null,
   "metadata": {},
   "outputs": [],
   "source": [
    "year = input(\"Enter a Year:\")"
   ]
  },
  {
   "cell_type": "code",
   "execution_count": 143,
   "metadata": {},
   "outputs": [
    {
     "name": "stdout",
     "output_type": "stream",
     "text": [
      "Enter a year:2021\n",
      "You entered 2021\n"
     ]
    }
   ],
   "source": [
    "print('You entered', int(input(\"Enter a year:\")))"
   ]
  },
  {
   "cell_type": "code",
   "execution_count": 141,
   "metadata": {},
   "outputs": [
    {
     "name": "stdout",
     "output_type": "stream",
     "text": [
      "2020 2021\n"
     ]
    }
   ],
   "source": [
    "year = 2020\n",
    "next_year = int(year) + 1\n",
    "print(year, next_year)"
   ]
  },
  {
   "cell_type": "code",
   "execution_count": 146,
   "metadata": {
    "scrolled": true
   },
   "outputs": [
    {
     "name": "stdout",
     "output_type": "stream",
     "text": [
      "This is an int: 7\n",
      "This is also an int: 5, str: mystring\n",
      "This is yet again an int: 5\n"
     ]
    }
   ],
   "source": [
    "## String formatting\n",
    "num = 5\n",
    "print('This is an int: %s' % 7)\n",
    "print('This is also an int: {mynum}, str: {whatever}'.format(mynum=num, whatever='mystring'))\n",
    "print(f'This is yet again an int: {num}')"
   ]
  },
  {
   "cell_type": "code",
   "execution_count": 148,
   "metadata": {},
   "outputs": [
    {
     "name": "stdout",
     "output_type": "stream",
     "text": [
      "<class 'int'>\n",
      "['__abs__', '__add__', '__and__', '__bool__', '__ceil__', '__class__', '__delattr__', '__dir__', '__divmod__', '__doc__', '__eq__', '__float__', '__floor__', '__floordiv__', '__format__', '__ge__', '__getattribute__', '__getnewargs__', '__gt__', '__hash__', '__index__', '__init__', '__init_subclass__', '__int__', '__invert__', '__le__', '__lshift__', '__lt__', '__mod__', '__mul__', '__ne__', '__neg__', '__new__', '__or__', '__pos__', '__pow__', '__radd__', '__rand__', '__rdivmod__', '__reduce__', '__reduce_ex__', '__repr__', '__rfloordiv__', '__rlshift__', '__rmod__', '__rmul__', '__ror__', '__round__', '__rpow__', '__rrshift__', '__rshift__', '__rsub__', '__rtruediv__', '__rxor__', '__setattr__', '__sizeof__', '__str__', '__sub__', '__subclasshook__', '__truediv__', '__trunc__', '__xor__', 'bit_length', 'conjugate', 'denominator', 'from_bytes', 'imag', 'numerator', 'real', 'to_bytes']\n",
      "3\n",
      "Help on built-in function bit_length:\n",
      "\n",
      "bit_length() method of builtins.int instance\n",
      "    Number of bits necessary to represent self in binary.\n",
      "    \n",
      "    >>> bin(37)\n",
      "    '0b100101'\n",
      "    >>> (37).bit_length()\n",
      "    6\n",
      "\n"
     ]
    }
   ],
   "source": [
    "## Everything is an object!\n",
    "\n",
    "n = int(7)\n",
    "print(n.__class__)\n",
    "print(dir(n))\n",
    "print(n.bit_length())\n",
    "help(n.bit_length)"
   ]
  },
  {
   "cell_type": "code",
   "execution_count": 154,
   "metadata": {},
   "outputs": [
    {
     "data": {
      "text/plain": [
       "'abc123'"
      ]
     },
     "execution_count": 154,
     "metadata": {},
     "output_type": "execute_result"
    }
   ],
   "source": [
    "s = 'abc'\n",
    "n = 123\n",
    "# s + n  #Error!\n",
    "dir(s)\n",
    "#s.__add__(str(n))\n",
    "s + str(n)"
   ]
  },
  {
   "cell_type": "markdown",
   "metadata": {
    "slideshow": {
     "slide_type": "subslide"
    }
   },
   "source": [
    "## String Operations\n",
    "* you can't do arithmetic on strings, even if the value inside the string looks like a number...\n",
    "* so, __`'2' + '4'`__ is not __`'6'`__ in Python\n",
    "* but the + and * operators work on strings...\n",
    "  * __`+`__ = _concatenation_ (__`'good' + 'bye'`__ yields __`'goodbye'`__)\n",
    "  * __`*`__ = replication (__`'good' * 4`__ yields __`'goodgoodgoodgood'`__)"
   ]
  },
  {
   "cell_type": "code",
   "execution_count": 155,
   "metadata": {},
   "outputs": [
    {
     "name": "stdout",
     "output_type": "stream",
     "text": [
      "Name? JR\n"
     ]
    },
    {
     "data": {
      "text/plain": [
       "'Hello JR, how are you?'"
      ]
     },
     "execution_count": 155,
     "metadata": {},
     "output_type": "execute_result"
    }
   ],
   "source": [
    "name = input('Name? ')\n",
    "message = 'Hello ' + name + ', how are you?'\n",
    "message"
   ]
  },
  {
   "cell_type": "code",
   "execution_count": 156,
   "metadata": {},
   "outputs": [
    {
     "name": "stdout",
     "output_type": "stream",
     "text": [
      "1234567890123456789012345678901234567890\n",
      "----------------------------------------\n"
     ]
    }
   ],
   "source": [
    "ruler = '1234567890' * 4\n",
    "line = '-' * 40\n",
    "print(ruler)\n",
    "print(line)"
   ]
  },
  {
   "cell_type": "markdown",
   "metadata": {
    "slideshow": {
     "slide_type": "subslide"
    }
   },
   "source": [
    "## Lab: Strings\n",
    "* read in two separate strings from the user\n",
    "* create a new string which consists of the second string followed by a space, followed by the first string\n",
    "* e.g, \"hello\" and \"there\" would become \"there hello\""
   ]
  },
  {
   "cell_type": "code",
   "execution_count": 161,
   "metadata": {},
   "outputs": [
    {
     "ename": "SyntaxError",
     "evalue": "invalid syntax (<ipython-input-161-3b69ba6748e3>, line 5)",
     "output_type": "error",
     "traceback": [
      "\u001b[0;36m  File \u001b[0;32m\"<ipython-input-161-3b69ba6748e3>\"\u001b[0;36m, line \u001b[0;32m5\u001b[0m\n\u001b[0;31m    print(f '{second}-{first}')\u001b[0m\n\u001b[0m                             ^\u001b[0m\n\u001b[0;31mSyntaxError\u001b[0m\u001b[0;31m:\u001b[0m invalid syntax\n"
     ]
    }
   ],
   "source": [
    "first = input('Enter first string:')\n",
    "second = input('Enter second string:')\n",
    "third = second + '' + first\n",
    "print(third)\n",
    "print(f'{second}-{first}')"
   ]
  },
  {
   "cell_type": "markdown",
   "metadata": {
    "slideshow": {
     "slide_type": "subslide"
    }
   },
   "source": [
    "## Indexing Strings\n",
    "* we can access the individual characters of a string using brackets–__`[]`__\n",
    "* the first character of a string is at index 0 (all counting in computer science begins with 0)"
   ]
  },
  {
   "cell_type": "code",
   "execution_count": 163,
   "metadata": {
    "slideshow": {
     "slide_type": "-"
    }
   },
   "outputs": [
    {
     "name": "stdout",
     "output_type": "stream",
     "text": [
      "Enter your name: Justin\n",
      "The first character of Justin is J\n"
     ]
    },
    {
     "data": {
      "text/plain": [
       "str"
      ]
     },
     "execution_count": 163,
     "metadata": {},
     "output_type": "execute_result"
    }
   ],
   "source": [
    "name = input('Enter your name: ')\n",
    "print('The first character of', name, 'is', name[0])\n",
    "type(name[0])"
   ]
  },
  {
   "cell_type": "markdown",
   "metadata": {
    "slideshow": {
     "slide_type": "subslide"
    }
   },
   "source": [
    "## Lab: Indexing Strings\n",
    "* prompt the user and read a string\n",
    "* prompt the user for an index\n",
    "*  use the index to print out the character at that offset (e.g., if user enters '3', you would print out the [3] character of the string\n",
    "* what happens if you hit return (i.e., enter an \"empty string\")?\n",
    "* what happens if you set the zeroth character of the string you read to 'x'\n",
    "    * __`name[0] = 'x'`__"
   ]
  },
  {
   "cell_type": "code",
   "execution_count": 177,
   "metadata": {},
   "outputs": [
    {
     "name": "stdout",
     "output_type": "stream",
     "text": [
      "Please input a string:Python\n",
      "Enter another string:Cool\n",
      "Please input an index:3\n",
      "The index 3 of Python ishand string2 is Cool.\n"
     ]
    }
   ],
   "source": [
    "string = input('Please input a string:')\n",
    "string2 = input('Enter another string:')\n",
    "index = input('Please input an index:')\n",
    "print(f'The index {index} of {string} is', string[int(index)], f'and string2 is {string2}.', sep='')\n",
    "#string[0] = 'x'"
   ]
  },
  {
   "cell_type": "code",
   "execution_count": 164,
   "metadata": {},
   "outputs": [
    {
     "name": "stdout",
     "output_type": "stream",
     "text": [
      "Help on built-in function print in module builtins:\n",
      "\n",
      "print(...)\n",
      "    print(value, ..., sep=' ', end='\\n', file=sys.stdout, flush=False)\n",
      "    \n",
      "    Prints the values to a stream, or to sys.stdout by default.\n",
      "    Optional keyword arguments:\n",
      "    file:  a file-like object (stream); defaults to the current sys.stdout.\n",
      "    sep:   string inserted between values, default a space.\n",
      "    end:   string appended after the last value, default a newline.\n",
      "    flush: whether to forcibly flush the stream.\n",
      "\n"
     ]
    }
   ],
   "source": [
    "help(print)"
   ]
  },
  {
   "cell_type": "code",
   "execution_count": 180,
   "metadata": {},
   "outputs": [
    {
     "ename": "TypeError",
     "evalue": "'funstring' is an invalid keyword argument for print()",
     "output_type": "error",
     "traceback": [
      "\u001b[0;31m---------------------------------------------------------------------------\u001b[0m",
      "\u001b[0;31mTypeError\u001b[0m                                 Traceback (most recent call last)",
      "\u001b[0;32m<ipython-input-180-3d413b45205c>\u001b[0m in \u001b[0;36m<module>\u001b[0;34m\u001b[0m\n\u001b[0;32m----> 1\u001b[0;31m \u001b[0mprint\u001b[0m\u001b[0;34m(\u001b[0m\u001b[0mfunstring\u001b[0m \u001b[0;34m=\u001b[0m \u001b[0;34m'fun'\u001b[0m\u001b[0;34m)\u001b[0m\u001b[0;34m\u001b[0m\u001b[0;34m\u001b[0m\u001b[0m\n\u001b[0m\u001b[1;32m      2\u001b[0m \u001b[0msavestring\u001b[0m \u001b[0;34m=\u001b[0m \u001b[0mfunstring\u001b[0m\u001b[0;34m\u001b[0m\u001b[0;34m\u001b[0m\u001b[0m\n\u001b[1;32m      3\u001b[0m \u001b[0;31m#funstring = funstring + 'string'\u001b[0m\u001b[0;34m\u001b[0m\u001b[0;34m\u001b[0m\u001b[0;34m\u001b[0m\u001b[0m\n\u001b[1;32m      4\u001b[0m \u001b[0mfunstring\u001b[0m \u001b[0;34m+=\u001b[0m \u001b[0;34m'string'\u001b[0m\u001b[0;34m\u001b[0m\u001b[0;34m\u001b[0m\u001b[0m\n\u001b[1;32m      5\u001b[0m \u001b[0mprint\u001b[0m\u001b[0;34m(\u001b[0m\u001b[0mfunstring\u001b[0m\u001b[0;34m,\u001b[0m \u001b[0msavestring\u001b[0m\u001b[0;34m)\u001b[0m\u001b[0;34m\u001b[0m\u001b[0;34m\u001b[0m\u001b[0m\n",
      "\u001b[0;31mTypeError\u001b[0m: 'funstring' is an invalid keyword argument for print()"
     ]
    }
   ],
   "source": [
    "funstring = 'fun'\n",
    "savestring = funstring\n",
    "#funstring = funstring + 'string'\n",
    "funstring += 'string'\n",
    "print(funstring, savestring)"
   ]
  },
  {
   "cell_type": "markdown",
   "metadata": {
    "slideshow": {
     "slide_type": "subslide"
    }
   },
   "source": [
    "## Composition\n",
    "* one of the most useful features of Python (and other programming languages) is their ability to take small building blocks and compose them\n",
    "* e.g., we know how to add numbers and we know how to print–we already know we can do both at the same time, which is what we mean by composition:\n",
    "  * __`print(x + 17)`__\n",
    "* we can get more complex, e.g.,\n",
    "  * __`seconds = hours * 3600 + minutes * 60`__\n"
   ]
  },
  {
   "cell_type": "code",
   "execution_count": 178,
   "metadata": {},
   "outputs": [
    {
     "name": "stdout",
     "output_type": "stream",
     "text": [
      "  1           0 LOAD_CONST               0 (3)\n",
      "              2 STORE_NAME               0 (x)\n",
      "              4 LOAD_NAME                1 (print)\n",
      "              6 LOAD_NAME                0 (x)\n",
      "              8 LOAD_CONST               1 (17)\n",
      "             10 BINARY_ADD\n",
      "             12 CALL_FUNCTION            1\n",
      "             14 POP_TOP\n",
      "             16 LOAD_CONST               2 (None)\n",
      "             18 RETURN_VALUE\n"
     ]
    }
   ],
   "source": [
    "# The dis(assembly) module will show us something interesting...\n",
    "# the bytecode into which Python is translated\n",
    "import dis\n",
    "dis.dis('x = 3; print(x + 17)')"
   ]
  },
  {
   "cell_type": "code",
   "execution_count": 179,
   "metadata": {},
   "outputs": [
    {
     "name": "stdout",
     "output_type": "stream",
     "text": [
      "Hello\n",
      "None\n"
     ]
    }
   ],
   "source": [
    "r = print('Hello')\n",
    "print(r)"
   ]
  },
  {
   "cell_type": "markdown",
   "metadata": {
    "slideshow": {
     "slide_type": "slide"
    }
   },
   "source": [
    "# Statements"
   ]
  },
  {
   "cell_type": "markdown",
   "metadata": {
    "slideshow": {
     "slide_type": "subslide"
    }
   },
   "source": [
    "## Conditional Execution\n",
    "* in order to write useful programs, we typically need the ability to check some condition and change the behavior of the program accordingly\n",
    "* conditional statements give us this ability\n",
    "* the simplest form is the if statement..."
   ]
  },
  {
   "cell_type": "code",
   "execution_count": 186,
   "metadata": {},
   "outputs": [
    {
     "name": "stdout",
     "output_type": "stream",
     "text": [
      "Enter a year: 2021\n",
      "Hello\n",
      "blah\n",
      "indented statement\n",
      "something\n",
      "another\n",
      "after the if statement\n"
     ]
    }
   ],
   "source": [
    "year = int(input('Enter a year: '))\n",
    "# convert from string to integer\n",
    "\n",
    "if year > 2000:\n",
    "    print('Hello')\n",
    "    print('blah', 'indented statement', 'something',\n",
    "          sep='\\n')\n",
    "    print('another')\n",
    "    \n",
    "print('after the if statement')"
   ]
  },
  {
   "cell_type": "code",
   "execution_count": 189,
   "metadata": {},
   "outputs": [
    {
     "name": "stdout",
     "output_type": "stream",
     "text": [
      "10\n"
     ]
    }
   ],
   "source": [
    "var = (3 + 4 + 3)\n",
    "print(var)"
   ]
  },
  {
   "cell_type": "markdown",
   "metadata": {},
   "source": [
    "* the boolean expression after the __`if`__ statement is called the condition\n",
    "* if the condition is true, then the indented statement (or statements) gets executed\n",
    "* if the condition is false, then nothing happens\n",
    "* the __`if`__ statement is made up of a header and a block of statements, like so\n",
    "    \n",
    "<img src=\"images/compound.png\" alt=\"Drawing\" style=\"width: 250px;\"/>\n",
    "\n",
    "* the header begins on a new line and ends with a colon (:)\n",
    "* the indented statements that follow are called a block\n",
    "* the first unindented statement marks the end of the block"
   ]
  },
  {
   "cell_type": "markdown",
   "metadata": {
    "slideshow": {
     "slide_type": "subslide"
    }
   },
   "source": [
    "## Python Indentation\n",
    "* indentation is one of the bugbagoos of Python\n",
    "* as we saw with the __`if`__ statement, we must introduce a new block with a colon\n",
    "  * ...and then indent all of the statements in the block\n",
    "  * all statements in the block must be indented the same amount\n",
    "  * don't use TABs, use spaces (Python will complain if you mix TABs and spaces)\n",
    "  * Python recommends 4 spaces per level of indentation"
   ]
  },
  {
   "cell_type": "code",
   "execution_count": null,
   "metadata": {},
   "outputs": [],
   "source": [
    "if (x == 10):\n",
    "    print(x)"
   ]
  },
  {
   "cell_type": "markdown",
   "metadata": {
    "slideshow": {
     "slide_type": "subslide"
    }
   },
   "source": [
    "## Chained Conditionals\n",
    "* sometimes there are more than two possibilities and we need more than two branches\n",
    "* one way to express a computation like that is a chained conditional..."
   ]
  },
  {
   "cell_type": "code",
   "execution_count": 9,
   "metadata": {},
   "outputs": [
    {
     "name": "stdout",
     "output_type": "stream",
     "text": [
      "4 is less than 5\n"
     ]
    }
   ],
   "source": [
    "x, y = 4, 5 # in Python we can assign multiple values to multiple\n",
    "            # variables, but only do it this way if the variables\n",
    "            # are related\n",
    "\n",
    "if x < y:\n",
    "    print(x, \"is less than\", y)\n",
    "elif x > y:\n",
    "    print(x, \"is greater than\", y)\n",
    "elif x + 2 == y:\n",
    "    print(x, '+ 2 =', y)\n",
    "else:\n",
    "    print(x, \"and\", y, \"are equal\")"
   ]
  },
  {
   "cell_type": "code",
   "execution_count": 10,
   "metadata": {},
   "outputs": [
    {
     "name": "stdout",
     "output_type": "stream",
     "text": [
      "4 is less than 5\n"
     ]
    }
   ],
   "source": [
    "if x < y:\n",
    "    print(x, 'is less than', y)\n",
    "print(x, 'is not less than', y)"
   ]
  },
  {
   "cell_type": "markdown",
   "metadata": {},
   "source": [
    "* __`elif`__ means _else if_, which is optional\n",
    "* there is no limit to the number of __`elif`__ statements\n",
    "* if there is an __`else`__, it has to be the last branch"
   ]
  },
  {
   "cell_type": "markdown",
   "metadata": {
    "slideshow": {
     "slide_type": "subslide"
    }
   },
   "source": [
    "## Nested Conditionals\n",
    "* one conditional can be nested within another\n",
    "* therefore, we could have written the previous __`if`__ statement as follows:\n"
   ]
  },
  {
   "cell_type": "code",
   "execution_count": 13,
   "metadata": {},
   "outputs": [
    {
     "name": "stdout",
     "output_type": "stream",
     "text": [
      "15.3 is greater than 15.2\n"
     ]
    }
   ],
   "source": [
    "x = 15.3\n",
    "y = 15.2\n",
    "if x == y:\n",
    "    print (x, \"and\", y, \"are equal\")\n",
    "else:\n",
    "    if x < y:\n",
    "        print(x, \"is less than\", y)\n",
    "    else:\n",
    "        print(x, \"is greater than\", y)"
   ]
  },
  {
   "cell_type": "markdown",
   "metadata": {
    "slideshow": {
     "slide_type": "subslide"
    }
   },
   "source": [
    "## Lab: Odd-Even Program (our first program that does something)\n",
    "1. prompt the user to enter a number\n",
    "2. read input from the user\n",
    "3. convert the input to an integer\n",
    "4. tell the user whether the number entered was odd or even\n"
   ]
  },
  {
   "cell_type": "code",
   "execution_count": 21,
   "metadata": {},
   "outputs": [
    {
     "name": "stdout",
     "output_type": "stream",
     "text": [
      "Enter a number:4.7\n",
      "Number 4.7 is Odd.\n"
     ]
    }
   ],
   "source": [
    "number = int(float(input('Enter a number:')))\n",
    "if number % 2 == 0:\n",
    "    print('Number', number, 'is Even.')\n",
    "else:\n",
    "    print('Number', number, 'is Odd.')"
   ]
  },
  {
   "cell_type": "code",
   "execution_count": 24,
   "metadata": {},
   "outputs": [
    {
     "data": {
      "text/plain": [
       "0.7000000000000002"
      ]
     },
     "execution_count": 24,
     "metadata": {},
     "output_type": "execute_result"
    }
   ],
   "source": [
    "4.7 % 2"
   ]
  },
  {
   "cell_type": "code",
   "execution_count": null,
   "metadata": {},
   "outputs": [],
   "source": [
    "if number % 2 == 0:\n",
    "    message = 'Even'\n",
    "else:\n",
    "    message = 'Odd'\n",
    "print(number, 'is', message)"
   ]
  },
  {
   "cell_type": "code",
   "execution_count": 28,
   "metadata": {},
   "outputs": [
    {
     "name": "stdout",
     "output_type": "stream",
     "text": [
      "3 is Odd\n"
     ]
    }
   ],
   "source": [
    "number = 3\n",
    "message = 'Even' if number % 2 == 0 else 'Odd'\n",
    "print(number, 'is', message)"
   ]
  },
  {
   "cell_type": "code",
   "execution_count": 29,
   "metadata": {},
   "outputs": [
    {
     "name": "stdout",
     "output_type": "stream",
     "text": [
      "3 is Odd\n"
     ]
    }
   ],
   "source": [
    "print(number, 'is', 'Even' if number % 2 == 0 else 'Odd')"
   ]
  },
  {
   "cell_type": "markdown",
   "metadata": {},
   "source": [
    "## Lab: Leap Year Program\n",
    "1. prompt the user to enter a year\n",
    "2. read input from the user\n",
    "3. convert the input to an integer\n",
    "4. tell the user whether the year entered is a leap year or not\n",
    "  * a year is a leap year if\n",
    "  1. it's divisible by 4 AND\n",
    "  2. it's not divisible by 100 (i.e., 1900 was not a leap year) UNLESS\n",
    "  3. it's also divisible by 400 (i.e., 2000 was a leap year)"
   ]
  },
  {
   "cell_type": "code",
   "execution_count": null,
   "metadata": {},
   "outputs": [],
   "source": []
  },
  {
   "cell_type": "markdown",
   "metadata": {
    "slideshow": {
     "slide_type": "slide"
    }
   },
   "source": [
    "# The Art of Programming"
   ]
  },
  {
   "cell_type": "markdown",
   "metadata": {
    "slideshow": {
     "slide_type": "subslide"
    }
   },
   "source": [
    "## The Art of Programming\n",
    "* first off, what do we mean by programming?\n",
    "  * understanding the problem at hand\n",
    "  * formulating a solution to that problem as a series of steps\n",
    "  * converting those steps into code\n",
    "  * testing your code\n",
    "  * fixing bugs\n",
    "* next, what do we mean by art?\n",
    "  * coding is a procedure we follow, and as such, we could argue there isn't much 'art' involved\n",
    "  * however, experienced programmers often use their intuition and deep understanding of problems and coding practices to \"finesse\" a solution\n",
    "  * in a sense they can \"see\" the problem clearer, and therefore generate a solution quicker and often better than those who are inexperienced\n",
    "* so how do new programmers get to that point?\n",
    "  * just like the old joke about Carnegie Hall–practice, practice, practice!"
   ]
  },
  {
   "cell_type": "code",
   "execution_count": 30,
   "metadata": {},
   "outputs": [
    {
     "name": "stdout",
     "output_type": "stream",
     "text": [
      "The Zen of Python, by Tim Peters\n",
      "\n",
      "Beautiful is better than ugly.\n",
      "Explicit is better than implicit.\n",
      "Simple is better than complex.\n",
      "Complex is better than complicated.\n",
      "Flat is better than nested.\n",
      "Sparse is better than dense.\n",
      "Readability counts.\n",
      "Special cases aren't special enough to break the rules.\n",
      "Although practicality beats purity.\n",
      "Errors should never pass silently.\n",
      "Unless explicitly silenced.\n",
      "In the face of ambiguity, refuse the temptation to guess.\n",
      "There should be one-- and preferably only one --obvious way to do it.\n",
      "Although that way may not be obvious at first unless you're Dutch.\n",
      "Now is better than never.\n",
      "Although never is often better than *right* now.\n",
      "If the implementation is hard to explain, it's a bad idea.\n",
      "If the implementation is easy to explain, it may be a good idea.\n",
      "Namespaces are one honking great idea -- let's do more of those!\n"
     ]
    }
   ],
   "source": [
    "import this"
   ]
  },
  {
   "cell_type": "markdown",
   "metadata": {
    "slideshow": {
     "slide_type": "subslide"
    }
   },
   "source": [
    "## Converting a Problem Into Code\n",
    "1. be sure you understand the problem (do not start coding yet)\n",
    "2. write down the sequence of steps you use to solve that problem \"in real life\" (do not start coding yet)\n",
    "3. convert each step into the code to perform it\n",
    "\n",
    "__DO NOT WRITE CODE UNTIL YOU KNOW WHAT YOU ARE WRITING AND WHY YOU ARE WRITING IT!__"
   ]
  },
  {
   "cell_type": "markdown",
   "metadata": {},
   "source": [
    "## Mental Models\n",
    "* a _mental model_ is an explanation of someone's thought process about how something works in the real world\n",
    "* mental models can help generate an approach to solving problems\n",
    "* Kenneth Craik suggested in 1943 that the mind constructs \"small-scale models\" of reality that it uses to anticipate events\n",
    "* it is my belief that most bugs in our program occur because of an incorrect mental model\n",
    "  * if our understanding (or modeling) of a problem is flawed, then necessarily our code will be flawed\n",
    "* when code doesn't work, we may want to pay attention to our mental model and see if we can find flaws in it\n",
    "  * i.e., is there assumption we are making which is untrue?"
   ]
  },
  {
   "cell_type": "markdown",
   "metadata": {
    "slideshow": {
     "slide_type": "slide"
    }
   },
   "source": [
    "## Iteration\n",
    "* to _iterate_ is to _repeat_ something (in the case of programming, we will be repeating some code)"
   ]
  },
  {
   "cell_type": "markdown",
   "metadata": {
    "slideshow": {
     "slide_type": "subslide"
    }
   },
   "source": [
    "## The __`for`__ Loop\n",
    "* we use a __`for`__ loop when we want to repeat something a _known_ number of times\n",
    "* real world example–_drive for __5 blocks__ and then turn right_\n",
    "* there are two types of __`for`__ loops in Python\n",
    "  * looping through a numeric range\n",
    "  * looping through a _container_\n",
    "    * containers are Python data types which _contain_ things (e.g., a string contains characters)\n",
    "* syntax\n",
    "\n",
    "   <pre>\n",
    "      <b>\n",
    "      for variable in sequence:\n",
    "          statement(s)\n",
    "      </b>\n",
    "   </pre>\n",
    "* you choose the name of the _variable_, which should be something that makes sense\n",
    "<img src=\"images/python_for_loop.jpg\" alt=\"flow\" style=\"width: 350px;\"/>"
   ]
  },
  {
   "cell_type": "code",
   "execution_count": 31,
   "metadata": {},
   "outputs": [
    {
     "name": "stdout",
     "output_type": "stream",
     "text": [
      "C\n",
      "O\n",
      "N\n",
      "T\n",
      "A\n",
      "I\n",
      "N\n",
      "E\n",
      "R\n"
     ]
    }
   ],
   "source": [
    "# loop through a container (in this case,\n",
    "# the container is a string)\n",
    "\n",
    "for item in 'CONTAINER':\n",
    "    print(item)"
   ]
  },
  {
   "cell_type": "code",
   "execution_count": 34,
   "metadata": {},
   "outputs": [
    {
     "name": "stdout",
     "output_type": "stream",
     "text": [
      "1\n",
      "2\n",
      "3\n",
      "4\n",
      "5\n",
      "6\n",
      "7\n",
      "8\n",
      "9\n"
     ]
    }
   ],
   "source": [
    "# for reasons that are not important right now, a Python range always\n",
    "# excludes the last number ...so range(1, 10) means 1, 2, ..., 9\n",
    "\n",
    "# for (i = 0; i < 10; i++) {\n",
    "# print(i)\n",
    "#}\n",
    "\n",
    "for number in range(1, 10):\n",
    "    print(number)"
   ]
  },
  {
   "cell_type": "markdown",
   "metadata": {},
   "source": [
    "## Lab: for loops\n",
    "* write a Python program which asks the user for a string and then outputs the same string with each character duplicated\n",
    "  * e.g., if the user enters __salesforce__, your program will output __ssaalleessffoorrccee__\n",
    "* write a Python program to compute __`n! (= n * n - 1 * n - 2 ... * 1)`__\n",
    "  * so if the user enters a 5, your program should compute __`5 * 4 * 3 * 2 * 1 (120)`__"
   ]
  },
  {
   "cell_type": "code",
   "execution_count": 37,
   "metadata": {
    "scrolled": true
   },
   "outputs": [
    {
     "name": "stdout",
     "output_type": "stream",
     "text": [
      "Please enter some text:salesforce\n",
      "ssaalleessffoorrccee\n"
     ]
    }
   ],
   "source": [
    "text = input('Please enter some text:')\n",
    "output = ''\n",
    "for char in text:\n",
    "    output += char * 2\n",
    "print(output)"
   ]
  },
  {
   "cell_type": "code",
   "execution_count": 38,
   "metadata": {},
   "outputs": [
    {
     "name": "stdout",
     "output_type": "stream",
     "text": [
      "10\n",
      "9\n",
      "8\n",
      "7\n",
      "6\n",
      "5\n",
      "4\n",
      "3\n",
      "2\n"
     ]
    }
   ],
   "source": [
    "for i in range(10, 1, -1):\n",
    "    print(i)"
   ]
  },
  {
   "cell_type": "code",
   "execution_count": 42,
   "metadata": {},
   "outputs": [
    {
     "name": "stdout",
     "output_type": "stream",
     "text": [
      "Enter a number:0\n",
      "1\n"
     ]
    }
   ],
   "source": [
    "n = int(input(\"Enter a number:\"))\n",
    "output = 1\n",
    "for i in range(n, 0, -1):\n",
    "    print(i)\n",
    "    output = output * i\n",
    "print(output)"
   ]
  },
  {
   "cell_type": "markdown",
   "metadata": {
    "slideshow": {
     "slide_type": "subslide"
    }
   },
   "source": [
    "## The __`while`__ Loop\n",
    "* we use a __`while`__ loop when we want to repeat something an _unknown_ number of times\n",
    "* real world example–_keep driving until you get to a traffic light, then turn right_\n",
    "* a __`while`__ loop checks a boolean condition and keeps going until the condition becomes false \n",
    "* much less common than __`for`__ loops\n",
    "* syntax\n",
    "\n",
    "   <pre>\n",
    "      <b>\n",
    "      while condition:\n",
    "          statement(s)\n",
    "      </b>\n",
    "   </pre>\n",
    "        \n",
    "<img src=\"images/python_while_loop.jpg\" alt=\"flow\" style=\"width: 350px;\"/>\n"
   ]
  },
  {
   "cell_type": "code",
   "execution_count": 43,
   "metadata": {},
   "outputs": [
    {
     "name": "stdout",
     "output_type": "stream",
     "text": [
      "Enter a positive number: 0\n",
      "Enter a positive number: -2\n",
      "Enter a positive number: -4\n",
      "Enter a positive number: 2\n"
     ]
    }
   ],
   "source": [
    "num = 0\n",
    "while num < 1:\n",
    "    num = int(input(\n",
    "        \"Enter a positive number: \"))"
   ]
  },
  {
   "cell_type": "markdown",
   "metadata": {},
   "source": [
    "## Lab: while loops\n",
    "1. write Python code which prompts the user to enter a 5-letter string\n",
    "  * it then reads input from the user and stops if the user did in fact enter a 5-letter string\n",
    "  * otherwise, it prints an error message, and once again asks the user to enter a 5-letter string\n",
    "2. write a Python program which picks a random number between 1 and 100 and asks the user to guess it\n",
    "  * if the user's guess is too high, say it's too high\n",
    "  * if the user's guess is too low, say it's too low\n",
    "  * if the user's guess is correct, say it's correct and stop looping\n",
    "  * you can use the code below to get a random number\n",
    "  \n",
    "  <pre><b>\n",
    "  import random\n",
    "  number = random.randint(1, 100)\n",
    "  </b></pre>"
   ]
  },
  {
   "cell_type": "code",
   "execution_count": 44,
   "metadata": {},
   "outputs": [
    {
     "data": {
      "text/plain": [
       "5"
      ]
     },
     "execution_count": 44,
     "metadata": {},
     "output_type": "execute_result"
    }
   ],
   "source": [
    "len('hello')"
   ]
  },
  {
   "cell_type": "code",
   "execution_count": 45,
   "metadata": {},
   "outputs": [
    {
     "name": "stdout",
     "output_type": "stream",
     "text": [
      "Please enter a five letter string:abcd\n",
      "Oops! That was not 5 letter!  Please try again: abcde\n",
      "Great!  You entered a 5 letter string: abcde\n"
     ]
    }
   ],
   "source": [
    "name = input('Please enter a five letter string:')\n",
    "while len(name) != 5:\n",
    "    name = input('Oops! That was not 5 letter!  Please try again: ')\n",
    "print('Great!  You entered a 5 letter string:', name)"
   ]
  },
  {
   "cell_type": "code",
   "execution_count": null,
   "metadata": {},
   "outputs": [],
   "source": [
    "name = ''\n",
    "while len(name) != 5:\n",
    "    name = input('Please enter a 5 letter word: ')\n",
    "print('Great!  You entered a 5 letter string:', name)"
   ]
  },
  {
   "cell_type": "code",
   "execution_count": null,
   "metadata": {},
   "outputs": [],
   "source": [
    "import random\n",
    "number = random.randint(1, 100)"
   ]
  },
  {
   "cell_type": "code",
   "execution_count": null,
   "metadata": {},
   "outputs": [],
   "source": [
    "print(\"Your guess was\", \"Too low!\" if number < guess else \"Too high!\")"
   ]
  },
  {
   "cell_type": "markdown",
   "metadata": {
    "slideshow": {
     "slide_type": "subslide"
    }
   },
   "source": [
    "## Syntax Common to Both __`for`__ and __`while`__ Loops\n",
    "* the __`break`__ statement is used to immediately exit a loop\n",
    "* the __`continue`__ statement is used to skip the rest of the loop and continue with the next iteration\n",
    "* the __`else`__ clause is executed only if the loop finished _normally_–meaning it did not finish as a result of a __`break`__ statement\n",
    "  * __`else`__ is a terrible name and we just have to live with it\n",
    "* let's see examples of each of these..."
   ]
  },
  {
   "cell_type": "code",
   "execution_count": 46,
   "metadata": {},
   "outputs": [
    {
     "name": "stdout",
     "output_type": "stream",
     "text": [
      "Enter low number: 120\n",
      "First multiple of 37 above 120 is 148\n"
     ]
    }
   ],
   "source": [
    "# 'break' example: find the first multiple\n",
    "# of 37 >= to the entered number\n",
    "\n",
    "num = int(input('Enter low number: '))\n",
    "\n",
    "for check in range(num, num + 37):\n",
    "    if check % 37 == 0: # num is divisible by 37\n",
    "        print('First multiple of 37 above',\n",
    "              num, 'is', check)\n",
    "        break # quit the loop right now"
   ]
  },
  {
   "cell_type": "code",
   "execution_count": 48,
   "metadata": {},
   "outputs": [
    {
     "name": "stdout",
     "output_type": "stream",
     "text": [
      "2 is even\n",
      "3 is odd\n",
      "4 is even\n",
      "5 is odd\n",
      "6 is even\n",
      "7 is odd\n",
      "8 is even\n",
      "9 is odd\n",
      "10 is even\n"
     ]
    }
   ],
   "source": [
    "# 'continue' example: print out whether numbers are even or odd\n",
    "\n",
    "for num in range(2, 11): # 2..10\n",
    "    if num % 2 == 0: # if num is divisible by 2 (hence even)\n",
    "        print(num, 'is even')\n",
    "        continue # skip next line and iterate again\n",
    "    print(num, 'is odd')"
   ]
  },
  {
   "cell_type": "code",
   "execution_count": 50,
   "metadata": {},
   "outputs": [
    {
     "name": "stdout",
     "output_type": "stream",
     "text": [
      "Enter a 5-letter word: abcde\n",
      "This will always execute\n"
     ]
    }
   ],
   "source": [
    "# else example\n",
    "\n",
    "for num in range(1, 6): # 1..5\n",
    "    word = input('Enter a 5-letter word: ')\n",
    "    # here we see a new function, len()\n",
    "    if len(word) == 5:\n",
    "        break\n",
    "# this is only executed if we didn't 'break' out of the loop\n",
    "else:\n",
    "    print(\"Why can't you follow directions?\")\n",
    "print('This will always execute')"
   ]
  },
  {
   "cell_type": "markdown",
   "metadata": {},
   "source": [
    "## Lab: break/continue/else\n",
    "* modify your guessing game to add the option for the user to give up by typing a 0 as his or her guess:\n",
    "    * if the user enters a 0, exit the loop\n",
    "    * after the loop, we need to determine   \n",
    "    whether the user gave up or guessed the   \n",
    "    number correctly\n",
    "    * if gave up, print 'sorry you\n",
    "     gave up'\n",
    "    * if correct, print 'got it!'\n",
    "</pre>\n"
   ]
  },
  {
   "cell_type": "code",
   "execution_count": null,
   "metadata": {},
   "outputs": [],
   "source": []
  },
  {
   "cell_type": "markdown",
   "metadata": {
    "slideshow": {
     "slide_type": "subslide"
    }
   },
   "source": [
    "## Post-Test Loops\n",
    "* occasionally we want a loop where the test is performed at the end of the loop\n",
    "* some languages have a special _do-while_ loop for this case, but that doesn't exist in Python\n",
    "* we can simulate a _do-while_ loop in Python as follows:\n",
    "\n",
    " <pre>\n",
    "      <b>\n",
    "      while True:\n",
    "          statement(s)\n",
    "          if condition is false:\n",
    "              break\n",
    "      </b>\n",
    "   </pre>"
   ]
  },
  {
   "cell_type": "code",
   "execution_count": 51,
   "metadata": {},
   "outputs": [
    {
     "name": "stdout",
     "output_type": "stream",
     "text": [
      "Enter a number: 1\n",
      "Enter a number: 2\n",
      "Enter a number: 3\n",
      "Enter a number: 6\n",
      "Enter a number: 10\n",
      "Enter a number: 0\n",
      "22\n"
     ]
    }
   ],
   "source": [
    "# keep adding numbers until user enters a 0\n",
    "\n",
    "total = 0\n",
    "\n",
    "while True: # infinite loop, so we must have a 'break' somewhere in the loop\n",
    "    num = int(input('Enter a number: '))\n",
    "    total += num\n",
    "    if num == 0:\n",
    "        break\n",
    "\n",
    "print(total)"
   ]
  },
  {
   "cell_type": "code",
   "execution_count": 56,
   "metadata": {},
   "outputs": [
    {
     "data": {
      "text/plain": [
       "False"
      ]
     },
     "execution_count": 56,
     "metadata": {},
     "output_type": "execute_result"
    }
   ],
   "source": [
    "if type(num) is int:\n",
    "    print('Is a int')"
   ]
  },
  {
   "cell_type": "code",
   "execution_count": 58,
   "metadata": {},
   "outputs": [
    {
     "name": "stdout",
     "output_type": "stream",
     "text": [
      "1\n"
     ]
    },
    {
     "data": {
      "text/plain": [
       "['__abs__',\n",
       " '__add__',\n",
       " '__and__',\n",
       " '__bool__',\n",
       " '__ceil__',\n",
       " '__class__',\n",
       " '__delattr__',\n",
       " '__dir__',\n",
       " '__divmod__',\n",
       " '__doc__',\n",
       " '__eq__',\n",
       " '__float__',\n",
       " '__floor__',\n",
       " '__floordiv__',\n",
       " '__format__',\n",
       " '__ge__',\n",
       " '__getattribute__',\n",
       " '__getnewargs__',\n",
       " '__gt__',\n",
       " '__hash__',\n",
       " '__index__',\n",
       " '__init__',\n",
       " '__init_subclass__',\n",
       " '__int__',\n",
       " '__invert__',\n",
       " '__le__',\n",
       " '__lshift__',\n",
       " '__lt__',\n",
       " '__mod__',\n",
       " '__mul__',\n",
       " '__ne__',\n",
       " '__neg__',\n",
       " '__new__',\n",
       " '__or__',\n",
       " '__pos__',\n",
       " '__pow__',\n",
       " '__radd__',\n",
       " '__rand__',\n",
       " '__rdivmod__',\n",
       " '__reduce__',\n",
       " '__reduce_ex__',\n",
       " '__repr__',\n",
       " '__rfloordiv__',\n",
       " '__rlshift__',\n",
       " '__rmod__',\n",
       " '__rmul__',\n",
       " '__ror__',\n",
       " '__round__',\n",
       " '__rpow__',\n",
       " '__rrshift__',\n",
       " '__rshift__',\n",
       " '__rsub__',\n",
       " '__rtruediv__',\n",
       " '__rxor__',\n",
       " '__setattr__',\n",
       " '__sizeof__',\n",
       " '__str__',\n",
       " '__sub__',\n",
       " '__subclasshook__',\n",
       " '__truediv__',\n",
       " '__trunc__',\n",
       " '__xor__',\n",
       " 'bit_length',\n",
       " 'conjugate',\n",
       " 'denominator',\n",
       " 'from_bytes',\n",
       " 'imag',\n",
       " 'numerator',\n",
       " 'real',\n",
       " 'to_bytes']"
      ]
     },
     "execution_count": 58,
     "metadata": {},
     "output_type": "execute_result"
    }
   ],
   "source": [
    "print(num + 1)\n",
    "# num.__add__(1)\n",
    "dir(num)"
   ]
  },
  {
   "cell_type": "markdown",
   "metadata": {
    "slideshow": {
     "slide_type": "subslide"
    }
   },
   "source": [
    "## Middle-Test Loops\n",
    "* like a post-test loop, we want a loop where the test is not performed at the top\n",
    "* in this case the test is performed in the middle\n",
    "* no language has a middle-test loop construct\n",
    "* we can perform a middle-test loop in Python as follows:\n",
    "\n",
    " <pre>\n",
    "      <b>\n",
    "      while True:\n",
    "          statement(s)\n",
    "          if condition is false:\n",
    "              break\n",
    "          statement(s)\n",
    "      </b>\n",
    "   </pre>"
   ]
  },
  {
   "cell_type": "code",
   "execution_count": 59,
   "metadata": {},
   "outputs": [
    {
     "name": "stdout",
     "output_type": "stream",
     "text": [
      "Enter the next number (leave blank to end): 3\n",
      "Enter the next number (leave blank to end): 4\n",
      "Enter the next number (leave blank to end): \n",
      "The total of the numbers you entered is 7\n"
     ]
    }
   ],
   "source": [
    "# sum up the numbers until user hits return\n",
    "\n",
    "total = 0\n",
    "\n",
    "while True: \n",
    "    num = input(\"Enter the next number (leave blank to end): \")\n",
    "    if num == '':\n",
    "        break\n",
    "    total += int(num)\n",
    "    \n",
    "print(\"The total of the numbers you entered is\", total)"
   ]
  },
  {
   "cell_type": "markdown",
   "metadata": {
    "slideshow": {
     "slide_type": "subslide"
    }
   },
   "source": [
    "## Nested Loops\n",
    "* it is possible–and quite common–to have a loop inside a loop\n",
    "* in these cases, the inner loop(s) must complete before the outer loop continues"
   ]
  },
  {
   "cell_type": "code",
   "execution_count": 60,
   "metadata": {},
   "outputs": [
    {
     "name": "stdout",
     "output_type": "stream",
     "text": [
      "   1    2    3    4    5    6    7    8    9   10 \n",
      "   2    4    6    8   10   12   14   16   18   20 \n",
      "   3    6    9   12   15   18   21   24   27   30 \n",
      "   4    8   12   16   20   24   28   32   36   40 \n",
      "   5   10   15   20   25   30   35   40   45   50 \n",
      "   6   12   18   24   30   36   42   48   54   60 \n",
      "   7   14   21   28   35   42   49   56   63   70 \n",
      "   8   16   24   32   40   48   56   64   72   80 \n",
      "   9   18   27   36   45   54   63   72   81   90 \n",
      "  10   20   30   40   50   60   70   80   90  100 \n"
     ]
    }
   ],
   "source": [
    "for first in range(1, 11):\n",
    "    # for each iteration of the outer loop, the inner loop\n",
    "    # will run to completion\n",
    "    for second in range(1, 11):\n",
    "        #print(first * second, end=' ')\n",
    "        #print('%3d' % (first * second), end=' ') # Python 2-style\n",
    "        print('{:4d}'.format(first * second), end=' ')\n",
    "\n",
    "    print()"
   ]
  },
  {
   "cell_type": "markdown",
   "metadata": {},
   "source": [
    "## Lab: Finding Prime Numbers\n",
    "* write a program to print out the prime numbers between 10 and 30\n",
    "* a number is prime if it's only divisible by 1 and itself\n",
    "* algorithm\n",
    "  * for each number 10 to 30\n",
    "    * try to divide in all of the numbers up to (but not including) the current number\n",
    "    * if any lower number divides in evenly, the number is not prime\n",
    "    * if NONE of the lower numbers divide in evenly, the number IS prime\n",
    "* later, if there's time, we'll look at another way to find prime numbers that was discovered by Eratosthenes"
   ]
  },
  {
   "cell_type": "code",
   "execution_count": null,
   "metadata": {},
   "outputs": [],
   "source": []
  },
  {
   "cell_type": "markdown",
   "metadata": {
    "slideshow": {
     "slide_type": "slide"
    }
   },
   "source": [
    "# Complex Datatypes in Python"
   ]
  },
  {
   "cell_type": "markdown",
   "metadata": {
    "slideshow": {
     "slide_type": "subslide"
    }
   },
   "source": [
    "## Lists\n",
    "* a list is an ordered set of values\n",
    "* the items which make up a list are called its _elements_\n",
    "* lists are similar to strings, which are _ordered sets of characters_\n",
    "  * except that the elements of a list can have any type\n",
    "* lists and strings—and other things that behave like ordered sets—are called sequences"
   ]
  },
  {
   "cell_type": "code",
   "execution_count": 64,
   "metadata": {},
   "outputs": [
    {
     "name": "stdout",
     "output_type": "stream",
     "text": [
      "['banana', 'apple', 'pear', 'mango', 'cherry', 'blueberry', 'apple']\n",
      "['Dave', 19, 34.5]\n",
      "[]\n"
     ]
    }
   ],
   "source": [
    "list_of_fruits = [\n",
    "    'banana', 'apple', 'pear', 'mango', \n",
    "    'cherry', 'blueberry', 'apple']\n",
    "funnylist = ['Dave', 19, 34.5]\n",
    "empty_list = []\n",
    "# sep is an optional argument or parameter to the print() function which dictates\n",
    "# the separator character that should be printed between items\n",
    "print(list_of_fruits, funnylist, empty_list, sep='\\n')"
   ]
  },
  {
   "cell_type": "code",
   "execution_count": 63,
   "metadata": {},
   "outputs": [
    {
     "name": "stdout",
     "output_type": "stream",
     "text": [
      "Help on list object:\n",
      "\n",
      "class list(object)\n",
      " |  list(iterable=(), /)\n",
      " |  \n",
      " |  Built-in mutable sequence.\n",
      " |  \n",
      " |  If no argument is given, the constructor creates a new empty list.\n",
      " |  The argument must be an iterable if specified.\n",
      " |  \n",
      " |  Methods defined here:\n",
      " |  \n",
      " |  __add__(self, value, /)\n",
      " |      Return self+value.\n",
      " |  \n",
      " |  __contains__(self, key, /)\n",
      " |      Return key in self.\n",
      " |  \n",
      " |  __delitem__(self, key, /)\n",
      " |      Delete self[key].\n",
      " |  \n",
      " |  __eq__(self, value, /)\n",
      " |      Return self==value.\n",
      " |  \n",
      " |  __ge__(self, value, /)\n",
      " |      Return self>=value.\n",
      " |  \n",
      " |  __getattribute__(self, name, /)\n",
      " |      Return getattr(self, name).\n",
      " |  \n",
      " |  __getitem__(...)\n",
      " |      x.__getitem__(y) <==> x[y]\n",
      " |  \n",
      " |  __gt__(self, value, /)\n",
      " |      Return self>value.\n",
      " |  \n",
      " |  __iadd__(self, value, /)\n",
      " |      Implement self+=value.\n",
      " |  \n",
      " |  __imul__(self, value, /)\n",
      " |      Implement self*=value.\n",
      " |  \n",
      " |  __init__(self, /, *args, **kwargs)\n",
      " |      Initialize self.  See help(type(self)) for accurate signature.\n",
      " |  \n",
      " |  __iter__(self, /)\n",
      " |      Implement iter(self).\n",
      " |  \n",
      " |  __le__(self, value, /)\n",
      " |      Return self<=value.\n",
      " |  \n",
      " |  __len__(self, /)\n",
      " |      Return len(self).\n",
      " |  \n",
      " |  __lt__(self, value, /)\n",
      " |      Return self<value.\n",
      " |  \n",
      " |  __mul__(self, value, /)\n",
      " |      Return self*value.\n",
      " |  \n",
      " |  __ne__(self, value, /)\n",
      " |      Return self!=value.\n",
      " |  \n",
      " |  __repr__(self, /)\n",
      " |      Return repr(self).\n",
      " |  \n",
      " |  __reversed__(self, /)\n",
      " |      Return a reverse iterator over the list.\n",
      " |  \n",
      " |  __rmul__(self, value, /)\n",
      " |      Return value*self.\n",
      " |  \n",
      " |  __setitem__(self, key, value, /)\n",
      " |      Set self[key] to value.\n",
      " |  \n",
      " |  __sizeof__(self, /)\n",
      " |      Return the size of the list in memory, in bytes.\n",
      " |  \n",
      " |  append(self, object, /)\n",
      " |      Append object to the end of the list.\n",
      " |  \n",
      " |  clear(self, /)\n",
      " |      Remove all items from list.\n",
      " |  \n",
      " |  copy(self, /)\n",
      " |      Return a shallow copy of the list.\n",
      " |  \n",
      " |  count(self, value, /)\n",
      " |      Return number of occurrences of value.\n",
      " |  \n",
      " |  extend(self, iterable, /)\n",
      " |      Extend list by appending elements from the iterable.\n",
      " |  \n",
      " |  index(self, value, start=0, stop=9223372036854775807, /)\n",
      " |      Return first index of value.\n",
      " |      \n",
      " |      Raises ValueError if the value is not present.\n",
      " |  \n",
      " |  insert(self, index, object, /)\n",
      " |      Insert object before index.\n",
      " |  \n",
      " |  pop(self, index=-1, /)\n",
      " |      Remove and return item at index (default last).\n",
      " |      \n",
      " |      Raises IndexError if list is empty or index is out of range.\n",
      " |  \n",
      " |  remove(self, value, /)\n",
      " |      Remove first occurrence of value.\n",
      " |      \n",
      " |      Raises ValueError if the value is not present.\n",
      " |  \n",
      " |  reverse(self, /)\n",
      " |      Reverse *IN PLACE*.\n",
      " |  \n",
      " |  sort(self, /, *, key=None, reverse=False)\n",
      " |      Stable sort *IN PLACE*.\n",
      " |  \n",
      " |  ----------------------------------------------------------------------\n",
      " |  Static methods defined here:\n",
      " |  \n",
      " |  __new__(*args, **kwargs) from builtins.type\n",
      " |      Create and return a new object.  See help(type) for accurate signature.\n",
      " |  \n",
      " |  ----------------------------------------------------------------------\n",
      " |  Data and other attributes defined here:\n",
      " |  \n",
      " |  __hash__ = None\n",
      "\n"
     ]
    }
   ],
   "source": [
    "dir(list_of_fruits)\n",
    "help(list_of_fruits)"
   ]
  },
  {
   "cell_type": "markdown",
   "metadata": {},
   "source": [
    "* lists may contain duplicate elements\n",
    "* lists are usually homogeneous, but they need not be\n",
    "* other languages have a datatype called an _array_ which is similar to a list, but one main difference is that an array can only contain items of one type–i.e., an array of integers, and array of floats, etc."
   ]
  },
  {
   "cell_type": "markdown",
   "metadata": {
    "slideshow": {
     "slide_type": "subslide"
    }
   },
   "source": [
    "## Lab: Lists\n",
    "* create two lists which are different\n",
    "* compare them for equality\n",
    "* create a third list which has the same elements as one of the other lists\n",
    "* verify that Python says they are the same"
   ]
  },
  {
   "cell_type": "code",
   "execution_count": 69,
   "metadata": {},
   "outputs": [
    {
     "data": {
      "text/plain": [
       "False"
      ]
     },
     "execution_count": 69,
     "metadata": {},
     "output_type": "execute_result"
    }
   ],
   "source": [
    "first_list = ['a', 'b', 'c', 'd', 'e']\n",
    "second_list = [1, 2, 3, 4, 5]\n",
    "\n",
    "first_list == second_list"
   ]
  },
  {
   "cell_type": "code",
   "execution_count": 70,
   "metadata": {},
   "outputs": [
    {
     "data": {
      "text/plain": [
       "True"
      ]
     },
     "execution_count": 70,
     "metadata": {},
     "output_type": "execute_result"
    }
   ],
   "source": [
    "third_list = [1, 2, 3, 4, 5]\n",
    "second_list == third_list"
   ]
  },
  {
   "cell_type": "code",
   "execution_count": 74,
   "metadata": {},
   "outputs": [
    {
     "data": {
      "text/plain": [
       "(140362890561168, 140362890561168)"
      ]
     },
     "execution_count": 74,
     "metadata": {},
     "output_type": "execute_result"
    }
   ],
   "source": [
    "second_list is third_list\n",
    "id(second_list), id(third_list)\n",
    "second_list = third_list\n",
    "second_list is third_list\n",
    "id(second_list), id(third_list)"
   ]
  },
  {
   "cell_type": "markdown",
   "metadata": {
    "slideshow": {
     "slide_type": "subslide"
    }
   },
   "source": [
    "## Accessing Elements of a List\n",
    "* the syntax for accessing the elements of a list is the same as the syntax for accessing the characters of a string—the bracket operator–__`[]`__\n",
    "* the expression inside the brackets specifies the index\n",
    "* the indices start at 0, because computer scientists start counting at 0\n",
    "* you can use negative indices to refer to the elements from the end backwards"
   ]
  },
  {
   "cell_type": "code",
   "execution_count": 75,
   "metadata": {},
   "outputs": [
    {
     "name": "stdout",
     "output_type": "stream",
     "text": [
      "banana\n",
      "['Dave', 'not Dave', 34.5]\n",
      "['banana', 'apple', 'pear', 'mango', 'cherry', 'blueberry', 'raspberry']\n"
     ]
    }
   ],
   "source": [
    "print(list_of_fruits[0])\n",
    "funnylist[1] = 'not Dave'\n",
    "print(funnylist)\n",
    "list_of_fruits[-1] = 'raspberry'\n",
    "print(list_of_fruits)"
   ]
  },
  {
   "cell_type": "code",
   "execution_count": 76,
   "metadata": {},
   "outputs": [
    {
     "name": "stdout",
     "output_type": "stream",
     "text": [
      "banana\n",
      "['bananas', 'apple', 'pear', 'mango', 'cherry', 'blueberry', 'raspberry']\n"
     ]
    }
   ],
   "source": [
    "print(list_of_fruits[0])\n",
    "list_of_fruits[0] = list_of_fruits[0] + 's'\n",
    "print(list_of_fruits)"
   ]
  },
  {
   "cell_type": "markdown",
   "metadata": {
    "slideshow": {
     "slide_type": "subslide"
    }
   },
   "source": [
    "## Iterating Through a List\n",
    "* a list is a _container_, so we can use Python's natural iteration to cycle through the list\n",
    "* syntax\n",
    "\n",
    "<pre><b>\n",
    "    for item in list:\n",
    "        do something with item (e.g., print)\n",
    "</b></pre>"
   ]
  },
  {
   "cell_type": "code",
   "execution_count": 79,
   "metadata": {
    "slideshow": {
     "slide_type": "-"
    }
   },
   "outputs": [
    {
     "name": "stdout",
     "output_type": "stream",
     "text": [
      "bananas\n",
      "apple\n",
      "pear\n",
      "mango\n",
      "cherry\n",
      "blueberry\n",
      "raspberry\n"
     ]
    }
   ],
   "source": [
    "for fruit in list_of_fruits:\n",
    "    print(fruit)"
   ]
  },
  {
   "cell_type": "code",
   "execution_count": 80,
   "metadata": {},
   "outputs": [
    {
     "name": "stdout",
     "output_type": "stream",
     "text": [
      "bananas\n",
      "apple\n",
      "pear\n",
      "mango\n",
      "cherry\n",
      "blueberry\n",
      "raspberry\n"
     ]
    }
   ],
   "source": [
    "# Other Languages\n",
    "for i in range(len(list_of_fruits)):\n",
    "    fruit = list_of_fruits[i]\n",
    "    print(fruit)"
   ]
  },
  {
   "cell_type": "code",
   "execution_count": 81,
   "metadata": {},
   "outputs": [
    {
     "data": {
      "text/plain": [
       "'raspberry'"
      ]
     },
     "execution_count": 81,
     "metadata": {},
     "output_type": "execute_result"
    }
   ],
   "source": [
    "# Other languages\n",
    "list_of_fruits[len(list_of_fruits) - 1]\n",
    "# list_of_fruits[-1]"
   ]
  },
  {
   "cell_type": "markdown",
   "metadata": {
    "slideshow": {
     "slide_type": "subslide"
    }
   },
   "source": [
    "## Slicing\n",
    "* Python has a very powerful feature called _slicing_ which allows you to specify a _slice_ (or subset) of a list (or a string as it turns out), rather than just a single element\n",
    "* slice syntax: __`container[start:stop:step]`__\n",
    "  * __`start`__ = the index at which to start\n",
    "  * __`stop`__ = the index at which to stop (+1 or -1 depending on which direction)\n",
    "  * __`step`__ = how many indices to move forward (or backward)\n",
    "  * __`start`__, __`stop`__, and __`step`__ are _optional_!"
   ]
  },
  {
   "cell_type": "code",
   "execution_count": 82,
   "metadata": {},
   "outputs": [
    {
     "data": {
      "text/plain": [
       "'Benjamin Franklin'"
      ]
     },
     "execution_count": 82,
     "metadata": {},
     "output_type": "execute_result"
    }
   ],
   "source": [
    "string = 'Frank Benedict eats jam in the morning'\n",
    "string[6:9] + string[20:23] + string[24:27] + string[:5] + 'lin'"
   ]
  },
  {
   "cell_type": "code",
   "execution_count": 83,
   "metadata": {},
   "outputs": [
    {
     "name": "stdout",
     "output_type": "stream",
     "text": [
      "13th letter of the alphabet is m\n",
      "Every other letter in the 1st half of the alphabet: acegikm\n",
      "Every other letter in the 2nd half of the alphabet: nprtvxz\n",
      "The alphabet backwards is zyxwvutsrqponmlkjihgfedcba\n"
     ]
    }
   ],
   "source": [
    "alphabet = 'abcdefghijklmnopqrstuvwxyz'\n",
    "print('13th letter of the alphabet is', alphabet[12])\n",
    "print('Every other letter in the 1st half of the alphabet:',\n",
    "      alphabet[:13:2])\n",
    "print('Every other letter in the 2nd half of the alphabet:',\n",
    "      alphabet[13::2])\n",
    "print('The alphabet backwards is', alphabet[::-1])"
   ]
  },
  {
   "cell_type": "code",
   "execution_count": 84,
   "metadata": {},
   "outputs": [
    {
     "name": "stdout",
     "output_type": "stream",
     "text": [
      "Enter a string: Python is neat\n",
      "The last 3 characters of the string are: eat\n"
     ]
    }
   ],
   "source": [
    "string = input('Enter a string: ')\n",
    "print('The last 3 characters of the string are:',\n",
    "      string[-3:])"
   ]
  },
  {
   "cell_type": "code",
   "execution_count": 87,
   "metadata": {
    "slideshow": {
     "slide_type": "-"
    }
   },
   "outputs": [
    {
     "name": "stdout",
     "output_type": "stream",
     "text": [
      "['bananas', 'apple', 'pear', 'mango', 'cherry', 'blueberry', 'raspberry']\n",
      "['raspberry', 'blueberry', 'cherry', 'mango', 'pear', 'apple', 'bananas']\n",
      "['mango', 'cherry', 'blueberry', 'raspberry']\n",
      "['bananas', 'apple', 'pear']\n",
      "The middle 3 fruits: ['pear', 'mango', 'cherry']\n",
      "Every other fruit: ['bananas', 'pear', 'cherry', 'raspberry']\n"
     ]
    },
    {
     "data": {
      "text/plain": [
       "['bananas', 'apple', 'pear', 'mango', 'cherry', 'blueberry', 'raspberry']"
      ]
     },
     "execution_count": 87,
     "metadata": {},
     "output_type": "execute_result"
    }
   ],
   "source": [
    "# Works the same with lists...\n",
    "print(list_of_fruits)\n",
    "print(list_of_fruits[::-1])\n",
    "print(list_of_fruits[3:])\n",
    "print(list_of_fruits[:3])\n",
    "print('The middle 3 fruits:', \n",
    "      list_of_fruits[2:5])\n",
    "print('Every other fruit:', list_of_fruits[::2])\n",
    "new_list_of_fruits = list_of_fruits[:]\n",
    "new_list_of_fruits"
   ]
  },
  {
   "cell_type": "markdown",
   "metadata": {
    "slideshow": {
     "slide_type": "subslide"
    }
   },
   "source": [
    "## Lab: Slicing\n",
    "1. print the letters of a string with a '+' between each pair of letters, but do not print a '+' after the final letter, i.e., 'h + e + l + l + o'  \n",
    "  * to do this, I want you to iterate through a _slice_ of the string which does not contain the last character, and then print the last character by itself\n",
    "2. create a list and use slicing to print the second half of the list, followed by the first half of the list\n",
    "  * once you've done this, do it again such that it does not print the middle item\n",
    "\n",
    "<pre><b>\n",
    "          [ 'one', 'two', 'three', 'four' ] => three four one two\n",
    "          [ 1, 2, 3, 4, 5 ] => 4 5 1 2\n",
    "</b></pre>"
   ]
  },
  {
   "cell_type": "code",
   "execution_count": 96,
   "metadata": {},
   "outputs": [
    {
     "name": "stdout",
     "output_type": "stream",
     "text": [
      "h+e+l+l+o\n"
     ]
    }
   ],
   "source": [
    "word = 'hello'\n",
    "output = ''\n",
    "for char in word[:-1]:\n",
    "    output += char + '+'\n",
    "output += word[-1]\n",
    "print(output)\n",
    "\n",
    "out2 = ''\n",
    "for i in range(len(word)):\n",
    "    out2 += word[i] + '+'\n"
   ]
  },
  {
   "cell_type": "code",
   "execution_count": null,
   "metadata": {},
   "outputs": [],
   "source": []
  },
  {
   "cell_type": "code",
   "execution_count": 90,
   "metadata": {},
   "outputs": [
    {
     "name": "stdout",
     "output_type": "stream",
     "text": [
      "Fixed it!\n"
     ]
    }
   ],
   "source": [
    "#print('Hello World!')\n",
    "print = 123\n",
    "#print('Oops!')\n",
    "del print\n",
    "print('Fixed it!')\n"
   ]
  },
  {
   "cell_type": "code",
   "execution_count": 95,
   "metadata": {},
   "outputs": [
    {
     "name": "stdout",
     "output_type": "stream",
     "text": [
      "Hello World!\n",
      "Isn't this better than regular printing?\n"
     ]
    }
   ],
   "source": [
    "import builtins\n",
    "builtins.print('Hello World!')\n",
    "dir(print)\n",
    "type(print)\n",
    "\n",
    "mysupercoolprintfunction = print\n",
    "\n",
    "mysupercoolprintfunction(\"Isn't this better than regular printing?\")"
   ]
  },
  {
   "cell_type": "markdown",
   "metadata": {
    "slideshow": {
     "slide_type": "subslide"
    }
   },
   "source": [
    "## Adding to a List...\n",
    "* the __`append()`__ function will add an item to the end of the list\n",
    "* the __`insert()`__ function will add an item at a particular offset, moving the remaining item down in the process\n",
    "* the __`extend()`__ function (also invoked via the __`+=`__ operator) will add a list to a list, one element at a time\n",
    "* NOTE: these functions (technically called _methods_) are a part of the list itself, which means that they are called by writing __`listname.append(item)`__, __`listname.insert(index, item)`__, and __`listname.extend(otherlist)`__"
   ]
  },
  {
   "cell_type": "code",
   "execution_count": 97,
   "metadata": {},
   "outputs": [
    {
     "name": "stdout",
     "output_type": "stream",
     "text": [
      "['bananas', 'apple', 'pear', 'mango', 'cherry', 'blueberry', 'raspberry']\n"
     ]
    },
    {
     "data": {
      "text/plain": [
       "['bananas',\n",
       " 'apple',\n",
       " 'pear',\n",
       " 'mango',\n",
       " 'cherry',\n",
       " 'blueberry',\n",
       " 'raspberry',\n",
       " 'lemon']"
      ]
     },
     "execution_count": 97,
     "metadata": {},
     "output_type": "execute_result"
    }
   ],
   "source": [
    "print(list_of_fruits)\n",
    "list_of_fruits.append('lemon') # NOT append(list_of_fruits, 'lemon')\n",
    "list_of_fruits"
   ]
  },
  {
   "cell_type": "code",
   "execution_count": 98,
   "metadata": {},
   "outputs": [
    {
     "name": "stdout",
     "output_type": "stream",
     "text": [
      "['bananas', 'apple', 'pear', 'mango', 'tomato', 'cherry', 'blueberry', 'raspberry', 'lemon']\n"
     ]
    }
   ],
   "source": [
    "list_of_fruits.insert(4, 'tomato')\n",
    "print(list_of_fruits)"
   ]
  },
  {
   "cell_type": "code",
   "execution_count": 99,
   "metadata": {},
   "outputs": [
    {
     "name": "stdout",
     "output_type": "stream",
     "text": [
      "['bananas', 'apple', 'pear', 'mango', 'tomato', 'cherry', 'blueberry', 'raspberry', 'lemon', 'lime', 'watermelon']\n"
     ]
    }
   ],
   "source": [
    "more_fruits = ['lime', 'watermelon']\n",
    "list_of_fruits.extend(more_fruits) # list_of_fruits += more_fruits\n",
    "print(list_of_fruits)"
   ]
  },
  {
   "cell_type": "code",
   "execution_count": 108,
   "metadata": {},
   "outputs": [
    {
     "name": "stdout",
     "output_type": "stream",
     "text": [
      "['JR', 'Spencer', 'Alex', ['Dave', 'Rick']]\n",
      "Rick\n",
      "['JR', 'Spencer', 'Alex', ['Dave', 'Rick'], 'Kameron']\n",
      "['JR', 'Spencer', 'Alex', ['Dave', 'Rick'], 'Kameron', 'Dave', 'Rick']\n"
     ]
    }
   ],
   "source": [
    "list_names = ['JR', 'Spencer', 'Alex']\n",
    "other_instructors = ['Dave', 'Rick']\n",
    "list_names.append(other_instructors)\n",
    "print(list_names)\n",
    "print(list_names[3][1])\n",
    "list_names.extend(['Kameron'])\n",
    "print(list_names)\n",
    "list_names += other_instructors\n",
    "print(list_names)\n"
   ]
  },
  {
   "cell_type": "markdown",
   "metadata": {
    "slideshow": {
     "slide_type": "subslide"
    }
   },
   "source": [
    "## Lab: Lists\n",
    "* create an empty list\n",
    "* write Python code to repeatedly ask the user for a word until the word is 'quit'\n",
    "* add each word to the list\n",
    "* after the user types 'quit' print every other word (first, third, fifth, etc.)\n",
    "* then print every other word (second, fourth, sixth, etc.)\n"
   ]
  },
  {
   "cell_type": "code",
   "execution_count": null,
   "metadata": {},
   "outputs": [],
   "source": []
  },
  {
   "cell_type": "markdown",
   "metadata": {
    "slideshow": {
     "slide_type": "subslide"
    }
   },
   "source": [
    "## Creating a List with __`split()`__\n",
    "* the __`split()`__ function splits a string into a list\n",
    "* by default, __`split()`__ will split up a string using a space as the separator\n",
    "* ...but you can specify any separator you want"
   ]
  },
  {
   "cell_type": "code",
   "execution_count": 113,
   "metadata": {},
   "outputs": [
    {
     "name": "stdout",
     "output_type": "stream",
     "text": [
      "Enter a string and I will \n",
      " make a list out of it: Hello world\n"
     ]
    },
    {
     "data": {
      "text/plain": [
       "['Hello', 'world']"
      ]
     },
     "execution_count": 113,
     "metadata": {},
     "output_type": "execute_result"
    }
   ],
   "source": [
    "string = input('Enter a string and I will make a list out of it: ')\n",
    "mylist = string.split()\n",
    "mylist"
   ]
  },
  {
   "cell_type": "code",
   "execution_count": 120,
   "metadata": {},
   "outputs": [
    {
     "data": {
      "text/plain": [
       "['eggs', 'milk', 'butter', 'cheese']"
      ]
     },
     "execution_count": 120,
     "metadata": {},
     "output_type": "execute_result"
    }
   ],
   "source": [
    "comma_separated = 'eggs;milk;butter;cheese'\n",
    "shopping_list = comma_separated.split(';')\n",
    "shopping_list"
   ]
  },
  {
   "cell_type": "code",
   "execution_count": 114,
   "metadata": {},
   "outputs": [
    {
     "data": {
      "text/plain": [
       "['Python', 'is', 'really', 'neat']"
      ]
     },
     "execution_count": 114,
     "metadata": {},
     "output_type": "execute_result"
    }
   ],
   "source": [
    "string = 'Python   is  really \\n\\n neat'\n",
    "string.split()"
   ]
  },
  {
   "cell_type": "markdown",
   "metadata": {
    "slideshow": {
     "slide_type": "subslide"
    }
   },
   "source": [
    "## Combining a List into a String with __`join()`__\n",
    "* __`join()`__ is used to take the elements of a list (or any sequence) and concatenate them into a single string\n",
    "* the syntax looks odd because __`join()`__ is a _string_ function–__not a list function__"
   ]
  },
  {
   "cell_type": "code",
   "execution_count": 121,
   "metadata": {},
   "outputs": [
    {
     "data": {
      "text/plain": [
       "'eggs;milk;butter;cheese'"
      ]
     },
     "execution_count": 121,
     "metadata": {},
     "output_type": "execute_result"
    }
   ],
   "source": [
    "';'.join(shopping_list)\n",
    "# want to write shopping_list.join(', ')"
   ]
  },
  {
   "cell_type": "code",
   "execution_count": 118,
   "metadata": {},
   "outputs": [
    {
     "name": "stdout",
     "output_type": "stream",
     "text": [
      "['s', 'a', 'l', 'e', 's', 'f', 'o', 'r', 'c', 'e']\n",
      "salesforce\n"
     ]
    }
   ],
   "source": [
    "list_of_letters = list('salesforce')\n",
    "print(list_of_letters)\n",
    "print(''.join(list_of_letters))"
   ]
  },
  {
   "cell_type": "code",
   "execution_count": 119,
   "metadata": {},
   "outputs": [
    {
     "data": {
      "text/plain": [
       "'h+e+l+l+o'"
      ]
     },
     "execution_count": 119,
     "metadata": {},
     "output_type": "execute_result"
    }
   ],
   "source": [
    "'+'.join(list('hello'))"
   ]
  },
  {
   "cell_type": "code",
   "execution_count": null,
   "metadata": {},
   "outputs": [],
   "source": [
    "del list"
   ]
  },
  {
   "cell_type": "code",
   "execution_count": null,
   "metadata": {},
   "outputs": [],
   "source": [
    "import builtins\n",
    "builtins.list('Happy')"
   ]
  },
  {
   "cell_type": "markdown",
   "metadata": {
    "slideshow": {
     "slide_type": "subslide"
    }
   },
   "source": [
    "## Lab: Jumble (Word Scrambling)\n",
    "* write a program which plays the jumble word game, i.e., it will present you with a scrambled word and you have to come up with the correctly spelled word\n",
    "  * you can use the __`random`__ module for this\n",
    "  * __`random.choice(container)`__ will return a random item from the container\n",
    "  * __`random.shuffle(container)`__ will shuffle a container so the items are scrambled\n",
    "  * you can't shuffle a string, so you'll need to put the characters into a list using the __`list()`__ function, then shuffle the list, then put the back into a string using __`join()`__"
   ]
  },
  {
   "cell_type": "code",
   "execution_count": 129,
   "metadata": {},
   "outputs": [
    {
     "name": "stdout",
     "output_type": "stream",
     "text": [
      "['P', 'y', 't', 'h', 'o', 'n']\n",
      "None\n",
      "['h', 'y', 't', 'n', 'o', 'P']\n"
     ]
    }
   ],
   "source": [
    "import random\n",
    "letters = list('Python')\n",
    "print(letters)\n",
    "print(random.shuffle(letters))\n",
    "print(letters)"
   ]
  },
  {
   "cell_type": "code",
   "execution_count": 122,
   "metadata": {},
   "outputs": [
    {
     "data": {
      "text/plain": [
       "['a', 'b', 'c']"
      ]
     },
     "execution_count": 122,
     "metadata": {},
     "output_type": "execute_result"
    }
   ],
   "source": [
    "mylist = 'a,b,c'.split(',')\n",
    "mylist"
   ]
  },
  {
   "cell_type": "code",
   "execution_count": 123,
   "metadata": {},
   "outputs": [
    {
     "name": "stdout",
     "output_type": "stream",
     "text": [
      "Hello world!\n",
      "None\n"
     ]
    }
   ],
   "source": [
    "output = print('Hello world!')\n",
    "print(output)"
   ]
  },
  {
   "cell_type": "markdown",
   "metadata": {},
   "source": [
    "## Let's make this more fun\n",
    "## A quick peek at File I/O"
   ]
  },
  {
   "cell_type": "code",
   "execution_count": 130,
   "metadata": {},
   "outputs": [
    {
     "name": "stdout",
     "output_type": "stream",
     "text": [
      "208 wordlist.txt\r\n"
     ]
    }
   ],
   "source": [
    "!wc -l wordlist.txt"
   ]
  },
  {
   "cell_type": "code",
   "execution_count": 131,
   "metadata": {},
   "outputs": [
    {
     "name": "stdout",
     "output_type": "stream",
     "text": [
      "/home/jr/code/cohort-05/03_intro_to_programming\r\n"
     ]
    }
   ],
   "source": [
    "!pwd"
   ]
  },
  {
   "cell_type": "code",
   "execution_count": 135,
   "metadata": {},
   "outputs": [
    {
     "name": "stdout",
     "output_type": "stream",
     "text": [
      "Word is: abandon\n",
      "Word is: abundant\n",
      "Word is: access\n",
      "Word is: accommodate\n",
      "Word is: accumulate\n",
      "Word is: adapt\n",
      "Word is: adhere\n",
      "Word is: agony\n",
      "Word is: allegiance\n",
      "Word is: ambition\n",
      "Word is: ample\n",
      "Word is: anguish\n",
      "Word is: anticipate\n",
      "Word is: anxious\n",
      "Word is: apparel\n",
      "Word is: appeal\n",
      "Word is: apprehensive\n",
      "Word is: arid\n",
      "Word is: arrogant\n",
      "Word is: barren\n",
      "Word is: beacon\n",
      "Word is: beneficial\n",
      "Word is: blunder\n",
      "Word is: boisterous\n",
      "Word is: boycott\n",
      "Word is: burden\n",
      "Word is: campaign\n",
      "Word is: capacity\n",
      "Word is: capital\n",
      "Word is: chronological\n",
      "Word is: civic\n",
      "Word is: clarity\n",
      "Word is: collaborate\n",
      "Word is: collide\n",
      "Word is: commend\n",
      "Word is: commentary\n",
      "Word is: compact\n",
      "Word is: composure\n",
      "Word is: concise\n",
      "Word is: consent\n",
      "Word is: consequence\n",
      "Word is: conserve\n",
      "Word is: conspicuous\n",
      "Word is: constant\n",
      "Word is: contaminate\n",
      "Word is: context\n",
      "Word is: continuous\n",
      "Word is: controversy\n",
      "Word is: convenient\n",
      "Word is: cope\n",
      "Word is: cordial\n",
      "Word is: cultivate\n",
      "Word is: cumulative\n",
      "Word is: declare\n",
      "Word is: deluge\n",
      "Word is: dense\n",
      "Word is: deplete\n",
      "Word is: deposit\n",
      "Word is: designate\n",
      "Word is: desperate\n",
      "Word is: deteriorate\n",
      "Word is: dialogue\n",
      "Word is: diligent\n",
      "Word is: diminish\n",
      "Word is: discretion\n",
      "Word is: dissent\n",
      "Word is: dissolve\n",
      "Word is: distinct\n",
      "Word is: diversity\n",
      "Word is: domestic\n",
      "Word is: dominate\n",
      "Word is: drastic\n",
      "Word is: duration\n",
      "Word is: dwell\n",
      "Word is: eclipse\n",
      "Word is: economy\n",
      "Word is: eerie\n",
      "Word is: effect\n",
      "Word is: efficient\n",
      "Word is: elaborate\n",
      "Word is: eligible\n",
      "Word is: elude\n",
      "Word is: encounter\n",
      "Word is: equivalent\n",
      "Word is: erupt\n",
      "Word is: esteem\n",
      "Word is: evolve\n",
      "Word is: exaggerate\n",
      "Word is: excel\n",
      "Word is: exclude\n",
      "Word is: expanse\n",
      "Word is: exploit\n",
      "Word is: extinct\n",
      "Word is: extract\n",
      "Word is: factor\n",
      "Word is: former\n",
      "Word is: formulates\n",
      "Word is: fuse\n",
      "Word is: futile\n",
      "Word is: generate\n",
      "Word is: genre\n",
      "Word is: habitat\n",
      "Word is: hazardous\n",
      "Word is: hoax\n",
      "Word is: hostile\n",
      "Word is: idiom\n",
      "Word is: ignite\n",
      "Word is: immense\n",
      "Word is: improvises\n",
      "Word is: inept\n",
      "Word is: inevitable\n",
      "Word is: influence\n",
      "Word is: ingenious\n",
      "Word is: innovation\n",
      "Word is: intimidate\n",
      "Word is: jovial\n",
      "Word is: knack\n",
      "Word is: leeway\n",
      "Word is: legislation\n",
      "Word is: leisure\n",
      "Word is: liberate\n",
      "Word is: likeness\n",
      "Word is: linger\n",
      "Word is: literal\n",
      "Word is: loathe\n",
      "Word is: lure\n",
      "Word is: majority\n",
      "Word is: makeshift\n",
      "Word is: manipulate\n",
      "Word is: marvel\n",
      "Word is: massive\n",
      "Word is: maximum\n",
      "Word is: meager\n",
      "Word is: mere\n",
      "Word is: migration\n",
      "Word is: mimic\n",
      "Word is: minute\n",
      "Word is: monotonous\n",
      "Word is: negotiate\n",
      "Word is: objective\n",
      "Word is: obstacle\n",
      "Word is: omniscient\n",
      "Word is: onset\n",
      "Word is: optimist\n",
      "Word is: originate\n",
      "Word is: painstaking\n",
      "Word is: paraphrase\n",
      "Word is: parody\n",
      "Word is: persecute\n",
      "Word is: plummet\n",
      "Word is: possess\n",
      "Word is: poverty\n",
      "Word is: precise\n",
      "Word is: predicament\n",
      "Word is: predict\n",
      "Word is: prejudice\n",
      "Word is: preliminary\n",
      "Word is: primitive\n",
      "Word is: priority\n",
      "Word is: prominent\n",
      "Word is: propel\n",
      "Word is: prosecute\n",
      "Word is: prosper\n",
      "Word is: provoke\n",
      "Word is: pursue\n",
      "Word is: quest\n",
      "Word is: recount\n",
      "Word is: refuge\n",
      "Word is: reinforce\n",
      "Word is: reluctant\n",
      "Word is: remorse\n",
      "Word is: remote\n",
      "Word is: resolute\n",
      "Word is: restrain\n",
      "Word is: retaliate\n",
      "Word is: retrieve\n",
      "Word is: rigorous\n",
      "Word is: rural\n",
      "Word is: salvage\n",
      "Word is: sanctuary\n",
      "Word is: siege\n",
      "Word is: significant\n",
      "Word is: solar\n",
      "Word is: soothe\n",
      "Word is: stationary\n",
      "Word is: stifle\n",
      "Word is: strive\n",
      "Word is: subordinate\n",
      "Word is: subsequent\n",
      "Word is: superior\n",
      "Word is: supplement\n",
      "Word is: swarm\n",
      "Word is: tangible\n",
      "Word is: terminate\n",
      "Word is: terrain\n",
      "Word is: trait\n",
      "Word is: transform\n",
      "Word is: transport\n",
      "Word is: treacherous\n",
      "Word is: unanimous\n",
      "Word is: unique\n",
      "Word is: unruly\n",
      "Word is: urban\n",
      "Word is: vacate\n",
      "Word is: verdict\n",
      "Word is: verge\n",
      "Word is: vibrant\n",
      "Word is: vital\n"
     ]
    }
   ],
   "source": [
    "with open('wordlist.txt') as wordfile:\n",
    "    for line in wordfile:\n",
    "        print('Word is:', line.strip())"
   ]
  },
  {
   "cell_type": "code",
   "execution_count": 134,
   "metadata": {},
   "outputs": [
    {
     "name": "stdout",
     "output_type": "stream",
     "text": [
      "['_CHUNK_SIZE', '__class__', '__del__', '__delattr__', '__dict__', '__dir__', '__doc__', '__enter__', '__eq__', '__exit__', '__format__', '__ge__', '__getattribute__', '__getstate__', '__gt__', '__hash__', '__init__', '__init_subclass__', '__iter__', '__le__', '__lt__', '__ne__', '__new__', '__next__', '__reduce__', '__reduce_ex__', '__repr__', '__setattr__', '__sizeof__', '__str__', '__subclasshook__', '_checkClosed', '_checkReadable', '_checkSeekable', '_checkWritable', '_finalizing', 'buffer', 'close', 'closed', 'detach', 'encoding', 'errors', 'fileno', 'flush', 'isatty', 'line_buffering', 'mode', 'name', 'newlines', 'read', 'readable', 'readline', 'readlines', 'reconfigure', 'seek', 'seekable', 'tell', 'truncate', 'writable', 'write', 'write_through', 'writelines']\n",
      "<class '_io.TextIOWrapper'>\n",
      "['abandon\\n', 'abundant\\n', 'access\\n', 'accommodate\\n', 'accumulate\\n', 'adapt\\n', 'adhere\\n', 'agony\\n', 'allegiance\\n', 'ambition\\n', 'ample\\n', 'anguish\\n', 'anticipate\\n', 'anxious\\n', 'apparel\\n', 'appeal\\n', 'apprehensive\\n', 'arid\\n', 'arrogant\\n', 'barren\\n', 'beacon\\n', 'beneficial\\n', 'blunder\\n', 'boisterous\\n', 'boycott\\n', 'burden\\n', 'campaign\\n', 'capacity\\n', 'capital\\n', 'chronological\\n', 'civic\\n', 'clarity\\n', 'collaborate\\n', 'collide\\n', 'commend\\n', 'commentary\\n', 'compact\\n', 'composure\\n', 'concise\\n', 'consent\\n', 'consequence\\n', 'conserve\\n', 'conspicuous\\n', 'constant\\n', 'contaminate\\n', 'context\\n', 'continuous\\n', 'controversy\\n', 'convenient\\n', 'cope\\n', 'cordial\\n', 'cultivate\\n', 'cumulative\\n', 'declare\\n', 'deluge\\n', 'dense\\n', 'deplete\\n', 'deposit\\n', 'designate\\n', 'desperate\\n', 'deteriorate\\n', 'dialogue\\n', 'diligent\\n', 'diminish\\n', 'discretion\\n', 'dissent\\n', 'dissolve\\n', 'distinct\\n', 'diversity\\n', 'domestic\\n', 'dominate\\n', 'drastic\\n', 'duration\\n', 'dwell\\n', 'eclipse\\n', 'economy\\n', 'eerie\\n', 'effect\\n', 'efficient\\n', 'elaborate\\n', 'eligible\\n', 'elude\\n', 'encounter\\n', 'equivalent\\n', 'erupt\\n', 'esteem\\n', 'evolve\\n', 'exaggerate\\n', 'excel\\n', 'exclude\\n', 'expanse\\n', 'exploit\\n', 'extinct\\n', 'extract\\n', 'factor\\n', 'former\\n', 'formulates\\n', 'fuse\\n', 'futile\\n', 'generate\\n', 'genre\\n', 'habitat\\n', 'hazardous\\n', 'hoax\\n', 'hostile\\n', 'idiom\\n', 'ignite\\n', 'immense\\n', 'improvises\\n', 'inept\\n', 'inevitable\\n', 'influence\\n', 'ingenious\\n', 'innovation\\n', 'intimidate\\n', 'jovial\\n', 'knack\\n', 'leeway\\n', 'legislation\\n', 'leisure\\n', 'liberate\\n', 'likeness\\n', 'linger\\n', 'literal\\n', 'loathe\\n', 'lure\\n', 'majority\\n', 'makeshift\\n', 'manipulate\\n', 'marvel\\n', 'massive\\n', 'maximum\\n', 'meager\\n', 'mere\\n', 'migration\\n', 'mimic\\n', 'minute\\n', 'monotonous\\n', 'negotiate\\n', 'objective\\n', 'obstacle\\n', 'omniscient\\n', 'onset\\n', 'optimist\\n', 'originate\\n', 'painstaking\\n', 'paraphrase\\n', 'parody\\n', 'persecute\\n', 'plummet\\n', 'possess\\n', 'poverty\\n', 'precise\\n', 'predicament\\n', 'predict\\n', 'prejudice\\n', 'preliminary\\n', 'primitive\\n', 'priority\\n', 'prominent\\n', 'propel\\n', 'prosecute\\n', 'prosper\\n', 'provoke\\n', 'pursue\\n', 'quest\\n', 'recount\\n', 'refuge\\n', 'reinforce\\n', 'reluctant\\n', 'remorse\\n', 'remote\\n', 'resolute\\n', 'restrain\\n', 'retaliate\\n', 'retrieve\\n', 'rigorous\\n', 'rural\\n', 'salvage\\n', 'sanctuary\\n', 'siege\\n', 'significant\\n', 'solar\\n', 'soothe\\n', 'stationary\\n', 'stifle\\n', 'strive\\n', 'subordinate\\n', 'subsequent\\n', 'superior\\n', 'supplement\\n', 'swarm\\n', 'tangible\\n', 'terminate\\n', 'terrain\\n', 'trait\\n', 'transform\\n', 'transport\\n', 'treacherous\\n', 'unanimous\\n', 'unique\\n', 'unruly\\n', 'urban\\n', 'vacate\\n', 'verdict\\n', 'verge\\n', 'vibrant\\n', 'vital\\n']\n"
     ]
    }
   ],
   "source": [
    "words = []\n",
    "file = open('wordlist.txt')\n",
    "file2 = open('whatever.txt')\n",
    "print(dir(file))\n",
    "print(type(file))\n",
    "words = list(file)\n",
    "#for line in file:\n",
    "#    words.append(line.strip())\n",
    "print(words)\n",
    "file.close()\n",
    "file2.close()\n",
    "\n",
    "with open('wordlist.txt') as file, open('someotherfile') as file2:\n",
    "    words = list(file)"
   ]
  },
  {
   "cell_type": "markdown",
   "metadata": {
    "slideshow": {
     "slide_type": "subslide"
    }
   },
   "source": [
    "## Removing Items from a List\n",
    "* __`remove()`__ will remove an item by value\n",
    "* __`pop()`__ will remove an item by index (and return the item)\n",
    "* as is the case with the add functions, we call them as __`listname.remove(item)`__ and __`listname.pop(index)`__"
   ]
  },
  {
   "cell_type": "code",
   "execution_count": 136,
   "metadata": {},
   "outputs": [
    {
     "name": "stdout",
     "output_type": "stream",
     "text": [
      "mango\n"
     ]
    },
    {
     "data": {
      "text/plain": [
       "['banana', 'apple', 'lemon', 'pear', 'fig', 'raspberry', 'lemon']"
      ]
     },
     "execution_count": 136,
     "metadata": {},
     "output_type": "execute_result"
    }
   ],
   "source": [
    "list_of_fruits = ['banana', 'apple', 'lemon', 'pear', 'fig',\n",
    "                  'mango','raspberry', 'lemon']\n",
    "print(list_of_fruits.pop(-3))\n",
    "list_of_fruits"
   ]
  },
  {
   "cell_type": "code",
   "execution_count": 137,
   "metadata": {},
   "outputs": [
    {
     "name": "stdout",
     "output_type": "stream",
     "text": [
      "2\n",
      "['banana', 'apple', 'pear', 'fig', 'raspberry']\n"
     ]
    },
    {
     "ename": "ValueError",
     "evalue": "list.remove(x): x not in list",
     "output_type": "error",
     "traceback": [
      "\u001b[0;31m---------------------------------------------------------------------------\u001b[0m",
      "\u001b[0;31mValueError\u001b[0m                                Traceback (most recent call last)",
      "\u001b[0;32m<ipython-input-137-e401a60c0835>\u001b[0m in \u001b[0;36m<module>\u001b[0;34m\u001b[0m\n\u001b[1;32m      5\u001b[0m     \u001b[0mlist_of_fruits\u001b[0m\u001b[0;34m.\u001b[0m\u001b[0mremove\u001b[0m\u001b[0;34m(\u001b[0m\u001b[0;34m'lemon'\u001b[0m\u001b[0;34m)\u001b[0m\u001b[0;34m\u001b[0m\u001b[0;34m\u001b[0m\u001b[0m\n\u001b[1;32m      6\u001b[0m \u001b[0mprint\u001b[0m\u001b[0;34m(\u001b[0m\u001b[0mlist_of_fruits\u001b[0m\u001b[0;34m)\u001b[0m\u001b[0;34m\u001b[0m\u001b[0;34m\u001b[0m\u001b[0m\n\u001b[0;32m----> 7\u001b[0;31m \u001b[0mlist_of_fruits\u001b[0m\u001b[0;34m.\u001b[0m\u001b[0mremove\u001b[0m\u001b[0;34m(\u001b[0m\u001b[0;34m'lemon'\u001b[0m\u001b[0;34m)\u001b[0m\u001b[0;34m\u001b[0m\u001b[0;34m\u001b[0m\u001b[0m\n\u001b[0m",
      "\u001b[0;31mValueError\u001b[0m: list.remove(x): x not in list"
     ]
    }
   ],
   "source": [
    "# Given what we know so far, remove ALL lemons from the list\n",
    "print(list_of_fruits.count('lemon'))\n",
    "\n",
    "has_lemon = 'lemon' in list_of_fruits\n",
    "while 'lemon' in list_of_fruits:\n",
    "    list_of_fruits.remove('lemon')\n",
    "print(list_of_fruits)\n",
    "list_of_fruits.remove('lemon')"
   ]
  },
  {
   "cell_type": "code",
   "execution_count": 138,
   "metadata": {},
   "outputs": [
    {
     "name": "stdout",
     "output_type": "stream",
     "text": [
      "popping banana\n",
      "['apple', 'pear', 'fig', 'raspberry']\n",
      "popping apple\n",
      "['pear', 'fig', 'raspberry']\n",
      "popping pear\n",
      "['fig', 'raspberry']\n",
      "popping fig\n",
      "['raspberry']\n",
      "popping raspberry\n",
      "[]\n"
     ]
    }
   ],
   "source": [
    "# Take the remaining items and pop each item off until empty\n",
    "while len(list_of_fruits) > 0:\n",
    "    print('popping', list_of_fruits.pop(0))\n",
    "    print(list_of_fruits)"
   ]
  },
  {
   "cell_type": "markdown",
   "metadata": {
    "slideshow": {
     "slide_type": "subslide"
    }
   },
   "source": [
    "## Sorting a List\n",
    "* lists have a __`sort()`__ function\n",
    "* sorting is performed alphabetically or numerically by default\n",
    "* you can choose to sort in reverse (descending) order"
   ]
  },
  {
   "cell_type": "code",
   "execution_count": 139,
   "metadata": {},
   "outputs": [
    {
     "name": "stdout",
     "output_type": "stream",
     "text": [
      "['banana', 'apple', 'lemon', 'pear', 'fig', 'mango', 'lemon']\n",
      "['apple', 'banana', 'fig', 'lemon', 'lemon', 'mango', 'pear']\n",
      "['pear', 'mango', 'lemon', 'lemon', 'fig', 'banana', 'apple']\n"
     ]
    }
   ],
   "source": [
    "list_of_fruits = ['banana', 'apple', 'lemon', 'pear', 'fig', \n",
    "                  'mango', 'lemon']\n",
    "print(list_of_fruits)\n",
    "list_of_fruits.sort()\n",
    "print(list_of_fruits)\n",
    "list_of_fruits.sort(reverse=True)\n",
    "print(list_of_fruits)"
   ]
  },
  {
   "cell_type": "code",
   "execution_count": 140,
   "metadata": {},
   "outputs": [
    {
     "data": {
      "text/plain": [
       "True"
      ]
     },
     "execution_count": 140,
     "metadata": {},
     "output_type": "execute_result"
    }
   ],
   "source": [
    "'banana' > 'apple'"
   ]
  },
  {
   "cell_type": "code",
   "execution_count": 141,
   "metadata": {},
   "outputs": [
    {
     "name": "stdout",
     "output_type": "stream",
     "text": [
      "['apple', 'banana', 'fig', 'lemon', 'lemon', 'mango', 'pear']\n",
      "['pear', 'mango', 'lemon', 'lemon', 'fig', 'banana', 'apple']\n"
     ]
    }
   ],
   "source": [
    "sorted_list = sorted(list_of_fruits)\n",
    "print(sorted_list)\n",
    "print(list_of_fruits)"
   ]
  },
  {
   "cell_type": "code",
   "execution_count": 142,
   "metadata": {},
   "outputs": [
    {
     "name": "stdout",
     "output_type": "stream",
     "text": [
      "['fig', 'pear', 'mango', 'lemon', 'lemon', 'apple', 'banana']\n"
     ]
    }
   ],
   "source": [
    "list_of_fruits.sort(key=len)\n",
    "print(list_of_fruits)"
   ]
  },
  {
   "cell_type": "markdown",
   "metadata": {
    "slideshow": {
     "slide_type": "subslide"
    }
   },
   "source": [
    "## Lab: List Management/Sorting\n",
    "* write a program to read in words\n",
    "* if the word begins with a vowel, put it in \"vowel\" list, otherwise put it in the \"consonant\" list\n",
    "* when the user types \"quit\", stop and print out the sorted list of words that begin with vowels, and the sorted list of words that begin with consonants"
   ]
  },
  {
   "cell_type": "code",
   "execution_count": 143,
   "metadata": {},
   "outputs": [
    {
     "name": "stdout",
     "output_type": "stream",
     "text": [
      "Vowels:  ['abandon', 'abundant', 'access', 'accommodate', 'accumulate', 'adapt', 'adhere', 'agony', 'allegiance', 'ambition', 'ample', 'anguish', 'anticipate', 'anxious', 'apparel', 'appeal', 'apprehensive', 'arid', 'arrogant', 'eclipse', 'economy', 'eerie', 'effect', 'efficient', 'elaborate', 'eligible', 'elude', 'encounter', 'equivalent', 'erupt', 'esteem', 'evolve', 'exaggerate', 'excel', 'exclude', 'expanse', 'exploit', 'extinct', 'extract', 'idiom', 'ignite', 'immense', 'improvises', 'inept', 'inevitable', 'influence', 'ingenious', 'innovation', 'intimidate', 'objective', 'obstacle', 'omniscient', 'onset', 'optimist', 'originate', 'unanimous', 'unique', 'unruly', 'urban']\n",
      "Consonants:  ['barren', 'beacon', 'beneficial', 'blunder', 'boisterous', 'boycott', 'burden', 'campaign', 'capacity', 'capital', 'chronological', 'civic', 'clarity', 'collaborate', 'collide', 'commend', 'commentary', 'compact', 'composure', 'concise', 'consent', 'consequence', 'conserve', 'conspicuous', 'constant', 'contaminate', 'context', 'continuous', 'controversy', 'convenient', 'cope', 'cordial', 'cultivate', 'cumulative', 'declare', 'deluge', 'dense', 'deplete', 'deposit', 'designate', 'desperate', 'deteriorate', 'dialogue', 'diligent', 'diminish', 'discretion', 'dissent', 'dissolve', 'distinct', 'diversity', 'domestic', 'dominate', 'drastic', 'duration', 'dwell', 'factor', 'former', 'formulates', 'fuse', 'futile', 'generate', 'genre', 'habitat', 'hazardous', 'hoax', 'hostile', 'jovial', 'knack', 'leeway', 'legislation', 'leisure', 'liberate', 'likeness', 'linger', 'literal', 'loathe', 'lure', 'majority', 'makeshift', 'manipulate', 'marvel', 'massive', 'maximum', 'meager', 'mere', 'migration', 'mimic', 'minute', 'monotonous', 'negotiate', 'painstaking', 'paraphrase', 'parody', 'persecute', 'plummet', 'possess', 'poverty', 'precise', 'predicament', 'predict', 'prejudice', 'preliminary', 'primitive', 'priority', 'prominent', 'propel', 'prosecute', 'prosper', 'provoke', 'pursue', 'quest', 'recount', 'refuge', 'reinforce', 'reluctant', 'remorse', 'remote', 'resolute', 'restrain', 'retaliate', 'retrieve', 'rigorous', 'rural', 'salvage', 'sanctuary', 'siege', 'significant', 'solar', 'soothe', 'stationary', 'stifle', 'strive', 'subordinate', 'subsequent', 'superior', 'supplement', 'swarm', 'tangible', 'terminate', 'terrain', 'trait', 'transform', 'transport', 'treacherous', 'vacate', 'verdict', 'verge', 'vibrant', 'vital']\n"
     ]
    }
   ],
   "source": [
    "words = []\n",
    "with open('wordlist.txt') as words_file:\n",
    "    for line in words_file:\n",
    "        words.append(line.strip())\n",
    "        \n",
    "vowels, consonants = [], []\n",
    "for word in words:\n",
    "    if word[0] in 'aeiouAEIOU':\n",
    "        vowels.append(word)\n",
    "    else:\n",
    "        consonants.append(word)\n",
    "vowels.sort()\n",
    "consonants.sort()\n",
    "print('Vowels: ', vowels)\n",
    "print('Consonants: ', consonants)"
   ]
  },
  {
   "cell_type": "markdown",
   "metadata": {
    "slideshow": {
     "slide_type": "subslide"
    }
   },
   "source": [
    "## Dictionaries\n",
    "* a Python _dictionary_ is an unordered collection of key-value pairs\n",
    "* instead of using integers as indices, dictionaries use a key, which is often a string\n",
    "* a dictionary maps a key to a value–give it the key as an index, and it will return the value\n",
    "* indeed they are called _maps_ in some languages"
   ]
  },
  {
   "cell_type": "code",
   "execution_count": null,
   "metadata": {},
   "outputs": [],
   "source": []
  },
  {
   "cell_type": "code",
   "execution_count": 144,
   "metadata": {},
   "outputs": [
    {
     "data": {
      "text/plain": [
       "(dict, {'tall': 12, 'grande': 16})"
      ]
     },
     "execution_count": 144,
     "metadata": {},
     "output_type": "execute_result"
    }
   ],
   "source": [
    "# creating a dictionary and initializing it\n",
    "cups = { 'tall': 12, 'grande': 16 }\n",
    "type(cups), cups"
   ]
  },
  {
   "cell_type": "code",
   "execution_count": 145,
   "metadata": {},
   "outputs": [
    {
     "name": "stdout",
     "output_type": "stream",
     "text": [
      "A tall cup contains 12 ounces\n"
     ]
    }
   ],
   "source": [
    "print('A tall cup contains', cups['tall'], 'ounces')"
   ]
  },
  {
   "cell_type": "code",
   "execution_count": 150,
   "metadata": {},
   "outputs": [
    {
     "ename": "KeyError",
     "evalue": "0",
     "output_type": "error",
     "traceback": [
      "\u001b[0;31m---------------------------------------------------------------------------\u001b[0m",
      "\u001b[0;31mKeyError\u001b[0m                                  Traceback (most recent call last)",
      "\u001b[0;32m<ipython-input-150-960072945a43>\u001b[0m in \u001b[0;36m<module>\u001b[0;34m\u001b[0m\n\u001b[0;32m----> 1\u001b[0;31m \u001b[0mcups\u001b[0m\u001b[0;34m[\u001b[0m\u001b[0;36m0\u001b[0m\u001b[0;34m]\u001b[0m\u001b[0;34m\u001b[0m\u001b[0;34m\u001b[0m\u001b[0m\n\u001b[0m",
      "\u001b[0;31mKeyError\u001b[0m: 0"
     ]
    }
   ],
   "source": [
    "cups[0]"
   ]
  },
  {
   "cell_type": "code",
   "execution_count": 151,
   "metadata": {},
   "outputs": [
    {
     "name": "stdout",
     "output_type": "stream",
     "text": [
      "16\n"
     ]
    }
   ],
   "source": [
    "if 'grande' in cups: # only looks at keys\n",
    "    print(cups['grande'])"
   ]
  },
  {
   "cell_type": "code",
   "execution_count": 152,
   "metadata": {},
   "outputs": [
    {
     "name": "stdout",
     "output_type": "stream",
     "text": [
      "tall 12\n",
      "grande 16\n"
     ]
    }
   ],
   "source": [
    "for thing in cups:\n",
    "    print(thing, cups[thing])"
   ]
  },
  {
   "cell_type": "code",
   "execution_count": 153,
   "metadata": {},
   "outputs": [
    {
     "name": "stdout",
     "output_type": "stream",
     "text": [
      "12\n",
      "16\n"
     ]
    }
   ],
   "source": [
    "for v in cups.values():\n",
    "    print(v)"
   ]
  },
  {
   "cell_type": "code",
   "execution_count": 154,
   "metadata": {},
   "outputs": [
    {
     "data": {
      "text/plain": [
       "[('tall', 12), ('grande', 16)]"
      ]
     },
     "execution_count": 154,
     "metadata": {},
     "output_type": "execute_result"
    }
   ],
   "source": [
    "list(cups.items())"
   ]
  },
  {
   "cell_type": "code",
   "execution_count": 157,
   "metadata": {},
   "outputs": [
    {
     "ename": "ValueError",
     "evalue": "not enough values to unpack (expected 3, got 2)",
     "output_type": "error",
     "traceback": [
      "\u001b[0;31m---------------------------------------------------------------------------\u001b[0m",
      "\u001b[0;31mValueError\u001b[0m                                Traceback (most recent call last)",
      "\u001b[0;32m<ipython-input-157-11e8cf828b81>\u001b[0m in \u001b[0;36m<module>\u001b[0;34m\u001b[0m\n\u001b[1;32m      1\u001b[0m \u001b[0mx\u001b[0m\u001b[0;34m,\u001b[0m \u001b[0my\u001b[0m \u001b[0;34m=\u001b[0m \u001b[0;36m3\u001b[0m\u001b[0;34m,\u001b[0m \u001b[0;36m4\u001b[0m\u001b[0;34m\u001b[0m\u001b[0;34m\u001b[0m\u001b[0m\n\u001b[0;32m----> 2\u001b[0;31m \u001b[0mkey\u001b[0m\u001b[0;34m,\u001b[0m \u001b[0mvalue\u001b[0m\u001b[0;34m,\u001b[0m \u001b[0msomething_else\u001b[0m \u001b[0;34m=\u001b[0m \u001b[0;34m(\u001b[0m\u001b[0;34m'tall'\u001b[0m\u001b[0;34m,\u001b[0m \u001b[0;36m12\u001b[0m\u001b[0;34m)\u001b[0m\u001b[0;34m\u001b[0m\u001b[0;34m\u001b[0m\u001b[0m\n\u001b[0m",
      "\u001b[0;31mValueError\u001b[0m: not enough values to unpack (expected 3, got 2)"
     ]
    }
   ],
   "source": [
    "x, y = 3, 4\n",
    "key, value = ('tall', 12)"
   ]
  },
  {
   "cell_type": "code",
   "execution_count": 158,
   "metadata": {},
   "outputs": [
    {
     "name": "stdout",
     "output_type": "stream",
     "text": [
      "tall -> 12\n",
      "grande -> 16\n",
      "dict_items([('tall', 12), ('grande', 16)])\n"
     ]
    }
   ],
   "source": [
    "for size, price in cups.items():\n",
    "    print(size, '->', price)\n",
    "    \n",
    "print(cups.items())"
   ]
  },
  {
   "cell_type": "code",
   "execution_count": 159,
   "metadata": {
    "slideshow": {
     "slide_type": "subslide"
    }
   },
   "outputs": [
    {
     "name": "stdout",
     "output_type": "stream",
     "text": [
      "hola uno café por favor \n"
     ]
    }
   ],
   "source": [
    "# How about a dictionary to translate English into Spanish\n",
    "english_to_spanish = { \n",
    "    'hello': 'hola', \n",
    "    'one': 'uno', \n",
    "    'please': 'por favor', \n",
    "    'coffee': 'café' \n",
    "}\n",
    "for word in \"hello one coffee please\".split():\n",
    "    print(english_to_spanish[word], end=' ')\n",
    "print()"
   ]
  },
  {
   "cell_type": "code",
   "execution_count": 160,
   "metadata": {
    "slideshow": {
     "slide_type": "subslide"
    }
   },
   "outputs": [
    {
     "name": "stdout",
     "output_type": "stream",
     "text": [
      "{'hello': 'hola', 'one': 'uno', 'please': 'por favor', 'coffee': 'café', 'corn': 'maize'}\n",
      "{'hello': 'hola', 'one': 'uno', 'please': 'por favor', 'coffee': 'café', 'corn': 'maize', 'table': 'mesa'}\n",
      "{'hello': 'hola', 'one': 'uno', 'please': 'por favor', 'coffee': 'café', 'corn': 'maize', 'table': 'mesa', 'flour': 'arina'}\n"
     ]
    }
   ],
   "source": [
    "english_to_spanish['corn'] = 'maize'\n",
    "print(english_to_spanish)\n",
    "english_to_spanish['table'] = 'mesa'\n",
    "print(english_to_spanish)\n",
    "english_to_spanish['flour'] = 'arina'\n",
    "print(english_to_spanish)"
   ]
  },
  {
   "cell_type": "code",
   "execution_count": 164,
   "metadata": {},
   "outputs": [
    {
     "data": {
      "text/plain": [
       "['In',\n",
       " 'Out',\n",
       " '_',\n",
       " '_109',\n",
       " '_110',\n",
       " '_111',\n",
       " '_112',\n",
       " '_113',\n",
       " '_114',\n",
       " '_115',\n",
       " '_116',\n",
       " '_117',\n",
       " '_119',\n",
       " '_120',\n",
       " '_121',\n",
       " '_122',\n",
       " '_136',\n",
       " '_140',\n",
       " '_144',\n",
       " '_148',\n",
       " '_149',\n",
       " '_154',\n",
       " '_161',\n",
       " '_163',\n",
       " '_22',\n",
       " '_23',\n",
       " '_24',\n",
       " '_44',\n",
       " '_52',\n",
       " '_53',\n",
       " '_54',\n",
       " '_55',\n",
       " '_56',\n",
       " '_57',\n",
       " '_58',\n",
       " '_62',\n",
       " '_65',\n",
       " '_66',\n",
       " '_67',\n",
       " '_68',\n",
       " '_69',\n",
       " '_70',\n",
       " '_71',\n",
       " '_72',\n",
       " '_73',\n",
       " '_74',\n",
       " '_81',\n",
       " '_82',\n",
       " '_86',\n",
       " '_87',\n",
       " '_93',\n",
       " '_94',\n",
       " '_97',\n",
       " '__',\n",
       " '___',\n",
       " '__builtin__',\n",
       " '__builtins__',\n",
       " '__doc__',\n",
       " '__loader__',\n",
       " '__name__',\n",
       " '__package__',\n",
       " '__spec__',\n",
       " '_dh',\n",
       " '_exit_code',\n",
       " '_i',\n",
       " '_i1',\n",
       " '_i10',\n",
       " '_i100',\n",
       " '_i101',\n",
       " '_i102',\n",
       " '_i103',\n",
       " '_i104',\n",
       " '_i105',\n",
       " '_i106',\n",
       " '_i107',\n",
       " '_i108',\n",
       " '_i109',\n",
       " '_i11',\n",
       " '_i110',\n",
       " '_i111',\n",
       " '_i112',\n",
       " '_i113',\n",
       " '_i114',\n",
       " '_i115',\n",
       " '_i116',\n",
       " '_i117',\n",
       " '_i118',\n",
       " '_i119',\n",
       " '_i12',\n",
       " '_i120',\n",
       " '_i121',\n",
       " '_i122',\n",
       " '_i123',\n",
       " '_i124',\n",
       " '_i125',\n",
       " '_i126',\n",
       " '_i127',\n",
       " '_i128',\n",
       " '_i129',\n",
       " '_i13',\n",
       " '_i130',\n",
       " '_i131',\n",
       " '_i132',\n",
       " '_i133',\n",
       " '_i134',\n",
       " '_i135',\n",
       " '_i136',\n",
       " '_i137',\n",
       " '_i138',\n",
       " '_i139',\n",
       " '_i14',\n",
       " '_i140',\n",
       " '_i141',\n",
       " '_i142',\n",
       " '_i143',\n",
       " '_i144',\n",
       " '_i145',\n",
       " '_i146',\n",
       " '_i147',\n",
       " '_i148',\n",
       " '_i149',\n",
       " '_i15',\n",
       " '_i150',\n",
       " '_i151',\n",
       " '_i152',\n",
       " '_i153',\n",
       " '_i154',\n",
       " '_i155',\n",
       " '_i156',\n",
       " '_i157',\n",
       " '_i158',\n",
       " '_i159',\n",
       " '_i16',\n",
       " '_i160',\n",
       " '_i161',\n",
       " '_i162',\n",
       " '_i163',\n",
       " '_i164',\n",
       " '_i17',\n",
       " '_i18',\n",
       " '_i19',\n",
       " '_i2',\n",
       " '_i20',\n",
       " '_i21',\n",
       " '_i22',\n",
       " '_i23',\n",
       " '_i24',\n",
       " '_i25',\n",
       " '_i26',\n",
       " '_i27',\n",
       " '_i28',\n",
       " '_i29',\n",
       " '_i3',\n",
       " '_i30',\n",
       " '_i31',\n",
       " '_i32',\n",
       " '_i33',\n",
       " '_i34',\n",
       " '_i35',\n",
       " '_i36',\n",
       " '_i37',\n",
       " '_i38',\n",
       " '_i39',\n",
       " '_i4',\n",
       " '_i40',\n",
       " '_i41',\n",
       " '_i42',\n",
       " '_i43',\n",
       " '_i44',\n",
       " '_i45',\n",
       " '_i46',\n",
       " '_i47',\n",
       " '_i48',\n",
       " '_i49',\n",
       " '_i5',\n",
       " '_i50',\n",
       " '_i51',\n",
       " '_i52',\n",
       " '_i53',\n",
       " '_i54',\n",
       " '_i55',\n",
       " '_i56',\n",
       " '_i57',\n",
       " '_i58',\n",
       " '_i59',\n",
       " '_i6',\n",
       " '_i60',\n",
       " '_i61',\n",
       " '_i62',\n",
       " '_i63',\n",
       " '_i64',\n",
       " '_i65',\n",
       " '_i66',\n",
       " '_i67',\n",
       " '_i68',\n",
       " '_i69',\n",
       " '_i7',\n",
       " '_i70',\n",
       " '_i71',\n",
       " '_i72',\n",
       " '_i73',\n",
       " '_i74',\n",
       " '_i75',\n",
       " '_i76',\n",
       " '_i77',\n",
       " '_i78',\n",
       " '_i79',\n",
       " '_i8',\n",
       " '_i80',\n",
       " '_i81',\n",
       " '_i82',\n",
       " '_i83',\n",
       " '_i84',\n",
       " '_i85',\n",
       " '_i86',\n",
       " '_i87',\n",
       " '_i88',\n",
       " '_i89',\n",
       " '_i9',\n",
       " '_i90',\n",
       " '_i91',\n",
       " '_i92',\n",
       " '_i93',\n",
       " '_i94',\n",
       " '_i95',\n",
       " '_i96',\n",
       " '_i97',\n",
       " '_i98',\n",
       " '_i99',\n",
       " '_ih',\n",
       " '_ii',\n",
       " '_iii',\n",
       " '_oh',\n",
       " 'alphabet',\n",
       " 'builtins',\n",
       " 'char',\n",
       " 'check',\n",
       " 'comma_separated',\n",
       " 'consonants',\n",
       " 'cups',\n",
       " 'empty_list',\n",
       " 'english_to_spanish',\n",
       " 'exit',\n",
       " 'file',\n",
       " 'first',\n",
       " 'first_list',\n",
       " 'fruit',\n",
       " 'funnylist',\n",
       " 'get_ipython',\n",
       " 'i',\n",
       " 'item',\n",
       " 'key',\n",
       " 'letters',\n",
       " 'line',\n",
       " 'list_names',\n",
       " 'list_of_fruits',\n",
       " 'list_of_letters',\n",
       " 'message',\n",
       " 'more_fruits',\n",
       " 'mylist',\n",
       " 'mysupercoolprintfunction',\n",
       " 'n',\n",
       " 'name',\n",
       " 'new_list_of_fruits',\n",
       " 'num',\n",
       " 'number',\n",
       " 'other_instructors',\n",
       " 'ouput',\n",
       " 'output',\n",
       " 'price',\n",
       " 'quit',\n",
       " 'random',\n",
       " 'second',\n",
       " 'second_list',\n",
       " 'shopping_list',\n",
       " 'size',\n",
       " 'sorted_list',\n",
       " 'string',\n",
       " 'text',\n",
       " 'thing',\n",
       " 'third_list',\n",
       " 'this',\n",
       " 'total',\n",
       " 'v',\n",
       " 'value',\n",
       " 'vowels',\n",
       " 'word',\n",
       " 'wordfile',\n",
       " 'words',\n",
       " 'words_file',\n",
       " 'x',\n",
       " 'y']"
      ]
     },
     "execution_count": 164,
     "metadata": {},
     "output_type": "execute_result"
    }
   ],
   "source": [
    "dir(english_to_spanish)\n",
    "english_to_spanish.__class__.__dict__\n",
    "dir()"
   ]
  },
  {
   "cell_type": "markdown",
   "metadata": {
    "slideshow": {
     "slide_type": "subslide"
    }
   },
   "source": [
    "## Lab: Roman Numerals\n",
    "* write a program that converts Roman numerals to Arabic numerals\n",
    "* use a dictionary where the keys are Roman numerals and the values are Arabic numerals\n",
    "* __`M = 1000, D = 500, C = 100, L = 50, X = 10, V = 5, I = 1`__\n",
    "* for example, __`MDCLXVI`__ would be __`1000 + 500 + 100 + 50 + 10 + 5 + 1 = 1666`__\n",
    "* once you get that working, think about this additional wrinkle:\n",
    "  * if a smaller value precedes a larger value, then the correct thing to do is to subtract the smaller value from the larger value\n",
    "  * e.g., __`IX = 10 - 1 = 9`__\n",
    "  * e.g., __`MCM = 1000 + (1000 - 100) = 1900`__"
   ]
  },
  {
   "cell_type": "code",
   "execution_count": 169,
   "metadata": {},
   "outputs": [
    {
     "name": "stdout",
     "output_type": "stream",
     "text": [
      "Please enter a roman numeral string: MCMJ\n"
     ]
    },
    {
     "ename": "KeyError",
     "evalue": "'J'",
     "output_type": "error",
     "traceback": [
      "\u001b[0;31m---------------------------------------------------------------------------\u001b[0m",
      "\u001b[0;31mKeyError\u001b[0m                                  Traceback (most recent call last)",
      "\u001b[0;32m<ipython-input-169-d186d17d317f>\u001b[0m in \u001b[0;36m<module>\u001b[0;34m\u001b[0m\n\u001b[1;32m     13\u001b[0m \u001b[0mtotal\u001b[0m \u001b[0;34m=\u001b[0m \u001b[0;36m0\u001b[0m\u001b[0;34m\u001b[0m\u001b[0;34m\u001b[0m\u001b[0m\n\u001b[1;32m     14\u001b[0m \u001b[0;32mfor\u001b[0m \u001b[0mdigit\u001b[0m \u001b[0;32min\u001b[0m \u001b[0mroman_string\u001b[0m\u001b[0;34m:\u001b[0m\u001b[0;34m\u001b[0m\u001b[0;34m\u001b[0m\u001b[0m\n\u001b[0;32m---> 15\u001b[0;31m     \u001b[0mvalue\u001b[0m \u001b[0;34m=\u001b[0m \u001b[0mROMAN\u001b[0m\u001b[0;34m[\u001b[0m\u001b[0mdigit\u001b[0m\u001b[0;34m]\u001b[0m\u001b[0;34m\u001b[0m\u001b[0;34m\u001b[0m\u001b[0m\n\u001b[0m\u001b[1;32m     16\u001b[0m     \u001b[0;32mif\u001b[0m \u001b[0mprev_value\u001b[0m \u001b[0;32mand\u001b[0m \u001b[0mprev_value\u001b[0m \u001b[0;34m<\u001b[0m \u001b[0mvalue\u001b[0m\u001b[0;34m:\u001b[0m\u001b[0;34m\u001b[0m\u001b[0;34m\u001b[0m\u001b[0m\n\u001b[1;32m     17\u001b[0m         \u001b[0mtotal\u001b[0m \u001b[0;34m+=\u001b[0m \u001b[0mvalue\u001b[0m \u001b[0;34m-\u001b[0m \u001b[0;34m(\u001b[0m\u001b[0;36m2\u001b[0m \u001b[0;34m*\u001b[0m \u001b[0mprev_value\u001b[0m\u001b[0;34m)\u001b[0m\u001b[0;34m\u001b[0m\u001b[0;34m\u001b[0m\u001b[0m\n",
      "\u001b[0;31mKeyError\u001b[0m: 'J'"
     ]
    }
   ],
   "source": [
    "ROMAN = {\n",
    "    'M': 1000,\n",
    "    'D': 500,\n",
    "    'C': 100,\n",
    "    'L': 50,\n",
    "    'X': 10,\n",
    "    'V': 5,\n",
    "    'I': 1,\n",
    "}\n",
    "\n",
    "roman_string = input('Please enter a roman numeral string: ')\n",
    "prev_value = 0\n",
    "total = 0\n",
    "for digit in roman_string:\n",
    "    value = ROMAN[digit]\n",
    "    if prev_value and prev_value < value:\n",
    "        total += value - (2 * prev_value)\n",
    "    else:\n",
    "        total += value\n",
    "    prev_value = value\n",
    "print('Arabic: ', total)"
   ]
  },
  {
   "cell_type": "markdown",
   "metadata": {
    "slideshow": {
     "slide_type": "subslide"
    }
   },
   "source": [
    "## Lab: Word Counting\n",
    "* write a program to read lines of text entered by the user\n",
    "* split the lines into words, and count the occurrences of each word using a dictionary\n",
    "* if the word is in dictionary (use the __`in`__ operator), increment its count\n",
    "* if the word is NOT in the dictionary, set its count to 1\n",
    "* stop when the user enters 'quit', and print out the words and their counts\n",
    "* BONUS:  Read lines of text from a file instead.  Don't forget to handle puncuation!\n",
    "* EXTRA BONUS: Output your dictionary in order from most to least common words"
   ]
  },
  {
   "cell_type": "code",
   "execution_count": null,
   "metadata": {},
   "outputs": [],
   "source": []
  },
  {
   "cell_type": "markdown",
   "metadata": {
    "slideshow": {
     "slide_type": "subslide"
    }
   },
   "source": [
    "## Deleting from a __`dict`__\n",
    "* __`pop(key)`__ will remove the corresponding key/value pair from the __`dict`__\n",
    "* __`clear()`__ will remove ALL entries"
   ]
  },
  {
   "cell_type": "code",
   "execution_count": 170,
   "metadata": {},
   "outputs": [
    {
     "ename": "KeyError",
     "evalue": "'not there'",
     "output_type": "error",
     "traceback": [
      "\u001b[0;31m---------------------------------------------------------------------------\u001b[0m",
      "\u001b[0;31mKeyError\u001b[0m                                  Traceback (most recent call last)",
      "\u001b[0;32m<ipython-input-170-e7dc492384f1>\u001b[0m in \u001b[0;36m<module>\u001b[0;34m\u001b[0m\n\u001b[0;32m----> 1\u001b[0;31m \u001b[0mcups\u001b[0m\u001b[0;34m.\u001b[0m\u001b[0mpop\u001b[0m\u001b[0;34m(\u001b[0m\u001b[0;34m'not there'\u001b[0m\u001b[0;34m)\u001b[0m\u001b[0;34m\u001b[0m\u001b[0;34m\u001b[0m\u001b[0m\n\u001b[0m",
      "\u001b[0;31mKeyError\u001b[0m: 'not there'"
     ]
    }
   ],
   "source": [
    "cups.pop('not there')"
   ]
  },
  {
   "cell_type": "code",
   "execution_count": 171,
   "metadata": {},
   "outputs": [
    {
     "data": {
      "text/plain": [
       "{'tall': 12}"
      ]
     },
     "execution_count": 171,
     "metadata": {},
     "output_type": "execute_result"
    }
   ],
   "source": [
    "if 'grande' in cups:\n",
    "    cups.pop('grande')\n",
    "cups"
   ]
  },
  {
   "cell_type": "code",
   "execution_count": 172,
   "metadata": {},
   "outputs": [
    {
     "data": {
      "text/plain": [
       "{}"
      ]
     },
     "execution_count": 172,
     "metadata": {},
     "output_type": "execute_result"
    }
   ],
   "source": [
    "cups.clear()\n",
    "cups"
   ]
  },
  {
   "cell_type": "markdown",
   "metadata": {
    "slideshow": {
     "slide_type": "slide"
    }
   },
   "source": [
    "# Defining Our Own Functions"
   ]
  },
  {
   "cell_type": "markdown",
   "metadata": {
    "slideshow": {
     "slide_type": "subslide"
    }
   },
   "source": [
    "## What is a Function (Redux)?\n",
    "* a _function_ is a named, self-contained snippet of code which performs a specific task\n",
    "* functions are sometimes called procedures, subprograms, or methods\n",
    "* functions can accept some data as input, and can return some data as output\n",
    "* the input, which is optional, is called _parameters_ or _arguments_\n",
    "* the output, which is also optional, is called the _return value_\n",
    "* we use the __`def`__ keyword to define a function\n",
    "* the body of the function is indented\n",
    "* syntax\n",
    "\n",
    "<pre>\n",
    "    <b>\n",
    "    def funcname(arg1, arg2, ...):\n",
    "        statement(s)\n",
    "    </b>\n",
    "</pre>"
   ]
  },
  {
   "cell_type": "code",
   "execution_count": 173,
   "metadata": {},
   "outputs": [
    {
     "name": "stdout",
     "output_type": "stream",
     "text": [
      "---------------------------------------------------------------\n",
      "   RESTRICTED ACCESS   RESTRICTED ACCESS   RESTRICTED ACCESS\n",
      "---------------------------------------------------------------\n",
      "you should not be reading this\n",
      "---------------------------------------------------------------\n",
      "   RESTRICTED ACCESS   RESTRICTED ACCESS   RESTRICTED ACCESS\n",
      "---------------------------------------------------------------\n"
     ]
    }
   ],
   "source": [
    "# Here is a function which takes no input (parameters) and has\n",
    "# no return value. The things that are printed by the function\n",
    "# are not considered a return value.\n",
    "\n",
    "def print_header():\n",
    "    print('-' * 63)\n",
    "    print('   RESTRICTED ACCESS' * 3)\n",
    "    print('-' * 63)\n",
    "    \n",
    "print_header()\n",
    "print('you should not be reading this')\n",
    "print_header()"
   ]
  },
  {
   "cell_type": "code",
   "execution_count": 174,
   "metadata": {},
   "outputs": [],
   "source": [
    "# This function takes a single argument (or parameter),\n",
    "# but it does not return anything.\n",
    "def pretty_print(message):\n",
    "    print_header()\n",
    "    print(message)\n",
    "    print_header()"
   ]
  },
  {
   "cell_type": "code",
   "execution_count": 175,
   "metadata": {},
   "outputs": [
    {
     "name": "stdout",
     "output_type": "stream",
     "text": [
      "---------------------------------------------------------------\n",
      "   RESTRICTED ACCESS   RESTRICTED ACCESS   RESTRICTED ACCESS\n",
      "---------------------------------------------------------------\n",
      "          DO NOT LOOK AT THIS SCREEN!\n",
      "---------------------------------------------------------------\n",
      "   RESTRICTED ACCESS   RESTRICTED ACCESS   RESTRICTED ACCESS\n",
      "---------------------------------------------------------------\n"
     ]
    }
   ],
   "source": [
    "pretty_print('          DO NOT LOOK AT THIS SCREEN!')"
   ]
  },
  {
   "cell_type": "code",
   "execution_count": 176,
   "metadata": {},
   "outputs": [
    {
     "name": "stdout",
     "output_type": "stream",
     "text": [
      "the sum of 32 and 48 is 80\n"
     ]
    }
   ],
   "source": [
    "# This function takes two arguments\n",
    "def print_sum(num1, num2):\n",
    "    print('the sum of', num1, 'and', num2, 'is', num1 + num2)\n",
    "\n",
    "print_sum(32, 48)"
   ]
  },
  {
   "cell_type": "code",
   "execution_count": 200,
   "metadata": {},
   "outputs": [
    {
     "name": "stdout",
     "output_type": "stream",
     "text": [
      "the sum of 1 and 2 is 3\n"
     ]
    },
    {
     "data": {
      "text/plain": [
       "<function __main__.print_sum(num1, num2)>"
      ]
     },
     "execution_count": 200,
     "metadata": {},
     "output_type": "execute_result"
    }
   ],
   "source": [
    "type(print_sum)\n",
    "dir(print_sum)\n",
    "i = 5\n",
    "i + 2\n",
    "dir(i)\n",
    "print_sum(1, 2)\n",
    "dir(print_sum)\n",
    "#i()\n",
    "print_sum\n",
    "#print_sum = function() <code here>"
   ]
  },
  {
   "cell_type": "markdown",
   "metadata": {
    "slideshow": {
     "slide_type": "subslide"
    }
   },
   "source": [
    "## Lab: Mastermind/Cows and Bulls Game\n",
    "* your program should generate a 4-digit \"secret\" number, where the digits are  all different\n",
    "* the player tries to guess the number  who gives the number of matches. If the matching digits are in their right positions, they are \"bulls\", if in different positions, they are \"cows\". "
   ]
  },
  {
   "cell_type": "code",
   "execution_count": null,
   "metadata": {},
   "outputs": [],
   "source": []
  },
  {
   "cell_type": "markdown",
   "metadata": {
    "slideshow": {
     "slide_type": "subslide"
    }
   },
   "source": [
    "## Scope\n",
    "* the _scope_ of a variable is the part of the program in which the variable can be accessed\n",
    "* so far we have been creating variables in \"global scope\", which means they can be accessed anywhere in the program, i.e., _globally_\n",
    "* when we create a variable inside a function it can be accessed from that point until the end of the function–once the function exits, the variable is no longer accessible"
   ]
  },
  {
   "cell_type": "code",
   "execution_count": 189,
   "metadata": {
    "scrolled": true
   },
   "outputs": [
    {
     "name": "stdout",
     "output_type": "stream",
     "text": [
      "in function function_scope()\n",
      "creating the variable \"funcvar\"\n",
      "funcvar = this variable was created inside the function\n",
      "leaving function function_scope()\n",
      "25\n"
     ]
    },
    {
     "ename": "NameError",
     "evalue": "name 'funcvar' is not defined",
     "output_type": "error",
     "traceback": [
      "\u001b[0;31m---------------------------------------------------------------------------\u001b[0m",
      "\u001b[0;31mNameError\u001b[0m                                 Traceback (most recent call last)",
      "\u001b[0;32m<ipython-input-189-fb326e1582a6>\u001b[0m in \u001b[0;36m<module>\u001b[0;34m\u001b[0m\n\u001b[1;32m     11\u001b[0m \u001b[0mfunction_scope\u001b[0m\u001b[0;34m(\u001b[0m\u001b[0;34m)\u001b[0m\u001b[0;34m\u001b[0m\u001b[0;34m\u001b[0m\u001b[0m\n\u001b[1;32m     12\u001b[0m \u001b[0mprint\u001b[0m\u001b[0;34m(\u001b[0m\u001b[0mglobalvar\u001b[0m\u001b[0;34m)\u001b[0m\u001b[0;34m\u001b[0m\u001b[0;34m\u001b[0m\u001b[0m\n\u001b[0;32m---> 13\u001b[0;31m \u001b[0mprint\u001b[0m\u001b[0;34m(\u001b[0m\u001b[0mfuncvar\u001b[0m\u001b[0;34m)\u001b[0m\u001b[0;34m\u001b[0m\u001b[0;34m\u001b[0m\u001b[0m\n\u001b[0m",
      "\u001b[0;31mNameError\u001b[0m: name 'funcvar' is not defined"
     ]
    }
   ],
   "source": [
    "globalvar = 25\n",
    "\n",
    "def function_scope():\n",
    "    print('in function function_scope()')\n",
    "    print('creating the variable \"funcvar\"')\n",
    "    globalvar = 52\n",
    "    funcvar = 'this variable was created inside the function'\n",
    "    \n",
    "    print('funcvar =', funcvar)\n",
    "    print('leaving function function_scope()')\n",
    "    \n",
    "function_scope()\n",
    "print(globalvar)\n",
    "print(funcvar)\n"
   ]
  },
  {
   "cell_type": "markdown",
   "metadata": {},
   "source": [
    "## Next Week - No Class\n",
    "### But Remember: Practice makes perfect!\n",
    "### Contact:\n",
    "JR Rickerson  \n",
    "jrrickerson@redrivetstudios.com\n",
    "## Suggested practice activities:\n",
    "* Python Challenge - http://www.pythonchallenge.com\n",
    "* Project Euler - https://projecteuler.net/\n",
    "* Rosetta Code - http://rosettacode.org/wiki/Rosetta_Code\n",
    "* Code Katas\n",
    "    * http://codekata.com/\n",
    "    * https://github.com/gamontal/awesome-katas\n",
    "    * https://github.com/pyatl/jam-sessions\n",
    "    * https://www.codewars.com/\n",
    "* Coding Dojo tool - http://cyber-dojo.org\n",
    "* Choose a simple game (old board games) and implement it!"
   ]
  },
  {
   "cell_type": "markdown",
   "metadata": {
    "slideshow": {
     "slide_type": "subslide"
    }
   },
   "source": [
    "## The __`return`__ Statement\n",
    "* if a function wants to return a value to its caller, it must use the __`return`__ statement\n",
    "* whatever value you put in the __`return`__ statement is returned "
   ]
  },
  {
   "cell_type": "code",
   "execution_count": 182,
   "metadata": {
    "scrolled": true
   },
   "outputs": [
    {
     "name": "stdout",
     "output_type": "stream",
     "text": [
      "55\n",
      "55 -13\n",
      "55\n",
      "-13\n"
     ]
    }
   ],
   "source": [
    "def adder(x, y):\n",
    "    return x + y\n",
    "\n",
    "print(adder(21, 34))\n",
    "\n",
    "def add_and_sub(x, y):\n",
    "    return x + y, x - y\n",
    "\n",
    "summation, diff = add_and_sub(21, 34)\n",
    "result = add_and_sub(21, 34)\n",
    "print(result[0], result[1])\n",
    "print(summation)\n",
    "print(diff)\n"
   ]
  },
  {
   "cell_type": "code",
   "execution_count": 181,
   "metadata": {},
   "outputs": [
    {
     "name": "stdout",
     "output_type": "stream",
     "text": [
      "-2.0\n"
     ]
    }
   ],
   "source": [
    "var = adder(-3, 1.0) # adder() returns the sum of its two arguments\n",
    "print(var)"
   ]
  },
  {
   "cell_type": "code",
   "execution_count": 185,
   "metadata": {},
   "outputs": [
    {
     "name": "stdout",
     "output_type": "stream",
     "text": [
      "['H', 'e', 'l', 'l', 'o']\n"
     ]
    },
    {
     "data": {
      "text/plain": [
       "'G'"
      ]
     },
     "execution_count": 185,
     "metadata": {},
     "output_type": "execute_result"
    }
   ],
   "source": [
    "def make_list(some_string):\n",
    "    return list(some_string)\n",
    "\n",
    "print(make_list('Hello'))\n",
    "newlist = make_list('Goodbye')\n",
    "newlist[0]"
   ]
  },
  {
   "cell_type": "code",
   "execution_count": 183,
   "metadata": {},
   "outputs": [],
   "source": [
    "def add_ints(x, y):\n",
    "    # if x is int\n",
    "    if type(x) != int or type(y) != int:\n",
    "        result = None\n",
    "    else:\n",
    "        result = x + y\n",
    "    return result"
   ]
  },
  {
   "cell_type": "code",
   "execution_count": 187,
   "metadata": {},
   "outputs": [
    {
     "name": "stdout",
     "output_type": "stream",
     "text": [
      "Message started\n",
      "Message done\n",
      "3\n"
     ]
    },
    {
     "ename": "NameError",
     "evalue": "name 'add_stuff' is not defined",
     "output_type": "error",
     "traceback": [
      "\u001b[0;31m---------------------------------------------------------------------------\u001b[0m",
      "\u001b[0;31mNameError\u001b[0m                                 Traceback (most recent call last)",
      "\u001b[0;32m<ipython-input-187-3415fdf0bf02>\u001b[0m in \u001b[0;36m<module>\u001b[0;34m\u001b[0m\n\u001b[1;32m      7\u001b[0m \u001b[0;34m\u001b[0m\u001b[0m\n\u001b[1;32m      8\u001b[0m \u001b[0mprint\u001b[0m\u001b[0;34m(\u001b[0m\u001b[0mwrapper_function\u001b[0m\u001b[0;34m(\u001b[0m\u001b[0;34m'Message'\u001b[0m\u001b[0;34m,\u001b[0m \u001b[0;36m1\u001b[0m\u001b[0;34m,\u001b[0m \u001b[0;36m2\u001b[0m\u001b[0;34m)\u001b[0m\u001b[0;34m)\u001b[0m\u001b[0;34m\u001b[0m\u001b[0;34m\u001b[0m\u001b[0m\n\u001b[0;32m----> 9\u001b[0;31m \u001b[0madd_stuff\u001b[0m\u001b[0;34m(\u001b[0m\u001b[0;36m1\u001b[0m\u001b[0;34m,\u001b[0m \u001b[0;36m2\u001b[0m\u001b[0;34m)\u001b[0m\u001b[0;34m\u001b[0m\u001b[0;34m\u001b[0m\u001b[0m\n\u001b[0m",
      "\u001b[0;31mNameError\u001b[0m: name 'add_stuff' is not defined"
     ]
    }
   ],
   "source": [
    "globalvar = 'hello'\n",
    "def wrapper_function(message, x, y):\n",
    "    print(message, 'started')\n",
    "    something = 'nifty'\n",
    "    def add_stuff(x, y):\n",
    "        return x + y\n",
    "    print(message, 'done')\n",
    "    return add_stuff(x, y)\n",
    "\n",
    "print(wrapper_function('Message', 1, 2))\n",
    "add_stuff(1, 2)"
   ]
  },
  {
   "cell_type": "markdown",
   "metadata": {
    "slideshow": {
     "slide_type": "subslide"
    }
   },
   "source": [
    "## Boolean Functions\n",
    "* functions can return any datatype, but let's consider the class of functions that return a Boolean value, i.e., __`True`__ or __`False`__ \n",
    "* these functions can be used to make our code more readable, especially if we name them __`is_...()`__"
   ]
  },
  {
   "cell_type": "code",
   "execution_count": 202,
   "metadata": {},
   "outputs": [
    {
     "name": "stdout",
     "output_type": "stream",
     "text": [
      "Enter a number: 6\n",
      "6 is an even number\n"
     ]
    }
   ],
   "source": [
    "def is_even(number):\n",
    "    if number % 2 == 0:\n",
    "        return True\n",
    "    else:\n",
    "        return False\n",
    "    #return number % 2 == 0\n",
    "\n",
    "num = int(input('Enter a number: '))\n",
    "if is_even(num):\n",
    "    print(num, 'is an even number')\n",
    "else:\n",
    "    print(num, 'is an ODD number')"
   ]
  },
  {
   "cell_type": "markdown",
   "metadata": {
    "slideshow": {
     "slide_type": "subslide"
    }
   },
   "source": [
    "## Functions Can Call Other Functions\n",
    "* ideally, when we write code to solve a problem, we break the problem down into subproblems, and then break those down further into subproblems, etc.\n",
    "* when the problems are \"small enough,\" we write functions to solve them\n",
    "* a good rule of thumb is that if your explanation of what a function does contains the word _and_, then it needs to be broken down even further\n",
    "* better to have too many functions than too few\n",
    "<pre>\n",
    "    <b>\n",
    "    def task1(arg1, arg2, ...):\n",
    "        statement(s)\n",
    "        task2(...)\n",
    "        statement(s)\n",
    "        \n",
    "    def task2(arg1, arg2, ...):\n",
    "        statement(s)\n",
    "        task3(...)\n",
    "        statement(s)\n",
    "        \n",
    "     def task3(arg1, arg2, ...):\n",
    "        statement(s)\n",
    "        \n",
    "     # Now call the first function\n",
    "     task1(...)   \n",
    "    </b>\n",
    "</pre>\n",
    "* in order for one function to call another, the function being called has to have been seen by the interpreter or Python won't know what it is\n",
    "* but as written above, it's fine, because the Python intepreter sees all three functions before the call of __`task1()`__ occurs"
   ]
  },
  {
   "cell_type": "code",
   "execution_count": 203,
   "metadata": {},
   "outputs": [],
   "source": [
    "def connect_to_db():\n",
    "    pass\n",
    "\n",
    "def query_employee_records():\n",
    "    pass\n",
    "\n",
    "def find_inactive_employees():\n",
    "    pass\n",
    "\n",
    "def delete_employee_credential():\n",
    "    pass\n",
    "\n",
    "def cleanup_inactive_credentials():\n",
    "    connect_to_db()\n",
    "    query_employee_records()\n",
    "    find_inactive_employees()\n",
    "    delete_employee_credential()"
   ]
  },
  {
   "cell_type": "markdown",
   "metadata": {
    "slideshow": {
     "slide_type": "subslide"
    }
   },
   "source": [
    "## Lab: Functions\n",
    "* write __max3__, a function to find the maximum of three values (first create a function that finds the maximum of two values and have __max3__ call it)\n",
    "* write a function to sum all of the numbers in a list\n",
    "* write a function which accepts a list as its argument and returns a new list with all of the duplicates removed (e.g., __remove_dupes([3, 1, 2, 3, 1, 3, 3, 4, 1])__ would return [3, 1, 2, 4])\n",
    "* write a function to check whether its string argument is a pangram (i.e., it contains all of the letters of the alphabet)\n",
    "* write a Boolean function which accepts a string argument and indicates whether it is a palindrome (i.e., it reads the same backwards and forwards–e.g., \"radar\")\n",
    " * once you get that, try to make it work even if the string contains spaces, e.g., \"Ten animals I slam in a net\"\n",
    " * try to use slices if you didn't already"
   ]
  },
  {
   "cell_type": "code",
   "execution_count": null,
   "metadata": {},
   "outputs": [],
   "source": []
  },
  {
   "cell_type": "markdown",
   "metadata": {
    "slideshow": {
     "slide_type": "slide"
    }
   },
   "source": [
    "\n",
    "# Modules"
   ]
  },
  {
   "cell_type": "markdown",
   "metadata": {
    "slideshow": {
     "slide_type": "subslide"
    }
   },
   "source": [
    "## What is a Module?\n",
    "* a module is file containing one or more related functions\n",
    "* we can _import_ the module into our program, giving us access to those functions\n",
    "* the __`string`__ module used to give us access to functions which manipulate strings, but  these functions have been built in to Python strings for a while\n",
    "  * the real value of the string module is the constants it defines\n",
    "* the __`math`__ module gives us access to math functions such as __`sqrt`__, __`sin`__, and __`factorial`__\n",
    "* the random module gives us access to functions that generate random numbers\n"
   ]
  },
  {
   "cell_type": "code",
   "execution_count": 204,
   "metadata": {},
   "outputs": [
    {
     "name": "stdout",
     "output_type": "stream",
     "text": [
      "0123456789\n",
      "!\"#$%&'()*+,-./:;<=>?@[\\]^_`{|}~\n",
      "ABCDEFGHIJKLMNOPQRSTUVWXYZ\n",
      "abcdefghijklmnopqrstuvwxyzABCDEFGHIJKLMNOPQRSTUVWXYZ\n"
     ]
    }
   ],
   "source": [
    "import string\n",
    "print(string.digits)\n",
    "print(string.punctuation)\n",
    "print(string.ascii_uppercase)\n",
    "print(string.ascii_letters)"
   ]
  },
  {
   "cell_type": "code",
   "execution_count": 212,
   "metadata": {},
   "outputs": [
    {
     "data": {
      "text/plain": [
       "['Formatter',\n",
       " 'Template',\n",
       " '_ChainMap',\n",
       " '_TemplateMetaclass',\n",
       " '__all__',\n",
       " '__builtins__',\n",
       " '__cached__',\n",
       " '__doc__',\n",
       " '__file__',\n",
       " '__loader__',\n",
       " '__name__',\n",
       " '__package__',\n",
       " '__spec__',\n",
       " '_re',\n",
       " '_string',\n",
       " 'ascii_letters',\n",
       " 'ascii_lowercase',\n",
       " 'ascii_uppercase',\n",
       " 'capwords',\n",
       " 'digits',\n",
       " 'hexdigits',\n",
       " 'octdigits',\n",
       " 'printable',\n",
       " 'punctuation',\n",
       " 'whitespace']"
      ]
     },
     "execution_count": 212,
     "metadata": {},
     "output_type": "execute_result"
    }
   ],
   "source": [
    "type(string)\n",
    "dir(string)\n",
    "string.__file__\n",
    "#help(string)\n",
    "jr = string\n",
    "jr.ascii_letters\n",
    "dir(string)"
   ]
  },
  {
   "cell_type": "code",
   "execution_count": 214,
   "metadata": {},
   "outputs": [
    {
     "name": "stdout",
     "output_type": "stream",
     "text": [
      "\"\"\"A collection of string constants.\n",
      "\n",
      "Public module variables:\n",
      "\n",
      "whitespace -- a string containing all ASCII whitespace\n",
      "ascii_lowercase -- a string containing all ASCII lowercase letters\n",
      "ascii_uppercase -- a string containing all ASCII uppercase letters\n",
      "ascii_letters -- a string containing all ASCII letters\n",
      "digits -- a string containing all ASCII decimal digits\n",
      "hexdigits -- a string containing all ASCII hexadecimal digits\n",
      "octdigits -- a string containing all ASCII octal digits\n",
      "punctuation -- a string containing all ASCII punctuation characters\n",
      "printable -- a string containing all ASCII characters considered printable\n",
      "\n",
      "\"\"\"\n",
      "\n",
      "__all__ = [\"ascii_letters\", \"ascii_lowercase\", \"ascii_uppercase\", \"capwords\",\n",
      "           \"digits\", \"hexdigits\", \"octdigits\", \"printable\", \"punctuation\",\n",
      "           \"whitespace\", \"Formatter\", \"Template\"]\n",
      "\n",
      "import _string\n",
      "\n",
      "# Some strings for ctype-style character classification\n",
      "whitespace = ' \\t\\n\\r\\v\\f'\n",
      "ascii_lowercase = 'abcdefghijklmnopqrstuvwxyz'\n",
      "ascii_uppercase = 'ABCDEFGHIJKLMNOPQRSTUVWXYZ'\n",
      "ascii_letters = ascii_lowercase + ascii_uppercase\n",
      "digits = '0123456789'\n",
      "hexdigits = digits + 'abcdef' + 'ABCDEF'\n",
      "octdigits = '01234567'\n",
      "punctuation = r\"\"\"!\"#$%&'()*+,-./:;<=>?@[\\]^_`{|}~\"\"\"\n",
      "printable = digits + ascii_letters + punctuation + whitespace\n",
      "\n",
      "# Functions which aren't available as string methods.\n",
      "\n",
      "# Capitalize the words in a string, e.g. \" aBc  dEf \" -> \"Abc Def\".\n",
      "def capwords(s, sep=None):\n",
      "    \"\"\"capwords(s [,sep]) -> string\n",
      "\n",
      "    Split the argument into words using split, capitalize each\n",
      "    word using capitalize, and join the capitalized words using\n",
      "    join.  If the optional second argument sep is absent or None,\n",
      "    runs of whitespace characters are replaced by a single space\n",
      "    and leading and trailing whitespace are removed, otherwise\n",
      "    sep is used to split and join the words.\n",
      "\n",
      "    \"\"\"\n",
      "    return (sep or ' ').join(x.capitalize() for x in s.split(sep))\n",
      "\n",
      "\n",
      "####################################################################\n",
      "import re as _re\n",
      "from collections import ChainMap as _ChainMap\n",
      "\n",
      "class _TemplateMetaclass(type):\n",
      "    pattern = r\"\"\"\n",
      "    %(delim)s(?:\n",
      "      (?P<escaped>%(delim)s) |   # Escape sequence of two delimiters\n",
      "      (?P<named>%(id)s)      |   # delimiter and a Python identifier\n",
      "      {(?P<braced>%(bid)s)}  |   # delimiter and a braced identifier\n",
      "      (?P<invalid>)              # Other ill-formed delimiter exprs\n",
      "    )\n",
      "    \"\"\"\n",
      "\n",
      "    def __init__(cls, name, bases, dct):\n",
      "        super(_TemplateMetaclass, cls).__init__(name, bases, dct)\n",
      "        if 'pattern' in dct:\n",
      "            pattern = cls.pattern\n",
      "        else:\n",
      "            pattern = _TemplateMetaclass.pattern % {\n",
      "                'delim' : _re.escape(cls.delimiter),\n",
      "                'id'    : cls.idpattern,\n",
      "                'bid'   : cls.braceidpattern or cls.idpattern,\n",
      "                }\n",
      "        cls.pattern = _re.compile(pattern, cls.flags | _re.VERBOSE)\n",
      "\n",
      "\n",
      "class Template(metaclass=_TemplateMetaclass):\n",
      "    \"\"\"A string class for supporting $-substitutions.\"\"\"\n",
      "\n",
      "    delimiter = '$'\n",
      "    # r'[a-z]' matches to non-ASCII letters when used with IGNORECASE, but\n",
      "    # without the ASCII flag.  We can't add re.ASCII to flags because of\n",
      "    # backward compatibility.  So we use the ?a local flag and [a-z] pattern.\n",
      "    # See https://bugs.python.org/issue31672\n",
      "    idpattern = r'(?a:[_a-z][_a-z0-9]*)'\n",
      "    braceidpattern = None\n",
      "    flags = _re.IGNORECASE\n",
      "\n",
      "    def __init__(self, template):\n",
      "        self.template = template\n",
      "\n",
      "    # Search for $$, $identifier, ${identifier}, and any bare $'s\n",
      "\n",
      "    def _invalid(self, mo):\n",
      "        i = mo.start('invalid')\n",
      "        lines = self.template[:i].splitlines(keepends=True)\n",
      "        if not lines:\n",
      "            colno = 1\n",
      "            lineno = 1\n",
      "        else:\n",
      "            colno = i - len(''.join(lines[:-1]))\n",
      "            lineno = len(lines)\n",
      "        raise ValueError('Invalid placeholder in string: line %d, col %d' %\n",
      "                         (lineno, colno))\n",
      "\n",
      "    def substitute(*args, **kws):\n",
      "        if not args:\n",
      "            raise TypeError(\"descriptor 'substitute' of 'Template' object \"\n",
      "                            \"needs an argument\")\n",
      "        self, *args = args  # allow the \"self\" keyword be passed\n",
      "        if len(args) > 1:\n",
      "            raise TypeError('Too many positional arguments')\n",
      "        if not args:\n",
      "            mapping = kws\n",
      "        elif kws:\n",
      "            mapping = _ChainMap(kws, args[0])\n",
      "        else:\n",
      "            mapping = args[0]\n",
      "        # Helper function for .sub()\n",
      "        def convert(mo):\n",
      "            # Check the most common path first.\n",
      "            named = mo.group('named') or mo.group('braced')\n",
      "            if named is not None:\n",
      "                return str(mapping[named])\n",
      "            if mo.group('escaped') is not None:\n",
      "                return self.delimiter\n",
      "            if mo.group('invalid') is not None:\n",
      "                self._invalid(mo)\n",
      "            raise ValueError('Unrecognized named group in pattern',\n",
      "                             self.pattern)\n",
      "        return self.pattern.sub(convert, self.template)\n",
      "\n",
      "    def safe_substitute(*args, **kws):\n",
      "        if not args:\n",
      "            raise TypeError(\"descriptor 'safe_substitute' of 'Template' object \"\n",
      "                            \"needs an argument\")\n",
      "        self, *args = args  # allow the \"self\" keyword be passed\n",
      "        if len(args) > 1:\n",
      "            raise TypeError('Too many positional arguments')\n",
      "        if not args:\n",
      "            mapping = kws\n",
      "        elif kws:\n",
      "            mapping = _ChainMap(kws, args[0])\n",
      "        else:\n",
      "            mapping = args[0]\n",
      "        # Helper function for .sub()\n",
      "        def convert(mo):\n",
      "            named = mo.group('named') or mo.group('braced')\n",
      "            if named is not None:\n",
      "                try:\n",
      "                    return str(mapping[named])\n",
      "                except KeyError:\n",
      "                    return mo.group()\n",
      "            if mo.group('escaped') is not None:\n",
      "                return self.delimiter\n",
      "            if mo.group('invalid') is not None:\n",
      "                return mo.group()\n",
      "            raise ValueError('Unrecognized named group in pattern',\n",
      "                             self.pattern)\n",
      "        return self.pattern.sub(convert, self.template)\n",
      "\n",
      "\n",
      "\n",
      "########################################################################\n",
      "# the Formatter class\n",
      "# see PEP 3101 for details and purpose of this class\n",
      "\n",
      "# The hard parts are reused from the C implementation.  They're exposed as \"_\"\n",
      "# prefixed methods of str.\n",
      "\n",
      "# The overall parser is implemented in _string.formatter_parser.\n",
      "# The field name parser is implemented in _string.formatter_field_name_split\n",
      "\n",
      "class Formatter:\n",
      "    def format(*args, **kwargs):\n",
      "        if not args:\n",
      "            raise TypeError(\"descriptor 'format' of 'Formatter' object \"\n",
      "                            \"needs an argument\")\n",
      "        self, *args = args  # allow the \"self\" keyword be passed\n",
      "        try:\n",
      "            format_string, *args = args # allow the \"format_string\" keyword be passed\n",
      "        except ValueError:\n",
      "            raise TypeError(\"format() missing 1 required positional \"\n",
      "                            \"argument: 'format_string'\") from None\n",
      "        return self.vformat(format_string, args, kwargs)\n",
      "\n",
      "    def vformat(self, format_string, args, kwargs):\n",
      "        used_args = set()\n",
      "        result, _ = self._vformat(format_string, args, kwargs, used_args, 2)\n",
      "        self.check_unused_args(used_args, args, kwargs)\n",
      "        return result\n",
      "\n",
      "    def _vformat(self, format_string, args, kwargs, used_args, recursion_depth,\n",
      "                 auto_arg_index=0):\n",
      "        if recursion_depth < 0:\n",
      "            raise ValueError('Max string recursion exceeded')\n",
      "        result = []\n",
      "        for literal_text, field_name, format_spec, conversion in \\\n",
      "                self.parse(format_string):\n",
      "\n",
      "            # output the literal text\n",
      "            if literal_text:\n",
      "                result.append(literal_text)\n",
      "\n",
      "            # if there's a field, output it\n",
      "            if field_name is not None:\n",
      "                # this is some markup, find the object and do\n",
      "                #  the formatting\n",
      "\n",
      "                # handle arg indexing when empty field_names are given.\n",
      "                if field_name == '':\n",
      "                    if auto_arg_index is False:\n",
      "                        raise ValueError('cannot switch from manual field '\n",
      "                                         'specification to automatic field '\n",
      "                                         'numbering')\n",
      "                    field_name = str(auto_arg_index)\n",
      "                    auto_arg_index += 1\n",
      "                elif field_name.isdigit():\n",
      "                    if auto_arg_index:\n",
      "                        raise ValueError('cannot switch from manual field '\n",
      "                                         'specification to automatic field '\n",
      "                                         'numbering')\n",
      "                    # disable auto arg incrementing, if it gets\n",
      "                    # used later on, then an exception will be raised\n",
      "                    auto_arg_index = False\n",
      "\n",
      "                # given the field_name, find the object it references\n",
      "                #  and the argument it came from\n",
      "                obj, arg_used = self.get_field(field_name, args, kwargs)\n",
      "                used_args.add(arg_used)\n",
      "\n",
      "                # do any conversion on the resulting object\n",
      "                obj = self.convert_field(obj, conversion)\n",
      "\n",
      "                # expand the format spec, if needed\n",
      "                format_spec, auto_arg_index = self._vformat(\n",
      "                    format_spec, args, kwargs,\n",
      "                    used_args, recursion_depth-1,\n",
      "                    auto_arg_index=auto_arg_index)\n",
      "\n",
      "                # format the object and append to the result\n",
      "                result.append(self.format_field(obj, format_spec))\n",
      "\n",
      "        return ''.join(result), auto_arg_index\n",
      "\n",
      "\n",
      "    def get_value(self, key, args, kwargs):\n",
      "        if isinstance(key, int):\n",
      "            return args[key]\n",
      "        else:\n",
      "            return kwargs[key]\n",
      "\n",
      "\n",
      "    def check_unused_args(self, used_args, args, kwargs):\n",
      "        pass\n",
      "\n",
      "\n",
      "    def format_field(self, value, format_spec):\n",
      "        return format(value, format_spec)\n",
      "\n",
      "\n",
      "    def convert_field(self, value, conversion):\n",
      "        # do any conversion on the resulting object\n",
      "        if conversion is None:\n",
      "            return value\n",
      "        elif conversion == 's':\n",
      "            return str(value)\n",
      "        elif conversion == 'r':\n",
      "            return repr(value)\n",
      "        elif conversion == 'a':\n",
      "            return ascii(value)\n",
      "        raise ValueError(\"Unknown conversion specifier {0!s}\".format(conversion))\n",
      "\n",
      "\n",
      "    # returns an iterable that contains tuples of the form:\n",
      "    # (literal_text, field_name, format_spec, conversion)\n",
      "    # literal_text can be zero length\n",
      "    # field_name can be None, in which case there's no\n",
      "    #  object to format and output\n",
      "    # if field_name is not None, it is looked up, formatted\n",
      "    #  with format_spec and conversion and then used\n",
      "    def parse(self, format_string):\n",
      "        return _string.formatter_parser(format_string)\n",
      "\n",
      "\n",
      "    # given a field_name, find the object it references.\n",
      "    #  field_name:   the field being looked up, e.g. \"0.name\"\n",
      "    #                 or \"lookup[3]\"\n",
      "    #  used_args:    a set of which args have been used\n",
      "    #  args, kwargs: as passed in to vformat\n",
      "    def get_field(self, field_name, args, kwargs):\n",
      "        first, rest = _string.formatter_field_name_split(field_name)\n",
      "\n",
      "        obj = self.get_value(first, args, kwargs)\n",
      "\n",
      "        # loop through the rest of the field_name, doing\n",
      "        #  getattr or getitem as needed\n",
      "        for is_attr, i in rest:\n",
      "            if is_attr:\n",
      "                obj = getattr(obj, i)\n",
      "            else:\n",
      "                obj = obj[i]\n",
      "\n",
      "        return obj, first\n",
      "\n"
     ]
    }
   ],
   "source": [
    "import inspect\n",
    "print(inspect.getsource(string))"
   ]
  },
  {
   "cell_type": "code",
   "execution_count": 215,
   "metadata": {},
   "outputs": [
    {
     "name": "stdout",
     "output_type": "stream",
     "text": [
      "1.4142135623730951\n",
      "0.9999999999932537\n",
      "80658175170943878571660636856403766975289505440883277824000000000000\n"
     ]
    }
   ],
   "source": [
    "import math\n",
    "print(math.sqrt(2))\n",
    "print(math.sin(1.5708)) # 90 degrees in radians\n",
    "print(math.factorial(52))"
   ]
  },
  {
   "cell_type": "code",
   "execution_count": 216,
   "metadata": {},
   "outputs": [
    {
     "name": "stdout",
     "output_type": "stream",
     "text": [
      "pear\n",
      "1\n"
     ]
    }
   ],
   "source": [
    "import random\n",
    "# random.choice() is a really useful function which randomly chooses an item from a sequence\n",
    "list_of_fruits = 'apple pear banana guava'.split()\n",
    "print(random.choice(list_of_fruits))\n",
    "# random.randint(a, b) returns a random integer between a and b (inclusive)\n",
    "print(random.randint(1, 100))"
   ]
  },
  {
   "cell_type": "code",
   "execution_count": 217,
   "metadata": {},
   "outputs": [
    {
     "data": {
      "text/plain": [
       "'/usr/lib64/python3.7/random.py'"
      ]
     },
     "execution_count": 217,
     "metadata": {},
     "output_type": "execute_result"
    }
   ],
   "source": [
    "dir(random)\n",
    "random.__file__"
   ]
  },
  {
   "cell_type": "code",
   "execution_count": 219,
   "metadata": {},
   "outputs": [
    {
     "name": "stdout",
     "output_type": "stream",
     "text": [
      "3.141592653589793\n"
     ]
    },
    {
     "data": {
      "text/plain": [
       "2"
      ]
     },
     "execution_count": 219,
     "metadata": {},
     "output_type": "execute_result"
    }
   ],
   "source": [
    "import math as mymath\n",
    "from random import choice as ch\n",
    "\n",
    "print(mymath.pi)\n",
    "ch([1, 2, 3])"
   ]
  },
  {
   "cell_type": "code",
   "execution_count": 220,
   "metadata": {},
   "outputs": [
    {
     "data": {
      "text/plain": [
       "['/home/jr/code/cohort-05/03_intro_to_programming',\n",
       " '/usr/lib64/python37.zip',\n",
       " '/usr/lib64/python3.7',\n",
       " '/usr/lib64/python3.7/lib-dynload',\n",
       " '',\n",
       " '/home/jr/.local/lib/python3.7/site-packages',\n",
       " '/usr/local/lib64/python3.7/site-packages',\n",
       " '/usr/local/lib/python3.7/site-packages',\n",
       " '/usr/lib64/python3.7/site-packages',\n",
       " '/usr/lib/python3.7/site-packages',\n",
       " '/usr/local/lib/python3.7/site-packages/IPython/extensions',\n",
       " '/home/jr/.ipython']"
      ]
     },
     "execution_count": 220,
     "metadata": {},
     "output_type": "execute_result"
    }
   ],
   "source": [
    "import sys\n",
    "sys.path"
   ]
  },
  {
   "cell_type": "markdown",
   "metadata": {},
   "source": [
    "# Object-Oriented Programming/Classes\n",
    "### A very brief introduction"
   ]
  },
  {
   "cell_type": "markdown",
   "metadata": {},
   "source": [
    "## Classes\n",
    "* so far we've looked at built-in types; now we're going to define a new type\n",
    "* class = programmer-defined type"
   ]
  },
  {
   "cell_type": "code",
   "execution_count": 221,
   "metadata": {},
   "outputs": [],
   "source": [
    "# simplest class/object we can create\n",
    "class Person:\n",
    "    pass"
   ]
  },
  {
   "cell_type": "code",
   "execution_count": 222,
   "metadata": {},
   "outputs": [],
   "source": [
    "# to instantiate, or create and object, you call the class as\n",
    "# if were a function\n",
    "somebody = Person()"
   ]
  },
  {
   "cell_type": "code",
   "execution_count": 223,
   "metadata": {},
   "outputs": [
    {
     "data": {
      "text/plain": [
       "<__main__.Person at 0x7fa8c1490e50>"
      ]
     },
     "execution_count": 223,
     "metadata": {},
     "output_type": "execute_result"
    }
   ],
   "source": [
    "somebody # somebody is an instance of the Person class"
   ]
  },
  {
   "cell_type": "code",
   "execution_count": 224,
   "metadata": {},
   "outputs": [
    {
     "data": {
      "text/plain": [
       "(__main__.Person, int)"
      ]
     },
     "execution_count": 224,
     "metadata": {},
     "output_type": "execute_result"
    }
   ],
   "source": [
    "type(somebody), type(3)"
   ]
  },
  {
   "cell_type": "code",
   "execution_count": 225,
   "metadata": {},
   "outputs": [
    {
     "data": {
      "text/plain": [
       "(type, type)"
      ]
     },
     "execution_count": 225,
     "metadata": {},
     "output_type": "execute_result"
    }
   ],
   "source": [
    "type(Person), type(int)"
   ]
  },
  {
   "cell_type": "code",
   "execution_count": 233,
   "metadata": {},
   "outputs": [],
   "source": [
    "class BankAccount:\n",
    "    balance = 0\n",
    "    name = 'Nobody'\n",
    "    # __init__ is like a constructor\n",
    "    # it is used to initialize the object that is created\n",
    "    def __init__(self, name, initial_balance=0):\n",
    "        coolstuff = 'Wow cool'\n",
    "        self.name = name\n",
    "        self.balance = initial_balance\n",
    "        print('in __init__')\n",
    "        \n",
    "    # all methods (with some exceptions) must have self as a first parameter...\n",
    "    # ...even though you don't pass self when you call the method (Python does)\n",
    "    def deposit(self, amount):\n",
    "        if amount > 0:\n",
    "            self.balance += amount\n",
    "            return self.balance\n",
    "        else:\n",
    "            print(\"can't deposit nonpositive amount!\")\n",
    "\n",
    "    def withdraw(self, amount):\n",
    "        if amount > 0:\n",
    "            if amount <= self.balance:\n",
    "                self.balance -= amount\n",
    "                return self.balance\n",
    "            else:\n",
    "                print(\"can't withdraw\", amount, \"or you would be overdrawn!\")\n",
    "        else:\n",
    "            print(\"can't withdraw nonpositive amount!\")\n"
   ]
  },
  {
   "cell_type": "code",
   "execution_count": 239,
   "metadata": {},
   "outputs": [
    {
     "name": "stdout",
     "output_type": "stream",
     "text": [
      "in __init__\n",
      "in __init__\n"
     ]
    }
   ],
   "source": [
    "account1 = BankAccount('Marc Benioff', 345)\n",
    "accountagain = BankAccount('Don', 1000)"
   ]
  },
  {
   "cell_type": "code",
   "execution_count": 238,
   "metadata": {},
   "outputs": [
    {
     "ename": "AttributeError",
     "evalue": "'int' object has no attribute 'name'",
     "output_type": "error",
     "traceback": [
      "\u001b[0;31m---------------------------------------------------------------------------\u001b[0m",
      "\u001b[0;31mAttributeError\u001b[0m                            Traceback (most recent call last)",
      "\u001b[0;32m<ipython-input-238-9751f22a0511>\u001b[0m in \u001b[0;36m<module>\u001b[0;34m\u001b[0m\n\u001b[0;32m----> 1\u001b[0;31m \u001b[0maccount1\u001b[0m\u001b[0;34m.\u001b[0m\u001b[0mname\u001b[0m\u001b[0;34m\u001b[0m\u001b[0;34m\u001b[0m\u001b[0m\n\u001b[0m\u001b[1;32m      2\u001b[0m \u001b[0maccount1\u001b[0m\u001b[0;34m.\u001b[0m\u001b[0mcoolstuff\u001b[0m\u001b[0;34m\u001b[0m\u001b[0;34m\u001b[0m\u001b[0m\n",
      "\u001b[0;31mAttributeError\u001b[0m: 'int' object has no attribute 'name'"
     ]
    }
   ],
   "source": [
    "account1.name\n",
    "account1.coolstuff"
   ]
  },
  {
   "cell_type": "code",
   "execution_count": 229,
   "metadata": {},
   "outputs": [
    {
     "ename": "TypeError",
     "evalue": "__init__() missing 2 required positional arguments: 'name' and 'initial_balance'",
     "output_type": "error",
     "traceback": [
      "\u001b[0;31m---------------------------------------------------------------------------\u001b[0m",
      "\u001b[0;31mTypeError\u001b[0m                                 Traceback (most recent call last)",
      "\u001b[0;32m<ipython-input-229-6f578f4d1a9c>\u001b[0m in \u001b[0;36m<module>\u001b[0;34m\u001b[0m\n\u001b[0;32m----> 1\u001b[0;31m \u001b[0maccount_nope\u001b[0m \u001b[0;34m=\u001b[0m \u001b[0mBankAccount\u001b[0m\u001b[0;34m(\u001b[0m\u001b[0;34m)\u001b[0m\u001b[0;34m\u001b[0m\u001b[0;34m\u001b[0m\u001b[0m\n\u001b[0m",
      "\u001b[0;31mTypeError\u001b[0m: __init__() missing 2 required positional arguments: 'name' and 'initial_balance'"
     ]
    }
   ],
   "source": [
    "account_nope = BankAccount()"
   ]
  },
  {
   "cell_type": "code",
   "execution_count": 240,
   "metadata": {},
   "outputs": [
    {
     "data": {
      "text/plain": [
       "<__main__.BankAccount at 0x7fa8c161fb50>"
      ]
     },
     "execution_count": 240,
     "metadata": {},
     "output_type": "execute_result"
    }
   ],
   "source": [
    "# what is account1?\n",
    "account1"
   ]
  },
  {
   "cell_type": "code",
   "execution_count": 241,
   "metadata": {},
   "outputs": [
    {
     "name": "stdout",
     "output_type": "stream",
     "text": [
      "Marc Benioff 345\n"
     ]
    }
   ],
   "source": [
    "# we can inspect attributes of our newly-created object\n",
    "print(account1.name, account1.balance)"
   ]
  },
  {
   "cell_type": "code",
   "execution_count": 242,
   "metadata": {},
   "outputs": [
    {
     "data": {
      "text/plain": [
       "370"
      ]
     },
     "execution_count": 242,
     "metadata": {},
     "output_type": "execute_result"
    }
   ],
   "source": [
    "# we can deposit money\n",
    "account1.deposit(25)"
   ]
  },
  {
   "cell_type": "code",
   "execution_count": 243,
   "metadata": {},
   "outputs": [
    {
     "data": {
      "text/plain": [
       "365"
      ]
     },
     "execution_count": 243,
     "metadata": {},
     "output_type": "execute_result"
    }
   ],
   "source": [
    "# we can withdraw money\n",
    "account1.withdraw(5)"
   ]
  },
  {
   "cell_type": "markdown",
   "metadata": {},
   "source": [
    "## Classes: \"magic\" methods\n",
    "* __\\_\\_init\\_\\___ is a special initialization method that is invoked when the object is instantiated\n",
    "* __\\_\\_str\\_\\___ returns a string representation of the object (i.e., for humans), maps to str() function\n",
    "* __\\_\\_repr\\_\\___ returns unambiguous representation of the object which could be fed to Python interpreter to recreate the object, maps to repr() function"
   ]
  },
  {
   "cell_type": "code",
   "execution_count": 244,
   "metadata": {},
   "outputs": [
    {
     "data": {
      "text/plain": [
       "('2021-03-19 14:41:47.338739',\n",
       " 'datetime.datetime(2021, 3, 19, 14, 41, 47, 338739)')"
      ]
     },
     "execution_count": 244,
     "metadata": {},
     "output_type": "execute_result"
    }
   ],
   "source": [
    "import datetime\n",
    "today = datetime.datetime.now()\n",
    "str(today), repr(today)"
   ]
  },
  {
   "cell_type": "markdown",
   "metadata": {},
   "source": [
    "## Let's add __\\_\\_`repr`\\_\\_ and __\\_\\_`str`\\_\\_ to our class"
   ]
  },
  {
   "cell_type": "code",
   "execution_count": 245,
   "metadata": {},
   "outputs": [],
   "source": [
    "class BankAccount(object):\n",
    "    def __init__(self, name, initial_balance):\n",
    "        self.name = name\n",
    "        self.balance = initial_balance\n",
    "\n",
    "    '''representation of the object \"feedable\" to Python\n",
    "    interpreter'''\n",
    "    def __repr__(self):\n",
    "        return self.__class__.__name__ + '(' + repr(self.name) \\\n",
    "               + ', ' + repr(self.balance) + ')'\n",
    "\n",
    "    '''string representation of object, for humans\n",
    "    __repr__ is used if __str__ does not exist'''\n",
    "    def __str__(self):\n",
    "        print('in the __str__() function')\n",
    "        return self.name + ' ' + str(self.balance)\n",
    "\n",
    "    def __add__(self, other):\n",
    "        return BankAccount(self.name + ' ' + other.name,\n",
    "                    self.balance + other.balance)\n",
    "    \n",
    "    def deposit(self, amount):\n",
    "        if amount > 0:\n",
    "            self.balance += amount\n",
    "            return self.balance\n",
    "        else:\n",
    "            print(\"can't deposit nonpositive amount!\")\n",
    "\n",
    "    def withdraw(self, amount):\n",
    "        if amount > 0:\n",
    "            if amount <= self.balance:\n",
    "                self.balance -= amount\n",
    "                return self.balance\n",
    "            else:\n",
    "                print(\"can't withdraw\", amount, \"or you would be overdrawn!\")\n",
    "        else:\n",
    "            print(\"can't withdraw nonpositive amount!\")"
   ]
  },
  {
   "cell_type": "code",
   "execution_count": 246,
   "metadata": {},
   "outputs": [],
   "source": [
    "account2 = BankAccount('Gutzon Borglum', 100.0)\n",
    "account3 = BankAccount('Marie Curie', 200.0)"
   ]
  },
  {
   "cell_type": "code",
   "execution_count": 247,
   "metadata": {},
   "outputs": [
    {
     "name": "stdout",
     "output_type": "stream",
     "text": [
      "in the __str__() function\n",
      "Gutzon Borglum 100.0\n"
     ]
    }
   ],
   "source": [
    "# try repr()\n",
    "repr(account2)\n",
    "account3 = BankAccount('Gutzon Borglum', 100.0)\n",
    "print(account3)"
   ]
  },
  {
   "cell_type": "code",
   "execution_count": 248,
   "metadata": {},
   "outputs": [
    {
     "name": "stdout",
     "output_type": "stream",
     "text": [
      "{'name': 'Gutzon Borglum', 'balance': 100.0}\n"
     ]
    }
   ],
   "source": [
    "dir(account3)\n",
    "print(account3.__dict__)"
   ]
  },
  {
   "cell_type": "code",
   "execution_count": 249,
   "metadata": {},
   "outputs": [
    {
     "name": "stdout",
     "output_type": "stream",
     "text": [
      "in the __str__() function\n"
     ]
    },
    {
     "data": {
      "text/plain": [
       "'Gutzon Borglum 100.0'"
      ]
     },
     "execution_count": 249,
     "metadata": {},
     "output_type": "execute_result"
    }
   ],
   "source": [
    "# try str()\n",
    "account2.__str__()"
   ]
  },
  {
   "cell_type": "code",
   "execution_count": 253,
   "metadata": {},
   "outputs": [
    {
     "name": "stdout",
     "output_type": "stream",
     "text": [
      "<class '__main__.BankAccount'>\n"
     ]
    }
   ],
   "source": [
    "print(type(account1))"
   ]
  },
  {
   "cell_type": "markdown",
   "metadata": {},
   "source": [
    "## Other \"magic\" methods\n",
    "* __\\_\\_add\\_\\___ = add two objects together\n",
    "* __\\_\\_eq\\_\\___ = implementation of ==\n",
    "* __\\_\\_ne\\_\\___ = implementation of !=\n",
    "* __\\_\\_len\\_\\___ = implementation of len() method\n",
    "* many others!"
   ]
  },
  {
   "cell_type": "code",
   "execution_count": null,
   "metadata": {},
   "outputs": [],
   "source": []
  }
 ],
 "metadata": {
  "celltoolbar": "Slideshow",
  "kernelspec": {
   "display_name": "Python 3",
   "language": "python",
   "name": "python3"
  },
  "language_info": {
   "codemirror_mode": {
    "name": "ipython",
    "version": 3
   },
   "file_extension": ".py",
   "mimetype": "text/x-python",
   "name": "python",
   "nbconvert_exporter": "python",
   "pygments_lexer": "ipython3",
   "version": "3.7.9"
  }
 },
 "nbformat": 4,
 "nbformat_minor": 1
}
